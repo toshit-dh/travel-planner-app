{
 "cells": [
  {
   "cell_type": "code",
   "execution_count": 433,
   "id": "d5097954-e65f-428d-8f56-921cafac73c2",
   "metadata": {
    "tags": []
   },
   "outputs": [],
   "source": [
    "import pandas as pd\n",
    "import numpy as np\n",
    "import matplotlib.pyplot as plt\n",
    "import seaborn as sns"
   ]
  },
  {
   "cell_type": "code",
   "execution_count": 434,
   "id": "de369430-2184-4c05-8262-a115f9f4303d",
   "metadata": {
    "tags": []
   },
   "outputs": [],
   "source": [
    "df=pd.read_csv('hotel_data1.csv')"
   ]
  },
  {
   "cell_type": "code",
   "execution_count": 435,
   "id": "7ef0e00f-1150-4b7c-b6f7-87d2f7d6ea58",
   "metadata": {
    "tags": []
   },
   "outputs": [
    {
     "data": {
      "text/html": [
       "<div>\n",
       "<style scoped>\n",
       "    .dataframe tbody tr th:only-of-type {\n",
       "        vertical-align: middle;\n",
       "    }\n",
       "\n",
       "    .dataframe tbody tr th {\n",
       "        vertical-align: top;\n",
       "    }\n",
       "\n",
       "    .dataframe thead th {\n",
       "        text-align: right;\n",
       "    }\n",
       "</style>\n",
       "<table border=\"1\" class=\"dataframe\">\n",
       "  <thead>\n",
       "    <tr style=\"text-align: right;\">\n",
       "      <th></th>\n",
       "      <th>Unnamed: 0</th>\n",
       "      <th>name</th>\n",
       "      <th>address</th>\n",
       "      <th>price</th>\n",
       "      <th>city</th>\n",
       "      <th>Check_in_date</th>\n",
       "      <th>Check_out_date</th>\n",
       "      <th>Review</th>\n",
       "      <th>Rating</th>\n",
       "      <th>distance to city centre(km)</th>\n",
       "      <th>...</th>\n",
       "      <th>Spa</th>\n",
       "      <th>Restaurant</th>\n",
       "      <th>Gym</th>\n",
       "      <th>Bar</th>\n",
       "      <th>Bathtub</th>\n",
       "      <th>Meeting Facilities</th>\n",
       "      <th>Connecting rooms available</th>\n",
       "      <th>Pet-friendly</th>\n",
       "      <th>Kitchen</th>\n",
       "      <th>Internet access</th>\n",
       "    </tr>\n",
       "  </thead>\n",
       "  <tbody>\n",
       "    <tr>\n",
       "      <th>0</th>\n",
       "      <td>0</td>\n",
       "      <td>The Park Hyderabad</td>\n",
       "      <td>22 RajBhavan Road Somajiguda Hyderabad Andhra ...</td>\n",
       "      <td>5040</td>\n",
       "      <td>Hyderabad</td>\n",
       "      <td>2021-12-02</td>\n",
       "      <td>2021-02-14</td>\n",
       "      <td>NaN</td>\n",
       "      <td>NaN</td>\n",
       "      <td>4.0</td>\n",
       "      <td>...</td>\n",
       "      <td>yes</td>\n",
       "      <td>yes</td>\n",
       "      <td>yes</td>\n",
       "      <td>no</td>\n",
       "      <td>no</td>\n",
       "      <td>no</td>\n",
       "      <td>no</td>\n",
       "      <td>no</td>\n",
       "      <td>no</td>\n",
       "      <td>no</td>\n",
       "    </tr>\n",
       "    <tr>\n",
       "      <th>1</th>\n",
       "      <td>1</td>\n",
       "      <td>The Westin Hyderabad Mindspace</td>\n",
       "      <td>Raheja IT Park Hitec City Madhapur Hyderabad T...</td>\n",
       "      <td>7800</td>\n",
       "      <td>Hyderabad</td>\n",
       "      <td>2021-12-02</td>\n",
       "      <td>2021-02-14</td>\n",
       "      <td>NaN</td>\n",
       "      <td>NaN</td>\n",
       "      <td>9.9</td>\n",
       "      <td>...</td>\n",
       "      <td>yes</td>\n",
       "      <td>yes</td>\n",
       "      <td>yes</td>\n",
       "      <td>no</td>\n",
       "      <td>no</td>\n",
       "      <td>no</td>\n",
       "      <td>no</td>\n",
       "      <td>no</td>\n",
       "      <td>no</td>\n",
       "      <td>no</td>\n",
       "    </tr>\n",
       "    <tr>\n",
       "      <th>2</th>\n",
       "      <td>2</td>\n",
       "      <td>Courtyard by Marriott Hyderabad</td>\n",
       "      <td>1 3 1024 Lower Tank Bund Road Hyderabad Andhra...</td>\n",
       "      <td>6700</td>\n",
       "      <td>Hyderabad</td>\n",
       "      <td>2021-12-02</td>\n",
       "      <td>2021-02-14</td>\n",
       "      <td>NaN</td>\n",
       "      <td>NaN</td>\n",
       "      <td>4.7</td>\n",
       "      <td>...</td>\n",
       "      <td>yes</td>\n",
       "      <td>yes</td>\n",
       "      <td>yes</td>\n",
       "      <td>no</td>\n",
       "      <td>no</td>\n",
       "      <td>no</td>\n",
       "      <td>no</td>\n",
       "      <td>no</td>\n",
       "      <td>no</td>\n",
       "      <td>no</td>\n",
       "    </tr>\n",
       "    <tr>\n",
       "      <th>3</th>\n",
       "      <td>3</td>\n",
       "      <td>Courtyard by Marriott Hyderabad</td>\n",
       "      <td>1 3 1024 Lower Tank Bund Road Hyderabad Andhra...</td>\n",
       "      <td>6700</td>\n",
       "      <td>Hyderabad</td>\n",
       "      <td>2021-12-02</td>\n",
       "      <td>2021-02-14</td>\n",
       "      <td>NaN</td>\n",
       "      <td>NaN</td>\n",
       "      <td>4.7</td>\n",
       "      <td>...</td>\n",
       "      <td>yes</td>\n",
       "      <td>yes</td>\n",
       "      <td>yes</td>\n",
       "      <td>no</td>\n",
       "      <td>no</td>\n",
       "      <td>no</td>\n",
       "      <td>no</td>\n",
       "      <td>no</td>\n",
       "      <td>no</td>\n",
       "      <td>no</td>\n",
       "    </tr>\n",
       "    <tr>\n",
       "      <th>4</th>\n",
       "      <td>4</td>\n",
       "      <td>Radisson Blu Plaza Hotel Hyderabad Banjara Hills</td>\n",
       "      <td>82409 Road No 6 Banjara Hills Hyderabad Andhra...</td>\n",
       "      <td>6375</td>\n",
       "      <td>Hyderabad</td>\n",
       "      <td>2021-12-02</td>\n",
       "      <td>2021-02-14</td>\n",
       "      <td>Good</td>\n",
       "      <td>7.6</td>\n",
       "      <td>4.5</td>\n",
       "      <td>...</td>\n",
       "      <td>yes</td>\n",
       "      <td>yes</td>\n",
       "      <td>yes</td>\n",
       "      <td>no</td>\n",
       "      <td>no</td>\n",
       "      <td>no</td>\n",
       "      <td>no</td>\n",
       "      <td>no</td>\n",
       "      <td>no</td>\n",
       "      <td>no</td>\n",
       "    </tr>\n",
       "  </tbody>\n",
       "</table>\n",
       "<p>5 rows × 24 columns</p>\n",
       "</div>"
      ],
      "text/plain": [
       "   Unnamed: 0                                              name  \\\n",
       "0           0                                The Park Hyderabad   \n",
       "1           1                    The Westin Hyderabad Mindspace   \n",
       "2           2                   Courtyard by Marriott Hyderabad   \n",
       "3           3                   Courtyard by Marriott Hyderabad   \n",
       "4           4  Radisson Blu Plaza Hotel Hyderabad Banjara Hills   \n",
       "\n",
       "                                             address  price       city  \\\n",
       "0  22 RajBhavan Road Somajiguda Hyderabad Andhra ...   5040  Hyderabad   \n",
       "1  Raheja IT Park Hitec City Madhapur Hyderabad T...   7800  Hyderabad   \n",
       "2  1 3 1024 Lower Tank Bund Road Hyderabad Andhra...   6700  Hyderabad   \n",
       "3  1 3 1024 Lower Tank Bund Road Hyderabad Andhra...   6700  Hyderabad   \n",
       "4  82409 Road No 6 Banjara Hills Hyderabad Andhra...   6375  Hyderabad   \n",
       "\n",
       "  Check_in_date Check_out_date Review  Rating  distance to city centre(km)  \\\n",
       "0    2021-12-02     2021-02-14    NaN     NaN                          4.0   \n",
       "1    2021-12-02     2021-02-14    NaN     NaN                          9.9   \n",
       "2    2021-12-02     2021-02-14    NaN     NaN                          4.7   \n",
       "3    2021-12-02     2021-02-14    NaN     NaN                          4.7   \n",
       "4    2021-12-02     2021-02-14   Good     7.6                          4.5   \n",
       "\n",
       "   ...  Spa Restaurant  Gym Bar Bathtub Meeting Facilities  \\\n",
       "0  ...  yes        yes  yes  no      no                 no   \n",
       "1  ...  yes        yes  yes  no      no                 no   \n",
       "2  ...  yes        yes  yes  no      no                 no   \n",
       "3  ...  yes        yes  yes  no      no                 no   \n",
       "4  ...  yes        yes  yes  no      no                 no   \n",
       "\n",
       "  Connecting rooms available Pet-friendly Kitchen Internet access  \n",
       "0                         no           no      no              no  \n",
       "1                         no           no      no              no  \n",
       "2                         no           no      no              no  \n",
       "3                         no           no      no              no  \n",
       "4                         no           no      no              no  \n",
       "\n",
       "[5 rows x 24 columns]"
      ]
     },
     "execution_count": 435,
     "metadata": {},
     "output_type": "execute_result"
    }
   ],
   "source": [
    "df.head()"
   ]
  },
  {
   "cell_type": "code",
   "execution_count": 436,
   "id": "65f72c27-5491-4a52-9099-6c544e16d914",
   "metadata": {
    "tags": []
   },
   "outputs": [
    {
     "data": {
      "text/html": [
       "<div>\n",
       "<style scoped>\n",
       "    .dataframe tbody tr th:only-of-type {\n",
       "        vertical-align: middle;\n",
       "    }\n",
       "\n",
       "    .dataframe tbody tr th {\n",
       "        vertical-align: top;\n",
       "    }\n",
       "\n",
       "    .dataframe thead th {\n",
       "        text-align: right;\n",
       "    }\n",
       "</style>\n",
       "<table border=\"1\" class=\"dataframe\">\n",
       "  <thead>\n",
       "    <tr style=\"text-align: right;\">\n",
       "      <th></th>\n",
       "      <th>Unnamed: 0</th>\n",
       "      <th>name</th>\n",
       "      <th>address</th>\n",
       "      <th>price</th>\n",
       "      <th>city</th>\n",
       "      <th>Check_in_date</th>\n",
       "      <th>Check_out_date</th>\n",
       "      <th>Review</th>\n",
       "      <th>Rating</th>\n",
       "      <th>distance to city centre(km)</th>\n",
       "      <th>...</th>\n",
       "      <th>Spa</th>\n",
       "      <th>Restaurant</th>\n",
       "      <th>Gym</th>\n",
       "      <th>Bar</th>\n",
       "      <th>Bathtub</th>\n",
       "      <th>Meeting Facilities</th>\n",
       "      <th>Connecting rooms available</th>\n",
       "      <th>Pet-friendly</th>\n",
       "      <th>Kitchen</th>\n",
       "      <th>Internet access</th>\n",
       "    </tr>\n",
       "  </thead>\n",
       "  <tbody>\n",
       "    <tr>\n",
       "      <th>4420</th>\n",
       "      <td>4420</td>\n",
       "      <td>Umaid Bhawan - A Heritage Style Boutique Hotel</td>\n",
       "      <td>Behari Marg Bank Road bani Park Jaipur Rajasth...</td>\n",
       "      <td>13500</td>\n",
       "      <td>Jaipur</td>\n",
       "      <td>2021-12-02</td>\n",
       "      <td>2021-02-17</td>\n",
       "      <td>Fabulous</td>\n",
       "      <td>8.8</td>\n",
       "      <td>6.1</td>\n",
       "      <td>...</td>\n",
       "      <td>no</td>\n",
       "      <td>yes</td>\n",
       "      <td>no</td>\n",
       "      <td>yes</td>\n",
       "      <td>no</td>\n",
       "      <td>no</td>\n",
       "      <td>yes</td>\n",
       "      <td>no</td>\n",
       "      <td>no</td>\n",
       "      <td>no</td>\n",
       "    </tr>\n",
       "    <tr>\n",
       "      <th>4539</th>\n",
       "      <td>4539</td>\n",
       "      <td>Broadway Inn</td>\n",
       "      <td>Near Transport Nagar Flyover Jaipur Rajasthan ...</td>\n",
       "      <td>8748</td>\n",
       "      <td>Jaipur</td>\n",
       "      <td>2021-12-02</td>\n",
       "      <td>2021-02-20</td>\n",
       "      <td>NaN</td>\n",
       "      <td>NaN</td>\n",
       "      <td>9.7</td>\n",
       "      <td>...</td>\n",
       "      <td>no</td>\n",
       "      <td>yes</td>\n",
       "      <td>no</td>\n",
       "      <td>yes</td>\n",
       "      <td>no</td>\n",
       "      <td>no</td>\n",
       "      <td>no</td>\n",
       "      <td>no</td>\n",
       "      <td>no</td>\n",
       "      <td>no</td>\n",
       "    </tr>\n",
       "    <tr>\n",
       "      <th>1245</th>\n",
       "      <td>1245</td>\n",
       "      <td>OYO 4280 The City Gate Residency</td>\n",
       "      <td>35290Vittalwadi Narayanguda Near Lekshore Hosp...</td>\n",
       "      <td>56157</td>\n",
       "      <td>Kochi</td>\n",
       "      <td>2021-12-02</td>\n",
       "      <td>2021-02-18</td>\n",
       "      <td>NaN</td>\n",
       "      <td>NaN</td>\n",
       "      <td>5.5</td>\n",
       "      <td>...</td>\n",
       "      <td>no</td>\n",
       "      <td>no</td>\n",
       "      <td>no</td>\n",
       "      <td>no</td>\n",
       "      <td>yes</td>\n",
       "      <td>no</td>\n",
       "      <td>no</td>\n",
       "      <td>no</td>\n",
       "      <td>no</td>\n",
       "      <td>no</td>\n",
       "    </tr>\n",
       "    <tr>\n",
       "      <th>4984</th>\n",
       "      <td>4984</td>\n",
       "      <td>OYO 15486 Hotel New Diamond</td>\n",
       "      <td>Sco35 Zirakpur Kalka Highway Zirakpur Punjab 1...</td>\n",
       "      <td>5802</td>\n",
       "      <td>Chandigarh</td>\n",
       "      <td>2021-12-02</td>\n",
       "      <td>2021-02-18</td>\n",
       "      <td>NaN</td>\n",
       "      <td>NaN</td>\n",
       "      <td>10.0</td>\n",
       "      <td>...</td>\n",
       "      <td>no</td>\n",
       "      <td>no</td>\n",
       "      <td>no</td>\n",
       "      <td>no</td>\n",
       "      <td>yes</td>\n",
       "      <td>no</td>\n",
       "      <td>no</td>\n",
       "      <td>no</td>\n",
       "      <td>yes</td>\n",
       "      <td>no</td>\n",
       "    </tr>\n",
       "    <tr>\n",
       "      <th>3845</th>\n",
       "      <td>3845</td>\n",
       "      <td>OYO 49486 Star Rooms</td>\n",
       "      <td>Sb86 Sb86 Sector 70 Near Delvin Patholodgy Noi...</td>\n",
       "      <td>2040</td>\n",
       "      <td>Noida</td>\n",
       "      <td>2021-12-02</td>\n",
       "      <td>2021-02-18</td>\n",
       "      <td>NaN</td>\n",
       "      <td>NaN</td>\n",
       "      <td>5.1</td>\n",
       "      <td>...</td>\n",
       "      <td>no</td>\n",
       "      <td>no</td>\n",
       "      <td>no</td>\n",
       "      <td>no</td>\n",
       "      <td>yes</td>\n",
       "      <td>no</td>\n",
       "      <td>no</td>\n",
       "      <td>no</td>\n",
       "      <td>no</td>\n",
       "      <td>no</td>\n",
       "    </tr>\n",
       "    <tr>\n",
       "      <th>2851</th>\n",
       "      <td>2851</td>\n",
       "      <td>OYO 7341 Hotel Himalayan Hamlet</td>\n",
       "      <td>Tikkar Bori Spring Near Baba Balak Nath Temple...</td>\n",
       "      <td>20048</td>\n",
       "      <td>Kullu</td>\n",
       "      <td>2021-12-02</td>\n",
       "      <td>2021-02-14</td>\n",
       "      <td>NaN</td>\n",
       "      <td>NaN</td>\n",
       "      <td>26.0</td>\n",
       "      <td>...</td>\n",
       "      <td>no</td>\n",
       "      <td>no</td>\n",
       "      <td>no</td>\n",
       "      <td>no</td>\n",
       "      <td>yes</td>\n",
       "      <td>no</td>\n",
       "      <td>no</td>\n",
       "      <td>no</td>\n",
       "      <td>no</td>\n",
       "      <td>no</td>\n",
       "    </tr>\n",
       "    <tr>\n",
       "      <th>2949</th>\n",
       "      <td>2949</td>\n",
       "      <td>The Rainbow Inn &amp; Cafe</td>\n",
       "      <td>New Kasol Near Bus Stop Kullu Himachal Pradesh...</td>\n",
       "      <td>14800</td>\n",
       "      <td>Kullu</td>\n",
       "      <td>2021-12-02</td>\n",
       "      <td>2021-02-16</td>\n",
       "      <td>NaN</td>\n",
       "      <td>NaN</td>\n",
       "      <td>6.2</td>\n",
       "      <td>...</td>\n",
       "      <td>yes</td>\n",
       "      <td>yes</td>\n",
       "      <td>no</td>\n",
       "      <td>yes</td>\n",
       "      <td>yes</td>\n",
       "      <td>no</td>\n",
       "      <td>no</td>\n",
       "      <td>yes</td>\n",
       "      <td>no</td>\n",
       "      <td>no</td>\n",
       "    </tr>\n",
       "    <tr>\n",
       "      <th>2813</th>\n",
       "      <td>2813</td>\n",
       "      <td>Hotel Amby Inn</td>\n",
       "      <td>M13 Lajpat Nagar 2 Jal Viihar Circle New Delhi...</td>\n",
       "      <td>9884</td>\n",
       "      <td>New Delhi</td>\n",
       "      <td>2021-12-02</td>\n",
       "      <td>2021-02-18</td>\n",
       "      <td>NaN</td>\n",
       "      <td>NaN</td>\n",
       "      <td>7.8</td>\n",
       "      <td>...</td>\n",
       "      <td>no</td>\n",
       "      <td>yes</td>\n",
       "      <td>no</td>\n",
       "      <td>no</td>\n",
       "      <td>no</td>\n",
       "      <td>no</td>\n",
       "      <td>yes</td>\n",
       "      <td>no</td>\n",
       "      <td>no</td>\n",
       "      <td>no</td>\n",
       "    </tr>\n",
       "    <tr>\n",
       "      <th>520</th>\n",
       "      <td>520</td>\n",
       "      <td>Lucky Hotel Bandra</td>\n",
       "      <td>Juction of SV Road and Hill Road Bandra West M...</td>\n",
       "      <td>4500</td>\n",
       "      <td>Mumbai</td>\n",
       "      <td>2021-12-02</td>\n",
       "      <td>2021-02-14</td>\n",
       "      <td>NaN</td>\n",
       "      <td>NaN</td>\n",
       "      <td>14.0</td>\n",
       "      <td>...</td>\n",
       "      <td>no</td>\n",
       "      <td>yes</td>\n",
       "      <td>no</td>\n",
       "      <td>no</td>\n",
       "      <td>no</td>\n",
       "      <td>no</td>\n",
       "      <td>no</td>\n",
       "      <td>no</td>\n",
       "      <td>no</td>\n",
       "      <td>no</td>\n",
       "    </tr>\n",
       "    <tr>\n",
       "      <th>185</th>\n",
       "      <td>185</td>\n",
       "      <td>Hotel Geetanjali</td>\n",
       "      <td>41938/26/A New Marketing Complex Abids Tilak R...</td>\n",
       "      <td>3596</td>\n",
       "      <td>Hyderabad</td>\n",
       "      <td>2021-12-02</td>\n",
       "      <td>2021-02-16</td>\n",
       "      <td>NaN</td>\n",
       "      <td>NaN</td>\n",
       "      <td>1.3</td>\n",
       "      <td>...</td>\n",
       "      <td>no</td>\n",
       "      <td>no</td>\n",
       "      <td>no</td>\n",
       "      <td>no</td>\n",
       "      <td>no</td>\n",
       "      <td>no</td>\n",
       "      <td>no</td>\n",
       "      <td>no</td>\n",
       "      <td>no</td>\n",
       "      <td>no</td>\n",
       "    </tr>\n",
       "  </tbody>\n",
       "</table>\n",
       "<p>10 rows × 24 columns</p>\n",
       "</div>"
      ],
      "text/plain": [
       "      Unnamed: 0                                            name  \\\n",
       "4420        4420  Umaid Bhawan - A Heritage Style Boutique Hotel   \n",
       "4539        4539                                    Broadway Inn   \n",
       "1245        1245                OYO 4280 The City Gate Residency   \n",
       "4984        4984                     OYO 15486 Hotel New Diamond   \n",
       "3845        3845                            OYO 49486 Star Rooms   \n",
       "2851        2851                 OYO 7341 Hotel Himalayan Hamlet   \n",
       "2949        2949                          The Rainbow Inn & Cafe   \n",
       "2813        2813                                  Hotel Amby Inn   \n",
       "520          520                              Lucky Hotel Bandra   \n",
       "185          185                                Hotel Geetanjali   \n",
       "\n",
       "                                                address  price        city  \\\n",
       "4420  Behari Marg Bank Road bani Park Jaipur Rajasth...  13500      Jaipur   \n",
       "4539  Near Transport Nagar Flyover Jaipur Rajasthan ...   8748      Jaipur   \n",
       "1245  35290Vittalwadi Narayanguda Near Lekshore Hosp...  56157       Kochi   \n",
       "4984  Sco35 Zirakpur Kalka Highway Zirakpur Punjab 1...   5802  Chandigarh   \n",
       "3845  Sb86 Sb86 Sector 70 Near Delvin Patholodgy Noi...   2040       Noida   \n",
       "2851  Tikkar Bori Spring Near Baba Balak Nath Temple...  20048       Kullu   \n",
       "2949  New Kasol Near Bus Stop Kullu Himachal Pradesh...  14800       Kullu   \n",
       "2813  M13 Lajpat Nagar 2 Jal Viihar Circle New Delhi...   9884   New Delhi   \n",
       "520   Juction of SV Road and Hill Road Bandra West M...   4500      Mumbai   \n",
       "185   41938/26/A New Marketing Complex Abids Tilak R...   3596   Hyderabad   \n",
       "\n",
       "     Check_in_date Check_out_date    Review  Rating  \\\n",
       "4420    2021-12-02     2021-02-17  Fabulous     8.8   \n",
       "4539    2021-12-02     2021-02-20       NaN     NaN   \n",
       "1245    2021-12-02     2021-02-18       NaN     NaN   \n",
       "4984    2021-12-02     2021-02-18       NaN     NaN   \n",
       "3845    2021-12-02     2021-02-18       NaN     NaN   \n",
       "2851    2021-12-02     2021-02-14       NaN     NaN   \n",
       "2949    2021-12-02     2021-02-16       NaN     NaN   \n",
       "2813    2021-12-02     2021-02-18       NaN     NaN   \n",
       "520     2021-12-02     2021-02-14       NaN     NaN   \n",
       "185     2021-12-02     2021-02-16       NaN     NaN   \n",
       "\n",
       "      distance to city centre(km)  ...  Spa Restaurant Gym  Bar Bathtub  \\\n",
       "4420                          6.1  ...   no        yes  no  yes      no   \n",
       "4539                          9.7  ...   no        yes  no  yes      no   \n",
       "1245                          5.5  ...   no         no  no   no     yes   \n",
       "4984                         10.0  ...   no         no  no   no     yes   \n",
       "3845                          5.1  ...   no         no  no   no     yes   \n",
       "2851                         26.0  ...   no         no  no   no     yes   \n",
       "2949                          6.2  ...  yes        yes  no  yes     yes   \n",
       "2813                          7.8  ...   no        yes  no   no      no   \n",
       "520                          14.0  ...   no        yes  no   no      no   \n",
       "185                           1.3  ...   no         no  no   no      no   \n",
       "\n",
       "     Meeting Facilities Connecting rooms available Pet-friendly Kitchen  \\\n",
       "4420                 no                        yes           no      no   \n",
       "4539                 no                         no           no      no   \n",
       "1245                 no                         no           no      no   \n",
       "4984                 no                         no           no     yes   \n",
       "3845                 no                         no           no      no   \n",
       "2851                 no                         no           no      no   \n",
       "2949                 no                         no          yes      no   \n",
       "2813                 no                        yes           no      no   \n",
       "520                  no                         no           no      no   \n",
       "185                  no                         no           no      no   \n",
       "\n",
       "     Internet access  \n",
       "4420              no  \n",
       "4539              no  \n",
       "1245              no  \n",
       "4984              no  \n",
       "3845              no  \n",
       "2851              no  \n",
       "2949              no  \n",
       "2813              no  \n",
       "520               no  \n",
       "185               no  \n",
       "\n",
       "[10 rows x 24 columns]"
      ]
     },
     "execution_count": 436,
     "metadata": {},
     "output_type": "execute_result"
    }
   ],
   "source": [
    "df.sample(10)"
   ]
  },
  {
   "cell_type": "code",
   "execution_count": 437,
   "id": "7778c956-62e8-4065-a977-5cd10d060600",
   "metadata": {
    "tags": []
   },
   "outputs": [],
   "source": [
    "df.drop(columns=['Review','Rating'],inplace=True)"
   ]
  },
  {
   "cell_type": "code",
   "execution_count": 438,
   "id": "c0fe0293-746f-46fa-b7e9-a34d993c60d0",
   "metadata": {
    "tags": []
   },
   "outputs": [
    {
     "data": {
      "text/html": [
       "<div>\n",
       "<style scoped>\n",
       "    .dataframe tbody tr th:only-of-type {\n",
       "        vertical-align: middle;\n",
       "    }\n",
       "\n",
       "    .dataframe tbody tr th {\n",
       "        vertical-align: top;\n",
       "    }\n",
       "\n",
       "    .dataframe thead th {\n",
       "        text-align: right;\n",
       "    }\n",
       "</style>\n",
       "<table border=\"1\" class=\"dataframe\">\n",
       "  <thead>\n",
       "    <tr style=\"text-align: right;\">\n",
       "      <th></th>\n",
       "      <th>Unnamed: 0</th>\n",
       "      <th>name</th>\n",
       "      <th>address</th>\n",
       "      <th>price</th>\n",
       "      <th>city</th>\n",
       "      <th>Check_in_date</th>\n",
       "      <th>Check_out_date</th>\n",
       "      <th>distance to city centre(km)</th>\n",
       "      <th>distance to HYD-Rajiv Gandhi Intl(km)</th>\n",
       "      <th>Pool</th>\n",
       "      <th>...</th>\n",
       "      <th>Spa</th>\n",
       "      <th>Restaurant</th>\n",
       "      <th>Gym</th>\n",
       "      <th>Bar</th>\n",
       "      <th>Bathtub</th>\n",
       "      <th>Meeting Facilities</th>\n",
       "      <th>Connecting rooms available</th>\n",
       "      <th>Pet-friendly</th>\n",
       "      <th>Kitchen</th>\n",
       "      <th>Internet access</th>\n",
       "    </tr>\n",
       "  </thead>\n",
       "  <tbody>\n",
       "    <tr>\n",
       "      <th>0</th>\n",
       "      <td>0</td>\n",
       "      <td>The Park Hyderabad</td>\n",
       "      <td>22 RajBhavan Road Somajiguda Hyderabad Andhra ...</td>\n",
       "      <td>5040</td>\n",
       "      <td>Hyderabad</td>\n",
       "      <td>2021-12-02</td>\n",
       "      <td>2021-02-14</td>\n",
       "      <td>4.0</td>\n",
       "      <td>20.0</td>\n",
       "      <td>yes</td>\n",
       "      <td>...</td>\n",
       "      <td>yes</td>\n",
       "      <td>yes</td>\n",
       "      <td>yes</td>\n",
       "      <td>no</td>\n",
       "      <td>no</td>\n",
       "      <td>no</td>\n",
       "      <td>no</td>\n",
       "      <td>no</td>\n",
       "      <td>no</td>\n",
       "      <td>no</td>\n",
       "    </tr>\n",
       "    <tr>\n",
       "      <th>1</th>\n",
       "      <td>1</td>\n",
       "      <td>The Westin Hyderabad Mindspace</td>\n",
       "      <td>Raheja IT Park Hitec City Madhapur Hyderabad T...</td>\n",
       "      <td>7800</td>\n",
       "      <td>Hyderabad</td>\n",
       "      <td>2021-12-02</td>\n",
       "      <td>2021-02-14</td>\n",
       "      <td>9.9</td>\n",
       "      <td>22.0</td>\n",
       "      <td>yes</td>\n",
       "      <td>...</td>\n",
       "      <td>yes</td>\n",
       "      <td>yes</td>\n",
       "      <td>yes</td>\n",
       "      <td>no</td>\n",
       "      <td>no</td>\n",
       "      <td>no</td>\n",
       "      <td>no</td>\n",
       "      <td>no</td>\n",
       "      <td>no</td>\n",
       "      <td>no</td>\n",
       "    </tr>\n",
       "    <tr>\n",
       "      <th>2</th>\n",
       "      <td>2</td>\n",
       "      <td>Courtyard by Marriott Hyderabad</td>\n",
       "      <td>1 3 1024 Lower Tank Bund Road Hyderabad Andhra...</td>\n",
       "      <td>6700</td>\n",
       "      <td>Hyderabad</td>\n",
       "      <td>2021-12-02</td>\n",
       "      <td>2021-02-14</td>\n",
       "      <td>4.7</td>\n",
       "      <td>21.0</td>\n",
       "      <td>yes</td>\n",
       "      <td>...</td>\n",
       "      <td>yes</td>\n",
       "      <td>yes</td>\n",
       "      <td>yes</td>\n",
       "      <td>no</td>\n",
       "      <td>no</td>\n",
       "      <td>no</td>\n",
       "      <td>no</td>\n",
       "      <td>no</td>\n",
       "      <td>no</td>\n",
       "      <td>no</td>\n",
       "    </tr>\n",
       "    <tr>\n",
       "      <th>3</th>\n",
       "      <td>3</td>\n",
       "      <td>Courtyard by Marriott Hyderabad</td>\n",
       "      <td>1 3 1024 Lower Tank Bund Road Hyderabad Andhra...</td>\n",
       "      <td>6700</td>\n",
       "      <td>Hyderabad</td>\n",
       "      <td>2021-12-02</td>\n",
       "      <td>2021-02-14</td>\n",
       "      <td>4.7</td>\n",
       "      <td>21.0</td>\n",
       "      <td>yes</td>\n",
       "      <td>...</td>\n",
       "      <td>yes</td>\n",
       "      <td>yes</td>\n",
       "      <td>yes</td>\n",
       "      <td>no</td>\n",
       "      <td>no</td>\n",
       "      <td>no</td>\n",
       "      <td>no</td>\n",
       "      <td>no</td>\n",
       "      <td>no</td>\n",
       "      <td>no</td>\n",
       "    </tr>\n",
       "    <tr>\n",
       "      <th>4</th>\n",
       "      <td>4</td>\n",
       "      <td>Radisson Blu Plaza Hotel Hyderabad Banjara Hills</td>\n",
       "      <td>82409 Road No 6 Banjara Hills Hyderabad Andhra...</td>\n",
       "      <td>6375</td>\n",
       "      <td>Hyderabad</td>\n",
       "      <td>2021-12-02</td>\n",
       "      <td>2021-02-14</td>\n",
       "      <td>4.5</td>\n",
       "      <td>20.0</td>\n",
       "      <td>yes</td>\n",
       "      <td>...</td>\n",
       "      <td>yes</td>\n",
       "      <td>yes</td>\n",
       "      <td>yes</td>\n",
       "      <td>no</td>\n",
       "      <td>no</td>\n",
       "      <td>no</td>\n",
       "      <td>no</td>\n",
       "      <td>no</td>\n",
       "      <td>no</td>\n",
       "      <td>no</td>\n",
       "    </tr>\n",
       "  </tbody>\n",
       "</table>\n",
       "<p>5 rows × 22 columns</p>\n",
       "</div>"
      ],
      "text/plain": [
       "   Unnamed: 0                                              name  \\\n",
       "0           0                                The Park Hyderabad   \n",
       "1           1                    The Westin Hyderabad Mindspace   \n",
       "2           2                   Courtyard by Marriott Hyderabad   \n",
       "3           3                   Courtyard by Marriott Hyderabad   \n",
       "4           4  Radisson Blu Plaza Hotel Hyderabad Banjara Hills   \n",
       "\n",
       "                                             address  price       city  \\\n",
       "0  22 RajBhavan Road Somajiguda Hyderabad Andhra ...   5040  Hyderabad   \n",
       "1  Raheja IT Park Hitec City Madhapur Hyderabad T...   7800  Hyderabad   \n",
       "2  1 3 1024 Lower Tank Bund Road Hyderabad Andhra...   6700  Hyderabad   \n",
       "3  1 3 1024 Lower Tank Bund Road Hyderabad Andhra...   6700  Hyderabad   \n",
       "4  82409 Road No 6 Banjara Hills Hyderabad Andhra...   6375  Hyderabad   \n",
       "\n",
       "  Check_in_date Check_out_date  distance to city centre(km)  \\\n",
       "0    2021-12-02     2021-02-14                          4.0   \n",
       "1    2021-12-02     2021-02-14                          9.9   \n",
       "2    2021-12-02     2021-02-14                          4.7   \n",
       "3    2021-12-02     2021-02-14                          4.7   \n",
       "4    2021-12-02     2021-02-14                          4.5   \n",
       "\n",
       "   distance to HYD-Rajiv Gandhi Intl(km) Pool  ...  Spa Restaurant  Gym Bar  \\\n",
       "0                                   20.0  yes  ...  yes        yes  yes  no   \n",
       "1                                   22.0  yes  ...  yes        yes  yes  no   \n",
       "2                                   21.0  yes  ...  yes        yes  yes  no   \n",
       "3                                   21.0  yes  ...  yes        yes  yes  no   \n",
       "4                                   20.0  yes  ...  yes        yes  yes  no   \n",
       "\n",
       "  Bathtub Meeting Facilities Connecting rooms available Pet-friendly Kitchen  \\\n",
       "0      no                 no                         no           no      no   \n",
       "1      no                 no                         no           no      no   \n",
       "2      no                 no                         no           no      no   \n",
       "3      no                 no                         no           no      no   \n",
       "4      no                 no                         no           no      no   \n",
       "\n",
       "  Internet access  \n",
       "0              no  \n",
       "1              no  \n",
       "2              no  \n",
       "3              no  \n",
       "4              no  \n",
       "\n",
       "[5 rows x 22 columns]"
      ]
     },
     "execution_count": 438,
     "metadata": {},
     "output_type": "execute_result"
    }
   ],
   "source": [
    "df.head()"
   ]
  },
  {
   "cell_type": "code",
   "execution_count": 439,
   "id": "37396316-55e1-4056-a787-3a828b8d2a50",
   "metadata": {
    "tags": []
   },
   "outputs": [
    {
     "data": {
      "text/plain": [
       "(5342, 22)"
      ]
     },
     "execution_count": 439,
     "metadata": {},
     "output_type": "execute_result"
    }
   ],
   "source": [
    "df.shape"
   ]
  },
  {
   "cell_type": "code",
   "execution_count": 440,
   "id": "942d4e7f-d276-4b78-a584-48f86d6f15b8",
   "metadata": {
    "tags": []
   },
   "outputs": [
    {
     "name": "stdout",
     "output_type": "stream",
     "text": [
      "<class 'pandas.core.frame.DataFrame'>\n",
      "RangeIndex: 5342 entries, 0 to 5341\n",
      "Data columns (total 22 columns):\n",
      " #   Column                                 Non-Null Count  Dtype  \n",
      "---  ------                                 --------------  -----  \n",
      " 0   Unnamed: 0                             5342 non-null   int64  \n",
      " 1   name                                   5342 non-null   object \n",
      " 2   address                                5342 non-null   object \n",
      " 3   price                                  5342 non-null   int64  \n",
      " 4   city                                   5342 non-null   object \n",
      " 5   Check_in_date                          5342 non-null   object \n",
      " 6   Check_out_date                         5342 non-null   object \n",
      " 7   distance to city centre(km)            5319 non-null   float64\n",
      " 8   distance to HYD-Rajiv Gandhi Intl(km)  5319 non-null   float64\n",
      " 9   Pool                                   5342 non-null   object \n",
      " 10  Free parking                           5342 non-null   object \n",
      " 11  Airport transfer                       5342 non-null   object \n",
      " 12  Spa                                    5342 non-null   object \n",
      " 13  Restaurant                             5342 non-null   object \n",
      " 14  Gym                                    5342 non-null   object \n",
      " 15  Bar                                    5342 non-null   object \n",
      " 16  Bathtub                                5342 non-null   object \n",
      " 17  Meeting Facilities                     5342 non-null   object \n",
      " 18  Connecting rooms available             5342 non-null   object \n",
      " 19  Pet-friendly                           5342 non-null   object \n",
      " 20  Kitchen                                5342 non-null   object \n",
      " 21  Internet access                        5342 non-null   object \n",
      "dtypes: float64(2), int64(2), object(18)\n",
      "memory usage: 918.3+ KB\n"
     ]
    }
   ],
   "source": [
    "df.info()"
   ]
  },
  {
   "cell_type": "code",
   "execution_count": 441,
   "id": "2b9cb283-cc22-49bb-bee1-631d99554833",
   "metadata": {
    "tags": []
   },
   "outputs": [],
   "source": [
    "df=df.iloc[:,1:]"
   ]
  },
  {
   "cell_type": "code",
   "execution_count": 442,
   "id": "1133641b-b601-4bf0-8773-b28c0bbe2c30",
   "metadata": {
    "tags": []
   },
   "outputs": [
    {
     "data": {
      "text/html": [
       "<div>\n",
       "<style scoped>\n",
       "    .dataframe tbody tr th:only-of-type {\n",
       "        vertical-align: middle;\n",
       "    }\n",
       "\n",
       "    .dataframe tbody tr th {\n",
       "        vertical-align: top;\n",
       "    }\n",
       "\n",
       "    .dataframe thead th {\n",
       "        text-align: right;\n",
       "    }\n",
       "</style>\n",
       "<table border=\"1\" class=\"dataframe\">\n",
       "  <thead>\n",
       "    <tr style=\"text-align: right;\">\n",
       "      <th></th>\n",
       "      <th>name</th>\n",
       "      <th>address</th>\n",
       "      <th>price</th>\n",
       "      <th>city</th>\n",
       "      <th>Check_in_date</th>\n",
       "      <th>Check_out_date</th>\n",
       "      <th>distance to city centre(km)</th>\n",
       "      <th>distance to HYD-Rajiv Gandhi Intl(km)</th>\n",
       "      <th>Pool</th>\n",
       "      <th>Free parking</th>\n",
       "      <th>...</th>\n",
       "      <th>Spa</th>\n",
       "      <th>Restaurant</th>\n",
       "      <th>Gym</th>\n",
       "      <th>Bar</th>\n",
       "      <th>Bathtub</th>\n",
       "      <th>Meeting Facilities</th>\n",
       "      <th>Connecting rooms available</th>\n",
       "      <th>Pet-friendly</th>\n",
       "      <th>Kitchen</th>\n",
       "      <th>Internet access</th>\n",
       "    </tr>\n",
       "  </thead>\n",
       "  <tbody>\n",
       "    <tr>\n",
       "      <th>0</th>\n",
       "      <td>The Park Hyderabad</td>\n",
       "      <td>22 RajBhavan Road Somajiguda Hyderabad Andhra ...</td>\n",
       "      <td>5040</td>\n",
       "      <td>Hyderabad</td>\n",
       "      <td>2021-12-02</td>\n",
       "      <td>2021-02-14</td>\n",
       "      <td>4.0</td>\n",
       "      <td>20.0</td>\n",
       "      <td>yes</td>\n",
       "      <td>yes</td>\n",
       "      <td>...</td>\n",
       "      <td>yes</td>\n",
       "      <td>yes</td>\n",
       "      <td>yes</td>\n",
       "      <td>no</td>\n",
       "      <td>no</td>\n",
       "      <td>no</td>\n",
       "      <td>no</td>\n",
       "      <td>no</td>\n",
       "      <td>no</td>\n",
       "      <td>no</td>\n",
       "    </tr>\n",
       "    <tr>\n",
       "      <th>1</th>\n",
       "      <td>The Westin Hyderabad Mindspace</td>\n",
       "      <td>Raheja IT Park Hitec City Madhapur Hyderabad T...</td>\n",
       "      <td>7800</td>\n",
       "      <td>Hyderabad</td>\n",
       "      <td>2021-12-02</td>\n",
       "      <td>2021-02-14</td>\n",
       "      <td>9.9</td>\n",
       "      <td>22.0</td>\n",
       "      <td>yes</td>\n",
       "      <td>yes</td>\n",
       "      <td>...</td>\n",
       "      <td>yes</td>\n",
       "      <td>yes</td>\n",
       "      <td>yes</td>\n",
       "      <td>no</td>\n",
       "      <td>no</td>\n",
       "      <td>no</td>\n",
       "      <td>no</td>\n",
       "      <td>no</td>\n",
       "      <td>no</td>\n",
       "      <td>no</td>\n",
       "    </tr>\n",
       "    <tr>\n",
       "      <th>2</th>\n",
       "      <td>Courtyard by Marriott Hyderabad</td>\n",
       "      <td>1 3 1024 Lower Tank Bund Road Hyderabad Andhra...</td>\n",
       "      <td>6700</td>\n",
       "      <td>Hyderabad</td>\n",
       "      <td>2021-12-02</td>\n",
       "      <td>2021-02-14</td>\n",
       "      <td>4.7</td>\n",
       "      <td>21.0</td>\n",
       "      <td>yes</td>\n",
       "      <td>yes</td>\n",
       "      <td>...</td>\n",
       "      <td>yes</td>\n",
       "      <td>yes</td>\n",
       "      <td>yes</td>\n",
       "      <td>no</td>\n",
       "      <td>no</td>\n",
       "      <td>no</td>\n",
       "      <td>no</td>\n",
       "      <td>no</td>\n",
       "      <td>no</td>\n",
       "      <td>no</td>\n",
       "    </tr>\n",
       "    <tr>\n",
       "      <th>3</th>\n",
       "      <td>Courtyard by Marriott Hyderabad</td>\n",
       "      <td>1 3 1024 Lower Tank Bund Road Hyderabad Andhra...</td>\n",
       "      <td>6700</td>\n",
       "      <td>Hyderabad</td>\n",
       "      <td>2021-12-02</td>\n",
       "      <td>2021-02-14</td>\n",
       "      <td>4.7</td>\n",
       "      <td>21.0</td>\n",
       "      <td>yes</td>\n",
       "      <td>yes</td>\n",
       "      <td>...</td>\n",
       "      <td>yes</td>\n",
       "      <td>yes</td>\n",
       "      <td>yes</td>\n",
       "      <td>no</td>\n",
       "      <td>no</td>\n",
       "      <td>no</td>\n",
       "      <td>no</td>\n",
       "      <td>no</td>\n",
       "      <td>no</td>\n",
       "      <td>no</td>\n",
       "    </tr>\n",
       "    <tr>\n",
       "      <th>4</th>\n",
       "      <td>Radisson Blu Plaza Hotel Hyderabad Banjara Hills</td>\n",
       "      <td>82409 Road No 6 Banjara Hills Hyderabad Andhra...</td>\n",
       "      <td>6375</td>\n",
       "      <td>Hyderabad</td>\n",
       "      <td>2021-12-02</td>\n",
       "      <td>2021-02-14</td>\n",
       "      <td>4.5</td>\n",
       "      <td>20.0</td>\n",
       "      <td>yes</td>\n",
       "      <td>yes</td>\n",
       "      <td>...</td>\n",
       "      <td>yes</td>\n",
       "      <td>yes</td>\n",
       "      <td>yes</td>\n",
       "      <td>no</td>\n",
       "      <td>no</td>\n",
       "      <td>no</td>\n",
       "      <td>no</td>\n",
       "      <td>no</td>\n",
       "      <td>no</td>\n",
       "      <td>no</td>\n",
       "    </tr>\n",
       "  </tbody>\n",
       "</table>\n",
       "<p>5 rows × 21 columns</p>\n",
       "</div>"
      ],
      "text/plain": [
       "                                               name  \\\n",
       "0                                The Park Hyderabad   \n",
       "1                    The Westin Hyderabad Mindspace   \n",
       "2                   Courtyard by Marriott Hyderabad   \n",
       "3                   Courtyard by Marriott Hyderabad   \n",
       "4  Radisson Blu Plaza Hotel Hyderabad Banjara Hills   \n",
       "\n",
       "                                             address  price       city  \\\n",
       "0  22 RajBhavan Road Somajiguda Hyderabad Andhra ...   5040  Hyderabad   \n",
       "1  Raheja IT Park Hitec City Madhapur Hyderabad T...   7800  Hyderabad   \n",
       "2  1 3 1024 Lower Tank Bund Road Hyderabad Andhra...   6700  Hyderabad   \n",
       "3  1 3 1024 Lower Tank Bund Road Hyderabad Andhra...   6700  Hyderabad   \n",
       "4  82409 Road No 6 Banjara Hills Hyderabad Andhra...   6375  Hyderabad   \n",
       "\n",
       "  Check_in_date Check_out_date  distance to city centre(km)  \\\n",
       "0    2021-12-02     2021-02-14                          4.0   \n",
       "1    2021-12-02     2021-02-14                          9.9   \n",
       "2    2021-12-02     2021-02-14                          4.7   \n",
       "3    2021-12-02     2021-02-14                          4.7   \n",
       "4    2021-12-02     2021-02-14                          4.5   \n",
       "\n",
       "   distance to HYD-Rajiv Gandhi Intl(km) Pool Free parking  ...  Spa  \\\n",
       "0                                   20.0  yes          yes  ...  yes   \n",
       "1                                   22.0  yes          yes  ...  yes   \n",
       "2                                   21.0  yes          yes  ...  yes   \n",
       "3                                   21.0  yes          yes  ...  yes   \n",
       "4                                   20.0  yes          yes  ...  yes   \n",
       "\n",
       "  Restaurant  Gym Bar Bathtub Meeting Facilities Connecting rooms available  \\\n",
       "0        yes  yes  no      no                 no                         no   \n",
       "1        yes  yes  no      no                 no                         no   \n",
       "2        yes  yes  no      no                 no                         no   \n",
       "3        yes  yes  no      no                 no                         no   \n",
       "4        yes  yes  no      no                 no                         no   \n",
       "\n",
       "  Pet-friendly Kitchen Internet access  \n",
       "0           no      no              no  \n",
       "1           no      no              no  \n",
       "2           no      no              no  \n",
       "3           no      no              no  \n",
       "4           no      no              no  \n",
       "\n",
       "[5 rows x 21 columns]"
      ]
     },
     "execution_count": 442,
     "metadata": {},
     "output_type": "execute_result"
    }
   ],
   "source": [
    "df.head()"
   ]
  },
  {
   "cell_type": "code",
   "execution_count": 443,
   "id": "01072a63-8e2e-4a13-920e-4703cd4cb6aa",
   "metadata": {
    "tags": []
   },
   "outputs": [],
   "source": [
    "df.drop(columns=['Pet-friendly','Connecting rooms available','Meeting Facilities','Bar','Airport transfer','distance to HYD-Rajiv Gandhi Intl(km)','distance to city centre(km)','address','name'],inplace=True)"
   ]
  },
  {
   "cell_type": "code",
   "execution_count": 444,
   "id": "b34dd4a7-43cf-46ff-8fc7-5b901dccdb2f",
   "metadata": {
    "tags": []
   },
   "outputs": [
    {
     "data": {
      "text/html": [
       "<div>\n",
       "<style scoped>\n",
       "    .dataframe tbody tr th:only-of-type {\n",
       "        vertical-align: middle;\n",
       "    }\n",
       "\n",
       "    .dataframe tbody tr th {\n",
       "        vertical-align: top;\n",
       "    }\n",
       "\n",
       "    .dataframe thead th {\n",
       "        text-align: right;\n",
       "    }\n",
       "</style>\n",
       "<table border=\"1\" class=\"dataframe\">\n",
       "  <thead>\n",
       "    <tr style=\"text-align: right;\">\n",
       "      <th></th>\n",
       "      <th>price</th>\n",
       "      <th>city</th>\n",
       "      <th>Check_in_date</th>\n",
       "      <th>Check_out_date</th>\n",
       "      <th>Pool</th>\n",
       "      <th>Free parking</th>\n",
       "      <th>Spa</th>\n",
       "      <th>Restaurant</th>\n",
       "      <th>Gym</th>\n",
       "      <th>Bathtub</th>\n",
       "      <th>Kitchen</th>\n",
       "      <th>Internet access</th>\n",
       "    </tr>\n",
       "  </thead>\n",
       "  <tbody>\n",
       "    <tr>\n",
       "      <th>1578</th>\n",
       "      <td>10668</td>\n",
       "      <td>Rishikesh</td>\n",
       "      <td>2021-12-02</td>\n",
       "      <td>2021-02-16</td>\n",
       "      <td>no</td>\n",
       "      <td>yes</td>\n",
       "      <td>no</td>\n",
       "      <td>yes</td>\n",
       "      <td>no</td>\n",
       "      <td>no</td>\n",
       "      <td>no</td>\n",
       "      <td>no</td>\n",
       "    </tr>\n",
       "    <tr>\n",
       "      <th>410</th>\n",
       "      <td>28000</td>\n",
       "      <td>Munnar</td>\n",
       "      <td>2021-12-02</td>\n",
       "      <td>2021-02-18</td>\n",
       "      <td>no</td>\n",
       "      <td>yes</td>\n",
       "      <td>no</td>\n",
       "      <td>yes</td>\n",
       "      <td>no</td>\n",
       "      <td>no</td>\n",
       "      <td>no</td>\n",
       "      <td>no</td>\n",
       "    </tr>\n",
       "    <tr>\n",
       "      <th>4263</th>\n",
       "      <td>15800</td>\n",
       "      <td>Tirupati, Andhra Pradesh, India</td>\n",
       "      <td>2021-12-02</td>\n",
       "      <td>2021-02-20</td>\n",
       "      <td>yes</td>\n",
       "      <td>yes</td>\n",
       "      <td>no</td>\n",
       "      <td>yes</td>\n",
       "      <td>yes</td>\n",
       "      <td>no</td>\n",
       "      <td>no</td>\n",
       "      <td>no</td>\n",
       "    </tr>\n",
       "    <tr>\n",
       "      <th>1548</th>\n",
       "      <td>27996</td>\n",
       "      <td>Rishikesh</td>\n",
       "      <td>2021-12-02</td>\n",
       "      <td>2021-02-16</td>\n",
       "      <td>yes</td>\n",
       "      <td>yes</td>\n",
       "      <td>yes</td>\n",
       "      <td>yes</td>\n",
       "      <td>no</td>\n",
       "      <td>no</td>\n",
       "      <td>no</td>\n",
       "      <td>no</td>\n",
       "    </tr>\n",
       "    <tr>\n",
       "      <th>3037</th>\n",
       "      <td>6156</td>\n",
       "      <td>Kullu</td>\n",
       "      <td>2021-12-02</td>\n",
       "      <td>2021-02-16</td>\n",
       "      <td>no</td>\n",
       "      <td>yes</td>\n",
       "      <td>no</td>\n",
       "      <td>no</td>\n",
       "      <td>no</td>\n",
       "      <td>no</td>\n",
       "      <td>no</td>\n",
       "      <td>no</td>\n",
       "    </tr>\n",
       "    <tr>\n",
       "      <th>1452</th>\n",
       "      <td>7000</td>\n",
       "      <td>Rishikesh</td>\n",
       "      <td>2021-12-02</td>\n",
       "      <td>2021-02-14</td>\n",
       "      <td>no</td>\n",
       "      <td>yes</td>\n",
       "      <td>no</td>\n",
       "      <td>yes</td>\n",
       "      <td>no</td>\n",
       "      <td>no</td>\n",
       "      <td>no</td>\n",
       "      <td>no</td>\n",
       "    </tr>\n",
       "    <tr>\n",
       "      <th>4730</th>\n",
       "      <td>7500</td>\n",
       "      <td>Lucknow</td>\n",
       "      <td>2021-12-02</td>\n",
       "      <td>2021-02-18</td>\n",
       "      <td>no</td>\n",
       "      <td>yes</td>\n",
       "      <td>no</td>\n",
       "      <td>no</td>\n",
       "      <td>no</td>\n",
       "      <td>no</td>\n",
       "      <td>no</td>\n",
       "      <td>no</td>\n",
       "    </tr>\n",
       "    <tr>\n",
       "      <th>2985</th>\n",
       "      <td>18000</td>\n",
       "      <td>Kullu</td>\n",
       "      <td>2021-12-02</td>\n",
       "      <td>2021-02-16</td>\n",
       "      <td>no</td>\n",
       "      <td>yes</td>\n",
       "      <td>no</td>\n",
       "      <td>yes</td>\n",
       "      <td>no</td>\n",
       "      <td>no</td>\n",
       "      <td>no</td>\n",
       "      <td>no</td>\n",
       "    </tr>\n",
       "    <tr>\n",
       "      <th>1874</th>\n",
       "      <td>4800</td>\n",
       "      <td>Chennai</td>\n",
       "      <td>2021-12-02</td>\n",
       "      <td>2021-02-16</td>\n",
       "      <td>no</td>\n",
       "      <td>yes</td>\n",
       "      <td>no</td>\n",
       "      <td>yes</td>\n",
       "      <td>no</td>\n",
       "      <td>no</td>\n",
       "      <td>no</td>\n",
       "      <td>yes</td>\n",
       "    </tr>\n",
       "    <tr>\n",
       "      <th>4548</th>\n",
       "      <td>41560</td>\n",
       "      <td>Jaipur</td>\n",
       "      <td>2021-12-02</td>\n",
       "      <td>2021-02-20</td>\n",
       "      <td>yes</td>\n",
       "      <td>yes</td>\n",
       "      <td>no</td>\n",
       "      <td>yes</td>\n",
       "      <td>yes</td>\n",
       "      <td>no</td>\n",
       "      <td>no</td>\n",
       "      <td>no</td>\n",
       "    </tr>\n",
       "  </tbody>\n",
       "</table>\n",
       "</div>"
      ],
      "text/plain": [
       "      price                             city Check_in_date Check_out_date  \\\n",
       "1578  10668                        Rishikesh    2021-12-02     2021-02-16   \n",
       "410   28000                           Munnar    2021-12-02     2021-02-18   \n",
       "4263  15800  Tirupati, Andhra Pradesh, India    2021-12-02     2021-02-20   \n",
       "1548  27996                        Rishikesh    2021-12-02     2021-02-16   \n",
       "3037   6156                            Kullu    2021-12-02     2021-02-16   \n",
       "1452   7000                        Rishikesh    2021-12-02     2021-02-14   \n",
       "4730   7500                          Lucknow    2021-12-02     2021-02-18   \n",
       "2985  18000                            Kullu    2021-12-02     2021-02-16   \n",
       "1874   4800                          Chennai    2021-12-02     2021-02-16   \n",
       "4548  41560                           Jaipur    2021-12-02     2021-02-20   \n",
       "\n",
       "     Pool Free parking  Spa Restaurant  Gym Bathtub Kitchen Internet access  \n",
       "1578   no          yes   no        yes   no      no      no              no  \n",
       "410    no          yes   no        yes   no      no      no              no  \n",
       "4263  yes          yes   no        yes  yes      no      no              no  \n",
       "1548  yes          yes  yes        yes   no      no      no              no  \n",
       "3037   no          yes   no         no   no      no      no              no  \n",
       "1452   no          yes   no        yes   no      no      no              no  \n",
       "4730   no          yes   no         no   no      no      no              no  \n",
       "2985   no          yes   no        yes   no      no      no              no  \n",
       "1874   no          yes   no        yes   no      no      no             yes  \n",
       "4548  yes          yes   no        yes  yes      no      no              no  "
      ]
     },
     "execution_count": 444,
     "metadata": {},
     "output_type": "execute_result"
    }
   ],
   "source": [
    "df.sample(10)"
   ]
  },
  {
   "cell_type": "code",
   "execution_count": 445,
   "id": "db6c6fac-eea6-45d5-aef8-5db3c9923e37",
   "metadata": {
    "tags": []
   },
   "outputs": [
    {
     "name": "stdout",
     "output_type": "stream",
     "text": [
      "<class 'pandas.core.frame.DataFrame'>\n",
      "RangeIndex: 5342 entries, 0 to 5341\n",
      "Data columns (total 12 columns):\n",
      " #   Column           Non-Null Count  Dtype \n",
      "---  ------           --------------  ----- \n",
      " 0   price            5342 non-null   int64 \n",
      " 1   city             5342 non-null   object\n",
      " 2   Check_in_date    5342 non-null   object\n",
      " 3   Check_out_date   5342 non-null   object\n",
      " 4   Pool             5342 non-null   object\n",
      " 5   Free parking     5342 non-null   object\n",
      " 6   Spa              5342 non-null   object\n",
      " 7   Restaurant       5342 non-null   object\n",
      " 8   Gym              5342 non-null   object\n",
      " 9   Bathtub          5342 non-null   object\n",
      " 10  Kitchen          5342 non-null   object\n",
      " 11  Internet access  5342 non-null   object\n",
      "dtypes: int64(1), object(11)\n",
      "memory usage: 500.9+ KB\n"
     ]
    }
   ],
   "source": [
    "df.info()"
   ]
  },
  {
   "cell_type": "code",
   "execution_count": 446,
   "id": "96067d5c-6d88-4be1-8add-411dc07d9d1b",
   "metadata": {
    "tags": []
   },
   "outputs": [],
   "source": [
    "df['Check_in_date']=pd.to_datetime(df['Check_in_date'])"
   ]
  },
  {
   "cell_type": "code",
   "execution_count": 447,
   "id": "9ba826ec-4941-4f66-86ab-29e549a39a88",
   "metadata": {
    "tags": []
   },
   "outputs": [],
   "source": [
    "df['Check_out_date']=pd.to_datetime(df['Check_out_date'])"
   ]
  },
  {
   "cell_type": "code",
   "execution_count": 448,
   "id": "0ee3c9b5-1acb-4363-8ea1-411f09e00b5c",
   "metadata": {
    "tags": []
   },
   "outputs": [
    {
     "name": "stdout",
     "output_type": "stream",
     "text": [
      "<class 'pandas.core.frame.DataFrame'>\n",
      "RangeIndex: 5342 entries, 0 to 5341\n",
      "Data columns (total 12 columns):\n",
      " #   Column           Non-Null Count  Dtype         \n",
      "---  ------           --------------  -----         \n",
      " 0   price            5342 non-null   int64         \n",
      " 1   city             5342 non-null   object        \n",
      " 2   Check_in_date    5342 non-null   datetime64[ns]\n",
      " 3   Check_out_date   5342 non-null   datetime64[ns]\n",
      " 4   Pool             5342 non-null   object        \n",
      " 5   Free parking     5342 non-null   object        \n",
      " 6   Spa              5342 non-null   object        \n",
      " 7   Restaurant       5342 non-null   object        \n",
      " 8   Gym              5342 non-null   object        \n",
      " 9   Bathtub          5342 non-null   object        \n",
      " 10  Kitchen          5342 non-null   object        \n",
      " 11  Internet access  5342 non-null   object        \n",
      "dtypes: datetime64[ns](2), int64(1), object(9)\n",
      "memory usage: 500.9+ KB\n"
     ]
    }
   ],
   "source": [
    "df.info()"
   ]
  },
  {
   "cell_type": "code",
   "execution_count": 449,
   "id": "38f17356-b648-480c-96fc-e345513d032a",
   "metadata": {
    "tags": []
   },
   "outputs": [],
   "source": [
    "df['date1']=df['Check_in_date'].dt.day"
   ]
  },
  {
   "cell_type": "code",
   "execution_count": 450,
   "id": "b0ebcf10-1c9a-4d48-b1c5-d37636b6209b",
   "metadata": {
    "tags": []
   },
   "outputs": [
    {
     "data": {
      "text/html": [
       "<div>\n",
       "<style scoped>\n",
       "    .dataframe tbody tr th:only-of-type {\n",
       "        vertical-align: middle;\n",
       "    }\n",
       "\n",
       "    .dataframe tbody tr th {\n",
       "        vertical-align: top;\n",
       "    }\n",
       "\n",
       "    .dataframe thead th {\n",
       "        text-align: right;\n",
       "    }\n",
       "</style>\n",
       "<table border=\"1\" class=\"dataframe\">\n",
       "  <thead>\n",
       "    <tr style=\"text-align: right;\">\n",
       "      <th></th>\n",
       "      <th>price</th>\n",
       "      <th>city</th>\n",
       "      <th>Check_in_date</th>\n",
       "      <th>Check_out_date</th>\n",
       "      <th>Pool</th>\n",
       "      <th>Free parking</th>\n",
       "      <th>Spa</th>\n",
       "      <th>Restaurant</th>\n",
       "      <th>Gym</th>\n",
       "      <th>Bathtub</th>\n",
       "      <th>Kitchen</th>\n",
       "      <th>Internet access</th>\n",
       "      <th>date1</th>\n",
       "    </tr>\n",
       "  </thead>\n",
       "  <tbody>\n",
       "    <tr>\n",
       "      <th>0</th>\n",
       "      <td>5040</td>\n",
       "      <td>Hyderabad</td>\n",
       "      <td>2021-12-02</td>\n",
       "      <td>2021-02-14</td>\n",
       "      <td>yes</td>\n",
       "      <td>yes</td>\n",
       "      <td>yes</td>\n",
       "      <td>yes</td>\n",
       "      <td>yes</td>\n",
       "      <td>no</td>\n",
       "      <td>no</td>\n",
       "      <td>no</td>\n",
       "      <td>2</td>\n",
       "    </tr>\n",
       "    <tr>\n",
       "      <th>1</th>\n",
       "      <td>7800</td>\n",
       "      <td>Hyderabad</td>\n",
       "      <td>2021-12-02</td>\n",
       "      <td>2021-02-14</td>\n",
       "      <td>yes</td>\n",
       "      <td>yes</td>\n",
       "      <td>yes</td>\n",
       "      <td>yes</td>\n",
       "      <td>yes</td>\n",
       "      <td>no</td>\n",
       "      <td>no</td>\n",
       "      <td>no</td>\n",
       "      <td>2</td>\n",
       "    </tr>\n",
       "    <tr>\n",
       "      <th>2</th>\n",
       "      <td>6700</td>\n",
       "      <td>Hyderabad</td>\n",
       "      <td>2021-12-02</td>\n",
       "      <td>2021-02-14</td>\n",
       "      <td>yes</td>\n",
       "      <td>yes</td>\n",
       "      <td>yes</td>\n",
       "      <td>yes</td>\n",
       "      <td>yes</td>\n",
       "      <td>no</td>\n",
       "      <td>no</td>\n",
       "      <td>no</td>\n",
       "      <td>2</td>\n",
       "    </tr>\n",
       "    <tr>\n",
       "      <th>3</th>\n",
       "      <td>6700</td>\n",
       "      <td>Hyderabad</td>\n",
       "      <td>2021-12-02</td>\n",
       "      <td>2021-02-14</td>\n",
       "      <td>yes</td>\n",
       "      <td>yes</td>\n",
       "      <td>yes</td>\n",
       "      <td>yes</td>\n",
       "      <td>yes</td>\n",
       "      <td>no</td>\n",
       "      <td>no</td>\n",
       "      <td>no</td>\n",
       "      <td>2</td>\n",
       "    </tr>\n",
       "    <tr>\n",
       "      <th>4</th>\n",
       "      <td>6375</td>\n",
       "      <td>Hyderabad</td>\n",
       "      <td>2021-12-02</td>\n",
       "      <td>2021-02-14</td>\n",
       "      <td>yes</td>\n",
       "      <td>yes</td>\n",
       "      <td>yes</td>\n",
       "      <td>yes</td>\n",
       "      <td>yes</td>\n",
       "      <td>no</td>\n",
       "      <td>no</td>\n",
       "      <td>no</td>\n",
       "      <td>2</td>\n",
       "    </tr>\n",
       "  </tbody>\n",
       "</table>\n",
       "</div>"
      ],
      "text/plain": [
       "   price       city Check_in_date Check_out_date Pool Free parking  Spa  \\\n",
       "0   5040  Hyderabad    2021-12-02     2021-02-14  yes          yes  yes   \n",
       "1   7800  Hyderabad    2021-12-02     2021-02-14  yes          yes  yes   \n",
       "2   6700  Hyderabad    2021-12-02     2021-02-14  yes          yes  yes   \n",
       "3   6700  Hyderabad    2021-12-02     2021-02-14  yes          yes  yes   \n",
       "4   6375  Hyderabad    2021-12-02     2021-02-14  yes          yes  yes   \n",
       "\n",
       "  Restaurant  Gym Bathtub Kitchen Internet access  date1  \n",
       "0        yes  yes      no      no              no      2  \n",
       "1        yes  yes      no      no              no      2  \n",
       "2        yes  yes      no      no              no      2  \n",
       "3        yes  yes      no      no              no      2  \n",
       "4        yes  yes      no      no              no      2  "
      ]
     },
     "execution_count": 450,
     "metadata": {},
     "output_type": "execute_result"
    }
   ],
   "source": [
    "df.head()"
   ]
  },
  {
   "cell_type": "code",
   "execution_count": 451,
   "id": "4c47241f-00e3-4d30-bc8b-1e5181f3b370",
   "metadata": {
    "tags": []
   },
   "outputs": [],
   "source": [
    "df['date2']=df['Check_out_date'].dt.day"
   ]
  },
  {
   "cell_type": "code",
   "execution_count": 452,
   "id": "d532a284-b510-4787-afad-52d18874433e",
   "metadata": {
    "tags": []
   },
   "outputs": [],
   "source": [
    "df['duration']=df['date2']-df['date1']"
   ]
  },
  {
   "cell_type": "code",
   "execution_count": 453,
   "id": "86ae06f4-649f-44b8-ba79-f5a544ff88bd",
   "metadata": {
    "tags": []
   },
   "outputs": [
    {
     "data": {
      "text/html": [
       "<div>\n",
       "<style scoped>\n",
       "    .dataframe tbody tr th:only-of-type {\n",
       "        vertical-align: middle;\n",
       "    }\n",
       "\n",
       "    .dataframe tbody tr th {\n",
       "        vertical-align: top;\n",
       "    }\n",
       "\n",
       "    .dataframe thead th {\n",
       "        text-align: right;\n",
       "    }\n",
       "</style>\n",
       "<table border=\"1\" class=\"dataframe\">\n",
       "  <thead>\n",
       "    <tr style=\"text-align: right;\">\n",
       "      <th></th>\n",
       "      <th>price</th>\n",
       "      <th>city</th>\n",
       "      <th>Check_in_date</th>\n",
       "      <th>Check_out_date</th>\n",
       "      <th>Pool</th>\n",
       "      <th>Free parking</th>\n",
       "      <th>Spa</th>\n",
       "      <th>Restaurant</th>\n",
       "      <th>Gym</th>\n",
       "      <th>Bathtub</th>\n",
       "      <th>Kitchen</th>\n",
       "      <th>Internet access</th>\n",
       "      <th>date1</th>\n",
       "      <th>date2</th>\n",
       "      <th>duration</th>\n",
       "    </tr>\n",
       "  </thead>\n",
       "  <tbody>\n",
       "    <tr>\n",
       "      <th>0</th>\n",
       "      <td>5040</td>\n",
       "      <td>Hyderabad</td>\n",
       "      <td>2021-12-02</td>\n",
       "      <td>2021-02-14</td>\n",
       "      <td>yes</td>\n",
       "      <td>yes</td>\n",
       "      <td>yes</td>\n",
       "      <td>yes</td>\n",
       "      <td>yes</td>\n",
       "      <td>no</td>\n",
       "      <td>no</td>\n",
       "      <td>no</td>\n",
       "      <td>2</td>\n",
       "      <td>14</td>\n",
       "      <td>12</td>\n",
       "    </tr>\n",
       "    <tr>\n",
       "      <th>1</th>\n",
       "      <td>7800</td>\n",
       "      <td>Hyderabad</td>\n",
       "      <td>2021-12-02</td>\n",
       "      <td>2021-02-14</td>\n",
       "      <td>yes</td>\n",
       "      <td>yes</td>\n",
       "      <td>yes</td>\n",
       "      <td>yes</td>\n",
       "      <td>yes</td>\n",
       "      <td>no</td>\n",
       "      <td>no</td>\n",
       "      <td>no</td>\n",
       "      <td>2</td>\n",
       "      <td>14</td>\n",
       "      <td>12</td>\n",
       "    </tr>\n",
       "    <tr>\n",
       "      <th>2</th>\n",
       "      <td>6700</td>\n",
       "      <td>Hyderabad</td>\n",
       "      <td>2021-12-02</td>\n",
       "      <td>2021-02-14</td>\n",
       "      <td>yes</td>\n",
       "      <td>yes</td>\n",
       "      <td>yes</td>\n",
       "      <td>yes</td>\n",
       "      <td>yes</td>\n",
       "      <td>no</td>\n",
       "      <td>no</td>\n",
       "      <td>no</td>\n",
       "      <td>2</td>\n",
       "      <td>14</td>\n",
       "      <td>12</td>\n",
       "    </tr>\n",
       "    <tr>\n",
       "      <th>3</th>\n",
       "      <td>6700</td>\n",
       "      <td>Hyderabad</td>\n",
       "      <td>2021-12-02</td>\n",
       "      <td>2021-02-14</td>\n",
       "      <td>yes</td>\n",
       "      <td>yes</td>\n",
       "      <td>yes</td>\n",
       "      <td>yes</td>\n",
       "      <td>yes</td>\n",
       "      <td>no</td>\n",
       "      <td>no</td>\n",
       "      <td>no</td>\n",
       "      <td>2</td>\n",
       "      <td>14</td>\n",
       "      <td>12</td>\n",
       "    </tr>\n",
       "    <tr>\n",
       "      <th>4</th>\n",
       "      <td>6375</td>\n",
       "      <td>Hyderabad</td>\n",
       "      <td>2021-12-02</td>\n",
       "      <td>2021-02-14</td>\n",
       "      <td>yes</td>\n",
       "      <td>yes</td>\n",
       "      <td>yes</td>\n",
       "      <td>yes</td>\n",
       "      <td>yes</td>\n",
       "      <td>no</td>\n",
       "      <td>no</td>\n",
       "      <td>no</td>\n",
       "      <td>2</td>\n",
       "      <td>14</td>\n",
       "      <td>12</td>\n",
       "    </tr>\n",
       "  </tbody>\n",
       "</table>\n",
       "</div>"
      ],
      "text/plain": [
       "   price       city Check_in_date Check_out_date Pool Free parking  Spa  \\\n",
       "0   5040  Hyderabad    2021-12-02     2021-02-14  yes          yes  yes   \n",
       "1   7800  Hyderabad    2021-12-02     2021-02-14  yes          yes  yes   \n",
       "2   6700  Hyderabad    2021-12-02     2021-02-14  yes          yes  yes   \n",
       "3   6700  Hyderabad    2021-12-02     2021-02-14  yes          yes  yes   \n",
       "4   6375  Hyderabad    2021-12-02     2021-02-14  yes          yes  yes   \n",
       "\n",
       "  Restaurant  Gym Bathtub Kitchen Internet access  date1  date2  duration  \n",
       "0        yes  yes      no      no              no      2     14        12  \n",
       "1        yes  yes      no      no              no      2     14        12  \n",
       "2        yes  yes      no      no              no      2     14        12  \n",
       "3        yes  yes      no      no              no      2     14        12  \n",
       "4        yes  yes      no      no              no      2     14        12  "
      ]
     },
     "execution_count": 453,
     "metadata": {},
     "output_type": "execute_result"
    }
   ],
   "source": [
    "df.head()"
   ]
  },
  {
   "cell_type": "code",
   "execution_count": 454,
   "id": "926fc008-6ffb-4afc-95ca-31a3097449b8",
   "metadata": {
    "tags": []
   },
   "outputs": [
    {
     "data": {
      "text/html": [
       "<div>\n",
       "<style scoped>\n",
       "    .dataframe tbody tr th:only-of-type {\n",
       "        vertical-align: middle;\n",
       "    }\n",
       "\n",
       "    .dataframe tbody tr th {\n",
       "        vertical-align: top;\n",
       "    }\n",
       "\n",
       "    .dataframe thead th {\n",
       "        text-align: right;\n",
       "    }\n",
       "</style>\n",
       "<table border=\"1\" class=\"dataframe\">\n",
       "  <thead>\n",
       "    <tr style=\"text-align: right;\">\n",
       "      <th></th>\n",
       "      <th>price</th>\n",
       "      <th>city</th>\n",
       "      <th>Check_in_date</th>\n",
       "      <th>Check_out_date</th>\n",
       "      <th>Pool</th>\n",
       "      <th>Free parking</th>\n",
       "      <th>Spa</th>\n",
       "      <th>Restaurant</th>\n",
       "      <th>Gym</th>\n",
       "      <th>Bathtub</th>\n",
       "      <th>Kitchen</th>\n",
       "      <th>Internet access</th>\n",
       "      <th>date1</th>\n",
       "      <th>date2</th>\n",
       "      <th>duration</th>\n",
       "    </tr>\n",
       "  </thead>\n",
       "  <tbody>\n",
       "    <tr>\n",
       "      <th>3143</th>\n",
       "      <td>21300</td>\n",
       "      <td>Kullu</td>\n",
       "      <td>2021-12-02</td>\n",
       "      <td>2021-02-18</td>\n",
       "      <td>no</td>\n",
       "      <td>yes</td>\n",
       "      <td>yes</td>\n",
       "      <td>yes</td>\n",
       "      <td>yes</td>\n",
       "      <td>no</td>\n",
       "      <td>no</td>\n",
       "      <td>no</td>\n",
       "      <td>2</td>\n",
       "      <td>18</td>\n",
       "      <td>16</td>\n",
       "    </tr>\n",
       "    <tr>\n",
       "      <th>4429</th>\n",
       "      <td>22276</td>\n",
       "      <td>Jaipur</td>\n",
       "      <td>2021-12-02</td>\n",
       "      <td>2021-02-17</td>\n",
       "      <td>no</td>\n",
       "      <td>no</td>\n",
       "      <td>no</td>\n",
       "      <td>no</td>\n",
       "      <td>no</td>\n",
       "      <td>yes</td>\n",
       "      <td>no</td>\n",
       "      <td>no</td>\n",
       "      <td>2</td>\n",
       "      <td>17</td>\n",
       "      <td>15</td>\n",
       "    </tr>\n",
       "    <tr>\n",
       "      <th>3369</th>\n",
       "      <td>15000</td>\n",
       "      <td>Bhopal</td>\n",
       "      <td>2021-12-02</td>\n",
       "      <td>2021-02-18</td>\n",
       "      <td>no</td>\n",
       "      <td>yes</td>\n",
       "      <td>no</td>\n",
       "      <td>yes</td>\n",
       "      <td>no</td>\n",
       "      <td>no</td>\n",
       "      <td>no</td>\n",
       "      <td>no</td>\n",
       "      <td>2</td>\n",
       "      <td>18</td>\n",
       "      <td>16</td>\n",
       "    </tr>\n",
       "    <tr>\n",
       "      <th>2033</th>\n",
       "      <td>12710</td>\n",
       "      <td>Banglore</td>\n",
       "      <td>2021-12-02</td>\n",
       "      <td>2021-02-18</td>\n",
       "      <td>no</td>\n",
       "      <td>no</td>\n",
       "      <td>no</td>\n",
       "      <td>no</td>\n",
       "      <td>no</td>\n",
       "      <td>no</td>\n",
       "      <td>no</td>\n",
       "      <td>no</td>\n",
       "      <td>2</td>\n",
       "      <td>18</td>\n",
       "      <td>16</td>\n",
       "    </tr>\n",
       "    <tr>\n",
       "      <th>4683</th>\n",
       "      <td>20160</td>\n",
       "      <td>Lucknow</td>\n",
       "      <td>2021-12-02</td>\n",
       "      <td>2021-02-18</td>\n",
       "      <td>yes</td>\n",
       "      <td>yes</td>\n",
       "      <td>no</td>\n",
       "      <td>yes</td>\n",
       "      <td>yes</td>\n",
       "      <td>no</td>\n",
       "      <td>no</td>\n",
       "      <td>no</td>\n",
       "      <td>2</td>\n",
       "      <td>18</td>\n",
       "      <td>16</td>\n",
       "    </tr>\n",
       "    <tr>\n",
       "      <th>1040</th>\n",
       "      <td>2772</td>\n",
       "      <td>Kochi</td>\n",
       "      <td>2021-12-02</td>\n",
       "      <td>2021-02-14</td>\n",
       "      <td>no</td>\n",
       "      <td>yes</td>\n",
       "      <td>yes</td>\n",
       "      <td>yes</td>\n",
       "      <td>no</td>\n",
       "      <td>no</td>\n",
       "      <td>no</td>\n",
       "      <td>yes</td>\n",
       "      <td>2</td>\n",
       "      <td>14</td>\n",
       "      <td>12</td>\n",
       "    </tr>\n",
       "    <tr>\n",
       "      <th>1272</th>\n",
       "      <td>15913</td>\n",
       "      <td>Kochi</td>\n",
       "      <td>2021-12-02</td>\n",
       "      <td>2021-02-18</td>\n",
       "      <td>no</td>\n",
       "      <td>yes</td>\n",
       "      <td>no</td>\n",
       "      <td>no</td>\n",
       "      <td>no</td>\n",
       "      <td>yes</td>\n",
       "      <td>no</td>\n",
       "      <td>no</td>\n",
       "      <td>2</td>\n",
       "      <td>18</td>\n",
       "      <td>16</td>\n",
       "    </tr>\n",
       "    <tr>\n",
       "      <th>2816</th>\n",
       "      <td>22436</td>\n",
       "      <td>New Delhi</td>\n",
       "      <td>2021-12-02</td>\n",
       "      <td>2021-02-18</td>\n",
       "      <td>no</td>\n",
       "      <td>yes</td>\n",
       "      <td>no</td>\n",
       "      <td>yes</td>\n",
       "      <td>no</td>\n",
       "      <td>no</td>\n",
       "      <td>no</td>\n",
       "      <td>no</td>\n",
       "      <td>2</td>\n",
       "      <td>18</td>\n",
       "      <td>16</td>\n",
       "    </tr>\n",
       "    <tr>\n",
       "      <th>39</th>\n",
       "      <td>16200</td>\n",
       "      <td>Hyderabad</td>\n",
       "      <td>2021-12-02</td>\n",
       "      <td>2021-02-14</td>\n",
       "      <td>yes</td>\n",
       "      <td>yes</td>\n",
       "      <td>yes</td>\n",
       "      <td>yes</td>\n",
       "      <td>yes</td>\n",
       "      <td>no</td>\n",
       "      <td>no</td>\n",
       "      <td>no</td>\n",
       "      <td>2</td>\n",
       "      <td>14</td>\n",
       "      <td>12</td>\n",
       "    </tr>\n",
       "    <tr>\n",
       "      <th>1736</th>\n",
       "      <td>1998</td>\n",
       "      <td>Chennai</td>\n",
       "      <td>2021-12-02</td>\n",
       "      <td>2021-02-14</td>\n",
       "      <td>no</td>\n",
       "      <td>yes</td>\n",
       "      <td>yes</td>\n",
       "      <td>no</td>\n",
       "      <td>no</td>\n",
       "      <td>no</td>\n",
       "      <td>no</td>\n",
       "      <td>no</td>\n",
       "      <td>2</td>\n",
       "      <td>14</td>\n",
       "      <td>12</td>\n",
       "    </tr>\n",
       "  </tbody>\n",
       "</table>\n",
       "</div>"
      ],
      "text/plain": [
       "      price       city Check_in_date Check_out_date Pool Free parking  Spa  \\\n",
       "3143  21300      Kullu    2021-12-02     2021-02-18   no          yes  yes   \n",
       "4429  22276     Jaipur    2021-12-02     2021-02-17   no           no   no   \n",
       "3369  15000     Bhopal    2021-12-02     2021-02-18   no          yes   no   \n",
       "2033  12710   Banglore    2021-12-02     2021-02-18   no           no   no   \n",
       "4683  20160    Lucknow    2021-12-02     2021-02-18  yes          yes   no   \n",
       "1040   2772      Kochi    2021-12-02     2021-02-14   no          yes  yes   \n",
       "1272  15913      Kochi    2021-12-02     2021-02-18   no          yes   no   \n",
       "2816  22436  New Delhi    2021-12-02     2021-02-18   no          yes   no   \n",
       "39    16200  Hyderabad    2021-12-02     2021-02-14  yes          yes  yes   \n",
       "1736   1998    Chennai    2021-12-02     2021-02-14   no          yes  yes   \n",
       "\n",
       "     Restaurant  Gym Bathtub Kitchen Internet access  date1  date2  duration  \n",
       "3143        yes  yes      no      no              no      2     18        16  \n",
       "4429         no   no     yes      no              no      2     17        15  \n",
       "3369        yes   no      no      no              no      2     18        16  \n",
       "2033         no   no      no      no              no      2     18        16  \n",
       "4683        yes  yes      no      no              no      2     18        16  \n",
       "1040        yes   no      no      no             yes      2     14        12  \n",
       "1272         no   no     yes      no              no      2     18        16  \n",
       "2816        yes   no      no      no              no      2     18        16  \n",
       "39          yes  yes      no      no              no      2     14        12  \n",
       "1736         no   no      no      no              no      2     14        12  "
      ]
     },
     "execution_count": 454,
     "metadata": {},
     "output_type": "execute_result"
    }
   ],
   "source": [
    "df.sample(10)"
   ]
  },
  {
   "cell_type": "code",
   "execution_count": 455,
   "id": "16f7b395-a1ee-4bc3-b13b-85a8e03cd359",
   "metadata": {
    "tags": []
   },
   "outputs": [],
   "source": [
    "df.drop(columns=['Check_in_date','Check_out_date','date1','date2','Bathtub'],inplace=True)"
   ]
  },
  {
   "cell_type": "code",
   "execution_count": 456,
   "id": "35994737-1ce9-4f0c-985a-5b3e559e267c",
   "metadata": {
    "tags": []
   },
   "outputs": [
    {
     "data": {
      "text/html": [
       "<div>\n",
       "<style scoped>\n",
       "    .dataframe tbody tr th:only-of-type {\n",
       "        vertical-align: middle;\n",
       "    }\n",
       "\n",
       "    .dataframe tbody tr th {\n",
       "        vertical-align: top;\n",
       "    }\n",
       "\n",
       "    .dataframe thead th {\n",
       "        text-align: right;\n",
       "    }\n",
       "</style>\n",
       "<table border=\"1\" class=\"dataframe\">\n",
       "  <thead>\n",
       "    <tr style=\"text-align: right;\">\n",
       "      <th></th>\n",
       "      <th>price</th>\n",
       "      <th>city</th>\n",
       "      <th>Pool</th>\n",
       "      <th>Free parking</th>\n",
       "      <th>Spa</th>\n",
       "      <th>Restaurant</th>\n",
       "      <th>Gym</th>\n",
       "      <th>Kitchen</th>\n",
       "      <th>Internet access</th>\n",
       "      <th>duration</th>\n",
       "    </tr>\n",
       "  </thead>\n",
       "  <tbody>\n",
       "    <tr>\n",
       "      <th>0</th>\n",
       "      <td>5040</td>\n",
       "      <td>Hyderabad</td>\n",
       "      <td>yes</td>\n",
       "      <td>yes</td>\n",
       "      <td>yes</td>\n",
       "      <td>yes</td>\n",
       "      <td>yes</td>\n",
       "      <td>no</td>\n",
       "      <td>no</td>\n",
       "      <td>12</td>\n",
       "    </tr>\n",
       "    <tr>\n",
       "      <th>1</th>\n",
       "      <td>7800</td>\n",
       "      <td>Hyderabad</td>\n",
       "      <td>yes</td>\n",
       "      <td>yes</td>\n",
       "      <td>yes</td>\n",
       "      <td>yes</td>\n",
       "      <td>yes</td>\n",
       "      <td>no</td>\n",
       "      <td>no</td>\n",
       "      <td>12</td>\n",
       "    </tr>\n",
       "    <tr>\n",
       "      <th>2</th>\n",
       "      <td>6700</td>\n",
       "      <td>Hyderabad</td>\n",
       "      <td>yes</td>\n",
       "      <td>yes</td>\n",
       "      <td>yes</td>\n",
       "      <td>yes</td>\n",
       "      <td>yes</td>\n",
       "      <td>no</td>\n",
       "      <td>no</td>\n",
       "      <td>12</td>\n",
       "    </tr>\n",
       "    <tr>\n",
       "      <th>3</th>\n",
       "      <td>6700</td>\n",
       "      <td>Hyderabad</td>\n",
       "      <td>yes</td>\n",
       "      <td>yes</td>\n",
       "      <td>yes</td>\n",
       "      <td>yes</td>\n",
       "      <td>yes</td>\n",
       "      <td>no</td>\n",
       "      <td>no</td>\n",
       "      <td>12</td>\n",
       "    </tr>\n",
       "    <tr>\n",
       "      <th>4</th>\n",
       "      <td>6375</td>\n",
       "      <td>Hyderabad</td>\n",
       "      <td>yes</td>\n",
       "      <td>yes</td>\n",
       "      <td>yes</td>\n",
       "      <td>yes</td>\n",
       "      <td>yes</td>\n",
       "      <td>no</td>\n",
       "      <td>no</td>\n",
       "      <td>12</td>\n",
       "    </tr>\n",
       "  </tbody>\n",
       "</table>\n",
       "</div>"
      ],
      "text/plain": [
       "   price       city Pool Free parking  Spa Restaurant  Gym Kitchen  \\\n",
       "0   5040  Hyderabad  yes          yes  yes        yes  yes      no   \n",
       "1   7800  Hyderabad  yes          yes  yes        yes  yes      no   \n",
       "2   6700  Hyderabad  yes          yes  yes        yes  yes      no   \n",
       "3   6700  Hyderabad  yes          yes  yes        yes  yes      no   \n",
       "4   6375  Hyderabad  yes          yes  yes        yes  yes      no   \n",
       "\n",
       "  Internet access  duration  \n",
       "0              no        12  \n",
       "1              no        12  \n",
       "2              no        12  \n",
       "3              no        12  \n",
       "4              no        12  "
      ]
     },
     "execution_count": 456,
     "metadata": {},
     "output_type": "execute_result"
    }
   ],
   "source": [
    "df.head()"
   ]
  },
  {
   "cell_type": "code",
   "execution_count": 457,
   "id": "c4a85410-8e68-41c2-bdb1-134f267e9956",
   "metadata": {
    "tags": []
   },
   "outputs": [
    {
     "name": "stdout",
     "output_type": "stream",
     "text": [
      "<class 'pandas.core.frame.DataFrame'>\n",
      "RangeIndex: 5342 entries, 0 to 5341\n",
      "Data columns (total 10 columns):\n",
      " #   Column           Non-Null Count  Dtype \n",
      "---  ------           --------------  ----- \n",
      " 0   price            5342 non-null   int64 \n",
      " 1   city             5342 non-null   object\n",
      " 2   Pool             5342 non-null   object\n",
      " 3   Free parking     5342 non-null   object\n",
      " 4   Spa              5342 non-null   object\n",
      " 5   Restaurant       5342 non-null   object\n",
      " 6   Gym              5342 non-null   object\n",
      " 7   Kitchen          5342 non-null   object\n",
      " 8   Internet access  5342 non-null   object\n",
      " 9   duration         5342 non-null   int32 \n",
      "dtypes: int32(1), int64(1), object(8)\n",
      "memory usage: 396.6+ KB\n"
     ]
    }
   ],
   "source": [
    "df.info()"
   ]
  },
  {
   "cell_type": "code",
   "execution_count": 458,
   "id": "f3511a56-03ba-4045-8d3e-2a752567949e",
   "metadata": {
    "tags": []
   },
   "outputs": [
    {
     "data": {
      "text/html": [
       "<div>\n",
       "<style scoped>\n",
       "    .dataframe tbody tr th:only-of-type {\n",
       "        vertical-align: middle;\n",
       "    }\n",
       "\n",
       "    .dataframe tbody tr th {\n",
       "        vertical-align: top;\n",
       "    }\n",
       "\n",
       "    .dataframe thead th {\n",
       "        text-align: right;\n",
       "    }\n",
       "</style>\n",
       "<table border=\"1\" class=\"dataframe\">\n",
       "  <thead>\n",
       "    <tr style=\"text-align: right;\">\n",
       "      <th></th>\n",
       "      <th>price</th>\n",
       "      <th>duration</th>\n",
       "    </tr>\n",
       "  </thead>\n",
       "  <tbody>\n",
       "    <tr>\n",
       "      <th>count</th>\n",
       "      <td>5342.000000</td>\n",
       "      <td>5342.000000</td>\n",
       "    </tr>\n",
       "    <tr>\n",
       "      <th>mean</th>\n",
       "      <td>14229.164171</td>\n",
       "      <td>14.956196</td>\n",
       "    </tr>\n",
       "    <tr>\n",
       "      <th>std</th>\n",
       "      <td>20464.210225</td>\n",
       "      <td>1.887976</td>\n",
       "    </tr>\n",
       "    <tr>\n",
       "      <th>min</th>\n",
       "      <td>698.000000</td>\n",
       "      <td>12.000000</td>\n",
       "    </tr>\n",
       "    <tr>\n",
       "      <th>25%</th>\n",
       "      <td>5555.500000</td>\n",
       "      <td>14.000000</td>\n",
       "    </tr>\n",
       "    <tr>\n",
       "      <th>50%</th>\n",
       "      <td>9397.500000</td>\n",
       "      <td>15.000000</td>\n",
       "    </tr>\n",
       "    <tr>\n",
       "      <th>75%</th>\n",
       "      <td>16200.000000</td>\n",
       "      <td>16.000000</td>\n",
       "    </tr>\n",
       "    <tr>\n",
       "      <th>max</th>\n",
       "      <td>500000.000000</td>\n",
       "      <td>18.000000</td>\n",
       "    </tr>\n",
       "  </tbody>\n",
       "</table>\n",
       "</div>"
      ],
      "text/plain": [
       "               price     duration\n",
       "count    5342.000000  5342.000000\n",
       "mean    14229.164171    14.956196\n",
       "std     20464.210225     1.887976\n",
       "min       698.000000    12.000000\n",
       "25%      5555.500000    14.000000\n",
       "50%      9397.500000    15.000000\n",
       "75%     16200.000000    16.000000\n",
       "max    500000.000000    18.000000"
      ]
     },
     "execution_count": 458,
     "metadata": {},
     "output_type": "execute_result"
    }
   ],
   "source": [
    "df.describe()"
   ]
  },
  {
   "cell_type": "code",
   "execution_count": 459,
   "id": "9f084089-4256-4a81-9cbc-e8e5bae5e911",
   "metadata": {
    "tags": []
   },
   "outputs": [
    {
     "data": {
      "text/plain": [
       "price              0\n",
       "city               0\n",
       "Pool               0\n",
       "Free parking       0\n",
       "Spa                0\n",
       "Restaurant         0\n",
       "Gym                0\n",
       "Kitchen            0\n",
       "Internet access    0\n",
       "duration           0\n",
       "dtype: int64"
      ]
     },
     "execution_count": 459,
     "metadata": {},
     "output_type": "execute_result"
    }
   ],
   "source": [
    "df.isnull().sum()"
   ]
  },
  {
   "cell_type": "code",
   "execution_count": 460,
   "id": "543699e8-980e-48ff-814e-2a7baf918e90",
   "metadata": {
    "tags": []
   },
   "outputs": [
    {
     "data": {
      "text/plain": [
       "(5342, 10)"
      ]
     },
     "execution_count": 460,
     "metadata": {},
     "output_type": "execute_result"
    }
   ],
   "source": [
    "df.shape"
   ]
  },
  {
   "cell_type": "code",
   "execution_count": 461,
   "id": "a6c8b072-e454-41f6-b462-9ee6c9599088",
   "metadata": {
    "tags": []
   },
   "outputs": [
    {
     "data": {
      "text/plain": [
       "857"
      ]
     },
     "execution_count": 461,
     "metadata": {},
     "output_type": "execute_result"
    }
   ],
   "source": [
    "df.duplicated().sum()"
   ]
  },
  {
   "cell_type": "code",
   "execution_count": 462,
   "id": "bbaa98a0-844c-4149-a1bb-85a1db275fe9",
   "metadata": {
    "tags": []
   },
   "outputs": [
    {
     "data": {
      "text/plain": [
       "(5342, 10)"
      ]
     },
     "execution_count": 462,
     "metadata": {},
     "output_type": "execute_result"
    }
   ],
   "source": [
    "df.shape"
   ]
  },
  {
   "cell_type": "code",
   "execution_count": 463,
   "id": "43ecbc9a-ce5e-4ac0-a67b-416fab853066",
   "metadata": {
    "tags": []
   },
   "outputs": [],
   "source": [
    "df.drop_duplicates(inplace=True)"
   ]
  },
  {
   "cell_type": "code",
   "execution_count": 464,
   "id": "dcb00115-7be8-47e3-8236-110ac6c2dcc9",
   "metadata": {
    "tags": []
   },
   "outputs": [
    {
     "data": {
      "text/plain": [
       "(4485, 10)"
      ]
     },
     "execution_count": 464,
     "metadata": {},
     "output_type": "execute_result"
    }
   ],
   "source": [
    "df.shape"
   ]
  },
  {
   "cell_type": "code",
   "execution_count": 465,
   "id": "555a93d5-c07b-4943-9ba6-868d23b5a720",
   "metadata": {
    "tags": []
   },
   "outputs": [
    {
     "name": "stderr",
     "output_type": "stream",
     "text": [
      "C:\\Users\\bagwe\\anaconda3\\Lib\\site-packages\\seaborn\\axisgrid.py:118: UserWarning: The figure layout has changed to tight\n",
      "  self._figure.tight_layout(*args, **kwargs)\n"
     ]
    },
    {
     "data": {
      "text/plain": [
       "<seaborn.axisgrid.PairGrid at 0x2ef4a9c7290>"
      ]
     },
     "execution_count": 465,
     "metadata": {},
     "output_type": "execute_result"
    },
    {
     "data": {
      "image/png": "[encoded data removed]",
      "text/plain": [
       "<Figure size 295.736x250 with 2 Axes>"
      ]
     },
     "metadata": {},
     "output_type": "display_data"
    }
   ],
   "source": [
    "sns.pairplot(df,hue='price')"
   ]
  },
  {
   "cell_type": "code",
   "execution_count": 466,
   "id": "99eabde8-2c35-4584-ad1f-a6c6cba0692d",
   "metadata": {
    "tags": []
   },
   "outputs": [
    {
     "data": {
      "text/plain": [
       "<Axes: xlabel='Pool', ylabel='count'>"
      ]
     },
     "execution_count": 466,
     "metadata": {},
     "output_type": "execute_result"
    },
    {
     "data": {
      "image/png": "[encoded data removed]",
      "text/plain": [
       "<Figure size 640x480 with 1 Axes>"
      ]
     },
     "metadata": {},
     "output_type": "display_data"
    }
   ],
   "source": [
    "sns.countplot(df,x='Pool')"
   ]
  },
  {
   "cell_type": "code",
   "execution_count": 467,
   "id": "b67cdc27-9cdd-42a4-8c0b-a9de207da566",
   "metadata": {
    "tags": []
   },
   "outputs": [
    {
     "data": {
      "text/plain": [
       "<Axes: xlabel='Spa', ylabel='count'>"
      ]
     },
     "execution_count": 467,
     "metadata": {},
     "output_type": "execute_result"
    },
    {
     "data": {
      "image/png": "[encoded data removed]",
      "text/plain": [
       "<Figure size 640x480 with 1 Axes>"
      ]
     },
     "metadata": {},
     "output_type": "display_data"
    }
   ],
   "source": [
    "sns.countplot(df,x='Spa')"
   ]
  },
  {
   "cell_type": "code",
   "execution_count": 468,
   "id": "9eaa201a-aba6-404b-a98c-7339d74c5cee",
   "metadata": {
    "tags": []
   },
   "outputs": [
    {
     "data": {
      "text/plain": [
       "<Axes: xlabel='Free parking', ylabel='count'>"
      ]
     },
     "execution_count": 468,
     "metadata": {},
     "output_type": "execute_result"
    },
    {
     "data": {
      "image/png": "[encoded data removed]",
      "text/plain": [
       "<Figure size 640x480 with 1 Axes>"
      ]
     },
     "metadata": {},
     "output_type": "display_data"
    }
   ],
   "source": [
    "sns.countplot(df,x='Free parking')"
   ]
  },
  {
   "cell_type": "code",
   "execution_count": 469,
   "id": "77cae039-e11b-4ec8-afd4-cbcb4530de78",
   "metadata": {
    "tags": []
   },
   "outputs": [],
   "source": [
    "col_list=['Pool','Free parking','Spa','Restaurant','Internet access','Kitchen','Gym']"
   ]
  },
  {
   "cell_type": "code",
   "execution_count": 470,
   "id": "fa49bbda-b849-4c71-89d9-3260e11773c0",
   "metadata": {
    "tags": []
   },
   "outputs": [
    {
     "data": {
      "image/png": "[encoded data removed]",
      "text/plain": [
       "<Figure size 1200x1600 with 7 Axes>"
      ]
     },
     "metadata": {},
     "output_type": "display_data"
    }
   ],
   "source": [
    "plt.figure(figsize=(12,16))\n",
    "i=1\n",
    "\n",
    "for col in col_list:\n",
    "    plt.subplot(4,3,i)\n",
    "    sns.countplot(df,x=col)\n",
    "    i += 1"
   ]
  },
  {
   "cell_type": "code",
   "execution_count": 471,
   "id": "a66f8498-d7cc-4129-8e1e-8739fee20b83",
   "metadata": {
    "tags": []
   },
   "outputs": [
    {
     "data": {
      "image/png": "[encoded data removed]",
      "text/plain": [
       "<Figure size 1200x1600 with 7 Axes>"
      ]
     },
     "metadata": {},
     "output_type": "display_data"
    }
   ],
   "source": [
    "plt.figure(figsize=(12,16))\n",
    "i=1\n",
    "\n",
    "for col in col_list:\n",
    "    plt.subplot(4,3,i)\n",
    "    df[col].value_counts().plot(kind='pie',autopct=\"%.2f\")\n",
    "    i += 1"
   ]
  },
  {
   "cell_type": "code",
   "execution_count": 472,
   "id": "573ab02e-4eac-4b53-91a7-c4415ac0e7ee",
   "metadata": {
    "tags": []
   },
   "outputs": [
    {
     "data": {
      "text/plain": [
       "<Axes: xlabel='price', ylabel='Count'>"
      ]
     },
     "execution_count": 472,
     "metadata": {},
     "output_type": "execute_result"
    },
    {
     "data": {
      "image/png": "[encoded data removed]",
      "text/plain": [
       "<Figure size 640x480 with 1 Axes>"
      ]
     },
     "metadata": {},
     "output_type": "display_data"
    }
   ],
   "source": [
    "sns.histplot(df['price'])"
   ]
  },
  {
   "cell_type": "code",
   "execution_count": 473,
   "id": "2b0e49a7-cc47-4b8d-b6b4-0668778b7601",
   "metadata": {
    "tags": []
   },
   "outputs": [
    {
     "data": {
      "text/plain": [
       "<Axes: xlabel='price', ylabel='duration'>"
      ]
     },
     "execution_count": 473,
     "metadata": {},
     "output_type": "execute_result"
    },
    {
     "data": {
      "image/png": "[encoded data removed]",
      "text/plain": [
       "<Figure size 640x480 with 1 Axes>"
      ]
     },
     "metadata": {},
     "output_type": "display_data"
    }
   ],
   "source": [
    "sns.scatterplot(df,x='price',y='duration')"
   ]
  },
  {
   "cell_type": "code",
   "execution_count": 474,
   "id": "826400ed-9efd-4392-80f2-4748417e3f76",
   "metadata": {
    "tags": []
   },
   "outputs": [
    {
     "data": {
      "text/plain": [
       "<Axes: xlabel='price', ylabel='duration'>"
      ]
     },
     "execution_count": 474,
     "metadata": {},
     "output_type": "execute_result"
    },
    {
     "data": {
      "image/png": "[encoded data removed]",
      "text/plain": [
       "<Figure size 640x480 with 1 Axes>"
      ]
     },
     "metadata": {},
     "output_type": "display_data"
    }
   ],
   "source": [
    "sns.barplot(df,x='price',y='duration')"
   ]
  },
  {
   "cell_type": "code",
   "execution_count": 475,
   "id": "ff73e75f-7d12-4a8b-b192-7c37dbeb9caf",
   "metadata": {
    "tags": []
   },
   "outputs": [
    {
     "data": {
      "text/plain": [
       "<Axes: xlabel='duration', ylabel='price'>"
      ]
     },
     "execution_count": 475,
     "metadata": {},
     "output_type": "execute_result"
    },
    {
     "data": {
      "image/png": "[encoded data removed]",
      "text/plain": [
       "<Figure size 640x480 with 1 Axes>"
      ]
     },
     "metadata": {},
     "output_type": "display_data"
    }
   ],
   "source": [
    "sns.lineplot(df,x='duration',y='price')"
   ]
  },
  {
   "cell_type": "code",
   "execution_count": 476,
   "id": "f5846427-01f7-449e-81f6-83685bbc6e4d",
   "metadata": {
    "tags": []
   },
   "outputs": [
    {
     "data": {
      "text/plain": [
       "<Axes: xlabel='duration', ylabel='price'>"
      ]
     },
     "execution_count": 476,
     "metadata": {},
     "output_type": "execute_result"
    },
    {
     "data": {
      "image/png": "[encoded data removed]",
      "text/plain": [
       "<Figure size 640x480 with 1 Axes>"
      ]
     },
     "metadata": {},
     "output_type": "display_data"
    }
   ],
   "source": [
    "sns.kdeplot(df,x='duration',y='price')"
   ]
  },
  {
   "cell_type": "code",
   "execution_count": 566,
   "id": "57c5079f-95fd-443f-83f5-9524646a41bf",
   "metadata": {
    "tags": []
   },
   "outputs": [
    {
     "data": {
      "text/plain": [
       "<Axes: >"
      ]
     },
     "execution_count": 566,
     "metadata": {},
     "output_type": "execute_result"
    },
    {
     "data": {
      "image/png": "[encoded data removed]",
      "text/plain": [
       "<Figure size 640x480 with 1 Axes>"
      ]
     },
     "metadata": {},
     "output_type": "display_data"
    }
   ],
   "source": [
    "sns.boxplot(df['price'])"
   ]
  },
  {
   "cell_type": "code",
   "execution_count": 568,
   "id": "e71b7ab9-2baa-4972-acc8-a6f1beb884b7",
   "metadata": {
    "tags": []
   },
   "outputs": [],
   "source": [
    "percentile25 = df['price'].quantile(0.25)\n",
    "percentile75 = df['price'].quantile(0.75)"
   ]
  },
  {
   "cell_type": "code",
   "execution_count": 569,
   "id": "4dbe90c8-c6bd-4cc7-b464-586615e9aa05",
   "metadata": {
    "tags": []
   },
   "outputs": [
    {
     "data": {
      "text/plain": [
       "10457.0"
      ]
     },
     "execution_count": 569,
     "metadata": {},
     "output_type": "execute_result"
    }
   ],
   "source": [
    "iqr=percentile75-percentile25\n",
    "iqr"
   ]
  },
  {
   "cell_type": "code",
   "execution_count": 570,
   "id": "f25d566e-37a3-442d-9788-3b3931854590",
   "metadata": {
    "tags": []
   },
   "outputs": [],
   "source": [
    "upper_limit = percentile75 + 1.5 * iqr\n",
    "lower_limit = percentile25 - 1.5 * iqr"
   ]
  },
  {
   "cell_type": "code",
   "execution_count": 571,
   "id": "646df095-1644-4af9-b06c-3879aa2c3916",
   "metadata": {
    "tags": []
   },
   "outputs": [
    {
     "name": "stdout",
     "output_type": "stream",
     "text": [
      "Upper limit 31614.5\n",
      "Lower limit -10213.5\n"
     ]
    }
   ],
   "source": [
    "print(\"Upper limit\",upper_limit)\n",
    "print(\"Lower limit\",lower_limit)"
   ]
  },
  {
   "cell_type": "code",
   "execution_count": 572,
   "id": "0c128535-bfaa-4de4-9586-8fb4f036f80c",
   "metadata": {
    "tags": []
   },
   "outputs": [
    {
     "data": {
      "text/html": [
       "<div>\n",
       "<style scoped>\n",
       "    .dataframe tbody tr th:only-of-type {\n",
       "        vertical-align: middle;\n",
       "    }\n",
       "\n",
       "    .dataframe tbody tr th {\n",
       "        vertical-align: top;\n",
       "    }\n",
       "\n",
       "    .dataframe thead th {\n",
       "        text-align: right;\n",
       "    }\n",
       "</style>\n",
       "<table border=\"1\" class=\"dataframe\">\n",
       "  <thead>\n",
       "    <tr style=\"text-align: right;\">\n",
       "      <th></th>\n",
       "      <th>price</th>\n",
       "      <th>city</th>\n",
       "      <th>Pool</th>\n",
       "      <th>Free parking</th>\n",
       "      <th>Spa</th>\n",
       "      <th>Restaurant</th>\n",
       "      <th>Gym</th>\n",
       "      <th>Kitchen</th>\n",
       "      <th>Internet access</th>\n",
       "      <th>duration</th>\n",
       "    </tr>\n",
       "  </thead>\n",
       "  <tbody>\n",
       "    <tr>\n",
       "      <th>140</th>\n",
       "      <td>33300</td>\n",
       "      <td>Hyderabad</td>\n",
       "      <td>yes</td>\n",
       "      <td>yes</td>\n",
       "      <td>yes</td>\n",
       "      <td>yes</td>\n",
       "      <td>yes</td>\n",
       "      <td>no</td>\n",
       "      <td>no</td>\n",
       "      <td>14</td>\n",
       "    </tr>\n",
       "    <tr>\n",
       "      <th>164</th>\n",
       "      <td>37755</td>\n",
       "      <td>Hyderabad</td>\n",
       "      <td>yes</td>\n",
       "      <td>yes</td>\n",
       "      <td>yes</td>\n",
       "      <td>yes</td>\n",
       "      <td>yes</td>\n",
       "      <td>yes</td>\n",
       "      <td>yes</td>\n",
       "      <td>14</td>\n",
       "    </tr>\n",
       "    <tr>\n",
       "      <th>208</th>\n",
       "      <td>31999</td>\n",
       "      <td>Hyderabad</td>\n",
       "      <td>yes</td>\n",
       "      <td>yes</td>\n",
       "      <td>yes</td>\n",
       "      <td>yes</td>\n",
       "      <td>yes</td>\n",
       "      <td>no</td>\n",
       "      <td>no</td>\n",
       "      <td>16</td>\n",
       "    </tr>\n",
       "    <tr>\n",
       "      <th>222</th>\n",
       "      <td>39000</td>\n",
       "      <td>Hyderabad</td>\n",
       "      <td>yes</td>\n",
       "      <td>yes</td>\n",
       "      <td>yes</td>\n",
       "      <td>yes</td>\n",
       "      <td>yes</td>\n",
       "      <td>no</td>\n",
       "      <td>no</td>\n",
       "      <td>16</td>\n",
       "    </tr>\n",
       "    <tr>\n",
       "      <th>249</th>\n",
       "      <td>42800</td>\n",
       "      <td>Hyderabad</td>\n",
       "      <td>no</td>\n",
       "      <td>yes</td>\n",
       "      <td>yes</td>\n",
       "      <td>yes</td>\n",
       "      <td>yes</td>\n",
       "      <td>no</td>\n",
       "      <td>no</td>\n",
       "      <td>16</td>\n",
       "    </tr>\n",
       "    <tr>\n",
       "      <th>...</th>\n",
       "      <td>...</td>\n",
       "      <td>...</td>\n",
       "      <td>...</td>\n",
       "      <td>...</td>\n",
       "      <td>...</td>\n",
       "      <td>...</td>\n",
       "      <td>...</td>\n",
       "      <td>...</td>\n",
       "      <td>...</td>\n",
       "      <td>...</td>\n",
       "    </tr>\n",
       "    <tr>\n",
       "      <th>5141</th>\n",
       "      <td>200000</td>\n",
       "      <td>Ahmedabad</td>\n",
       "      <td>yes</td>\n",
       "      <td>yes</td>\n",
       "      <td>yes</td>\n",
       "      <td>yes</td>\n",
       "      <td>yes</td>\n",
       "      <td>yes</td>\n",
       "      <td>yes</td>\n",
       "      <td>15</td>\n",
       "    </tr>\n",
       "    <tr>\n",
       "      <th>5230</th>\n",
       "      <td>300000</td>\n",
       "      <td>Ahmedabad</td>\n",
       "      <td>yes</td>\n",
       "      <td>yes</td>\n",
       "      <td>yes</td>\n",
       "      <td>yes</td>\n",
       "      <td>yes</td>\n",
       "      <td>yes</td>\n",
       "      <td>yes</td>\n",
       "      <td>16</td>\n",
       "    </tr>\n",
       "    <tr>\n",
       "      <th>5316</th>\n",
       "      <td>47194</td>\n",
       "      <td>Ahmedabad</td>\n",
       "      <td>no</td>\n",
       "      <td>yes</td>\n",
       "      <td>no</td>\n",
       "      <td>yes</td>\n",
       "      <td>no</td>\n",
       "      <td>yes</td>\n",
       "      <td>no</td>\n",
       "      <td>18</td>\n",
       "    </tr>\n",
       "    <tr>\n",
       "      <th>5317</th>\n",
       "      <td>500000</td>\n",
       "      <td>Ahmedabad</td>\n",
       "      <td>yes</td>\n",
       "      <td>yes</td>\n",
       "      <td>yes</td>\n",
       "      <td>yes</td>\n",
       "      <td>yes</td>\n",
       "      <td>yes</td>\n",
       "      <td>yes</td>\n",
       "      <td>18</td>\n",
       "    </tr>\n",
       "    <tr>\n",
       "      <th>5337</th>\n",
       "      <td>46349</td>\n",
       "      <td>Ahmedabad</td>\n",
       "      <td>no</td>\n",
       "      <td>yes</td>\n",
       "      <td>no</td>\n",
       "      <td>no</td>\n",
       "      <td>no</td>\n",
       "      <td>no</td>\n",
       "      <td>no</td>\n",
       "      <td>18</td>\n",
       "    </tr>\n",
       "  </tbody>\n",
       "</table>\n",
       "<p>316 rows × 10 columns</p>\n",
       "</div>"
      ],
      "text/plain": [
       "       price       city Pool Free parking  Spa Restaurant  Gym Kitchen  \\\n",
       "140    33300  Hyderabad  yes          yes  yes        yes  yes      no   \n",
       "164    37755  Hyderabad  yes          yes  yes        yes  yes     yes   \n",
       "208    31999  Hyderabad  yes          yes  yes        yes  yes      no   \n",
       "222    39000  Hyderabad  yes          yes  yes        yes  yes      no   \n",
       "249    42800  Hyderabad   no          yes  yes        yes  yes      no   \n",
       "...      ...        ...  ...          ...  ...        ...  ...     ...   \n",
       "5141  200000  Ahmedabad  yes          yes  yes        yes  yes     yes   \n",
       "5230  300000  Ahmedabad  yes          yes  yes        yes  yes     yes   \n",
       "5316   47194  Ahmedabad   no          yes   no        yes   no     yes   \n",
       "5317  500000  Ahmedabad  yes          yes  yes        yes  yes     yes   \n",
       "5337   46349  Ahmedabad   no          yes   no         no   no      no   \n",
       "\n",
       "     Internet access  duration  \n",
       "140               no        14  \n",
       "164              yes        14  \n",
       "208               no        16  \n",
       "222               no        16  \n",
       "249               no        16  \n",
       "...              ...       ...  \n",
       "5141             yes        15  \n",
       "5230             yes        16  \n",
       "5316              no        18  \n",
       "5317             yes        18  \n",
       "5337              no        18  \n",
       "\n",
       "[316 rows x 10 columns]"
      ]
     },
     "execution_count": 572,
     "metadata": {},
     "output_type": "execute_result"
    }
   ],
   "source": [
    "df[df['price'] > upper_limit]"
   ]
  },
  {
   "cell_type": "code",
   "execution_count": 573,
   "id": "a1a036be-40eb-4ade-a90f-011ff533eef6",
   "metadata": {
    "tags": []
   },
   "outputs": [
    {
     "data": {
      "text/html": [
       "<div>\n",
       "<style scoped>\n",
       "    .dataframe tbody tr th:only-of-type {\n",
       "        vertical-align: middle;\n",
       "    }\n",
       "\n",
       "    .dataframe tbody tr th {\n",
       "        vertical-align: top;\n",
       "    }\n",
       "\n",
       "    .dataframe thead th {\n",
       "        text-align: right;\n",
       "    }\n",
       "</style>\n",
       "<table border=\"1\" class=\"dataframe\">\n",
       "  <thead>\n",
       "    <tr style=\"text-align: right;\">\n",
       "      <th></th>\n",
       "      <th>price</th>\n",
       "      <th>city</th>\n",
       "      <th>Pool</th>\n",
       "      <th>Free parking</th>\n",
       "      <th>Spa</th>\n",
       "      <th>Restaurant</th>\n",
       "      <th>Gym</th>\n",
       "      <th>Kitchen</th>\n",
       "      <th>Internet access</th>\n",
       "      <th>duration</th>\n",
       "    </tr>\n",
       "  </thead>\n",
       "  <tbody>\n",
       "  </tbody>\n",
       "</table>\n",
       "</div>"
      ],
      "text/plain": [
       "Empty DataFrame\n",
       "Columns: [price, city, Pool, Free parking, Spa, Restaurant, Gym, Kitchen, Internet access, duration]\n",
       "Index: []"
      ]
     },
     "execution_count": 573,
     "metadata": {},
     "output_type": "execute_result"
    }
   ],
   "source": [
    "df[df['price'] < lower_limit]"
   ]
  },
  {
   "cell_type": "code",
   "execution_count": 574,
   "id": "806802c0-3c87-4d0a-88b0-67ca648c7366",
   "metadata": {
    "tags": []
   },
   "outputs": [],
   "source": [
    "df['price'] = np.where(\n",
    "    df['price'] > upper_limit,\n",
    "    upper_limit,\n",
    "    np.where(\n",
    "        df['price'] < lower_limit,\n",
    "        lower_limit,\n",
    "        df['price']\n",
    "    )\n",
    ")"
   ]
  },
  {
   "cell_type": "code",
   "execution_count": 575,
   "id": "585117d1-39f3-44c5-bd39-d77c3fbf7a8d",
   "metadata": {
    "tags": []
   },
   "outputs": [
    {
     "data": {
      "text/plain": [
       "<Axes: >"
      ]
     },
     "execution_count": 575,
     "metadata": {},
     "output_type": "execute_result"
    },
    {
     "data": {
      "image/png": "[encoded data removed]",
      "text/plain": [
       "<Figure size 640x480 with 1 Axes>"
      ]
     },
     "metadata": {},
     "output_type": "display_data"
    }
   ],
   "source": [
    "sns.boxplot(df['price'])"
   ]
  },
  {
   "cell_type": "code",
   "execution_count": 576,
   "id": "1a5aa95f-ca23-45e6-bff9-5414f79aac35",
   "metadata": {
    "tags": []
   },
   "outputs": [],
   "source": [
    "backup_df=df.copy()"
   ]
  },
  {
   "cell_type": "code",
   "execution_count": 577,
   "id": "84a13f01-70ce-437b-b279-10f805148f57",
   "metadata": {
    "tags": []
   },
   "outputs": [
    {
     "data": {
      "text/html": [
       "<div>\n",
       "<style scoped>\n",
       "    .dataframe tbody tr th:only-of-type {\n",
       "        vertical-align: middle;\n",
       "    }\n",
       "\n",
       "    .dataframe tbody tr th {\n",
       "        vertical-align: top;\n",
       "    }\n",
       "\n",
       "    .dataframe thead th {\n",
       "        text-align: right;\n",
       "    }\n",
       "</style>\n",
       "<table border=\"1\" class=\"dataframe\">\n",
       "  <thead>\n",
       "    <tr style=\"text-align: right;\">\n",
       "      <th></th>\n",
       "      <th>price</th>\n",
       "      <th>city</th>\n",
       "      <th>Pool</th>\n",
       "      <th>Free parking</th>\n",
       "      <th>Spa</th>\n",
       "      <th>Restaurant</th>\n",
       "      <th>Gym</th>\n",
       "      <th>Kitchen</th>\n",
       "      <th>Internet access</th>\n",
       "      <th>duration</th>\n",
       "    </tr>\n",
       "  </thead>\n",
       "  <tbody>\n",
       "    <tr>\n",
       "      <th>0</th>\n",
       "      <td>5040.0</td>\n",
       "      <td>Hyderabad</td>\n",
       "      <td>yes</td>\n",
       "      <td>yes</td>\n",
       "      <td>yes</td>\n",
       "      <td>yes</td>\n",
       "      <td>yes</td>\n",
       "      <td>no</td>\n",
       "      <td>no</td>\n",
       "      <td>12</td>\n",
       "    </tr>\n",
       "    <tr>\n",
       "      <th>1</th>\n",
       "      <td>7800.0</td>\n",
       "      <td>Hyderabad</td>\n",
       "      <td>yes</td>\n",
       "      <td>yes</td>\n",
       "      <td>yes</td>\n",
       "      <td>yes</td>\n",
       "      <td>yes</td>\n",
       "      <td>no</td>\n",
       "      <td>no</td>\n",
       "      <td>12</td>\n",
       "    </tr>\n",
       "    <tr>\n",
       "      <th>2</th>\n",
       "      <td>6700.0</td>\n",
       "      <td>Hyderabad</td>\n",
       "      <td>yes</td>\n",
       "      <td>yes</td>\n",
       "      <td>yes</td>\n",
       "      <td>yes</td>\n",
       "      <td>yes</td>\n",
       "      <td>no</td>\n",
       "      <td>no</td>\n",
       "      <td>12</td>\n",
       "    </tr>\n",
       "    <tr>\n",
       "      <th>4</th>\n",
       "      <td>6375.0</td>\n",
       "      <td>Hyderabad</td>\n",
       "      <td>yes</td>\n",
       "      <td>yes</td>\n",
       "      <td>yes</td>\n",
       "      <td>yes</td>\n",
       "      <td>yes</td>\n",
       "      <td>no</td>\n",
       "      <td>no</td>\n",
       "      <td>12</td>\n",
       "    </tr>\n",
       "    <tr>\n",
       "      <th>5</th>\n",
       "      <td>8000.0</td>\n",
       "      <td>Hyderabad</td>\n",
       "      <td>yes</td>\n",
       "      <td>yes</td>\n",
       "      <td>yes</td>\n",
       "      <td>yes</td>\n",
       "      <td>yes</td>\n",
       "      <td>no</td>\n",
       "      <td>no</td>\n",
       "      <td>12</td>\n",
       "    </tr>\n",
       "  </tbody>\n",
       "</table>\n",
       "</div>"
      ],
      "text/plain": [
       "    price       city Pool Free parking  Spa Restaurant  Gym Kitchen  \\\n",
       "0  5040.0  Hyderabad  yes          yes  yes        yes  yes      no   \n",
       "1  7800.0  Hyderabad  yes          yes  yes        yes  yes      no   \n",
       "2  6700.0  Hyderabad  yes          yes  yes        yes  yes      no   \n",
       "4  6375.0  Hyderabad  yes          yes  yes        yes  yes      no   \n",
       "5  8000.0  Hyderabad  yes          yes  yes        yes  yes      no   \n",
       "\n",
       "  Internet access  duration  \n",
       "0              no        12  \n",
       "1              no        12  \n",
       "2              no        12  \n",
       "4              no        12  \n",
       "5              no        12  "
      ]
     },
     "execution_count": 577,
     "metadata": {},
     "output_type": "execute_result"
    }
   ],
   "source": [
    "backup_df.head()"
   ]
  },
  {
   "cell_type": "code",
   "execution_count": 687,
   "id": "3a6262eb-4933-4ba7-b20c-d51270affcde",
   "metadata": {
    "tags": []
   },
   "outputs": [],
   "source": [
    "from sklearn.compose import ColumnTransformer\n",
    "from sklearn.preprocessing import OneHotEncoder\n",
    "from sklearn.preprocessing import StandardScaler\n",
    "from sklearn.model_selection import train_test_split\n",
    "from sklearn.ensemble import RandomForestRegressor\n",
    "from sklearn.linear_model import LinearRegression\n",
    "from sklearn.tree import DecisionTreeRegressor\n",
    "from sklearn.svm import SVR\n",
    "from sklearn.pipeline import Pipeline"
   ]
  },
  {
   "cell_type": "code",
   "execution_count": 688,
   "id": "7091f1d5-6016-4a09-ac98-312e8f1d12c7",
   "metadata": {
    "tags": []
   },
   "outputs": [],
   "source": [
    "X=df.iloc[:,1:]\n",
    "y=df.iloc[:,:1]"
   ]
  },
  {
   "cell_type": "code",
   "execution_count": 689,
   "id": "1a11d13b-9538-479c-8520-8400bfdf2e65",
   "metadata": {
    "tags": []
   },
   "outputs": [],
   "source": [
    "X_train,X_test,y_train,y_test=train_test_split(X,y,test_size=0.2,random_state=42)"
   ]
  },
  {
   "cell_type": "code",
   "execution_count": 690,
   "id": "26a2772d-7221-4a41-bf07-c7b6d0a247fc",
   "metadata": {
    "tags": []
   },
   "outputs": [
    {
     "data": {
      "text/html": [
       "<div>\n",
       "<style scoped>\n",
       "    .dataframe tbody tr th:only-of-type {\n",
       "        vertical-align: middle;\n",
       "    }\n",
       "\n",
       "    .dataframe tbody tr th {\n",
       "        vertical-align: top;\n",
       "    }\n",
       "\n",
       "    .dataframe thead th {\n",
       "        text-align: right;\n",
       "    }\n",
       "</style>\n",
       "<table border=\"1\" class=\"dataframe\">\n",
       "  <thead>\n",
       "    <tr style=\"text-align: right;\">\n",
       "      <th></th>\n",
       "      <th>price</th>\n",
       "    </tr>\n",
       "  </thead>\n",
       "  <tbody>\n",
       "    <tr>\n",
       "      <th>190</th>\n",
       "      <td>9638.0</td>\n",
       "    </tr>\n",
       "    <tr>\n",
       "      <th>4725</th>\n",
       "      <td>4476.0</td>\n",
       "    </tr>\n",
       "    <tr>\n",
       "      <th>1213</th>\n",
       "      <td>13800.0</td>\n",
       "    </tr>\n",
       "    <tr>\n",
       "      <th>1324</th>\n",
       "      <td>4209.0</td>\n",
       "    </tr>\n",
       "    <tr>\n",
       "      <th>880</th>\n",
       "      <td>30899.0</td>\n",
       "    </tr>\n",
       "  </tbody>\n",
       "</table>\n",
       "</div>"
      ],
      "text/plain": [
       "        price\n",
       "190    9638.0\n",
       "4725   4476.0\n",
       "1213  13800.0\n",
       "1324   4209.0\n",
       "880   30899.0"
      ]
     },
     "execution_count": 690,
     "metadata": {},
     "output_type": "execute_result"
    }
   ],
   "source": [
    "y_test.head()"
   ]
  },
  {
   "cell_type": "code",
   "execution_count": 664,
   "id": "b4aa3d81-133b-4c8b-9ce9-7718ebd19ef0",
   "metadata": {
    "tags": []
   },
   "outputs": [],
   "source": [
    "trf1=ColumnTransformer([\n",
    "    ('ohe',OneHotEncoder(sparse_output=False,handle_unknown='ignore'),[1,2,3,4,5,6,7,8])\n",
    "],remainder='passthrough')"
   ]
  },
  {
   "cell_type": "code",
   "execution_count": 691,
   "id": "8514d856-b606-4321-a612-808ca2a4ee4d",
   "metadata": {
    "tags": []
   },
   "outputs": [],
   "source": [
    "\n",
    "trf2 = ColumnTransformer([\n",
    "    ('scale',StandardScaler(),slice(1,10))\n",
    "])"
   ]
  },
  {
   "cell_type": "code",
   "execution_count": 692,
   "id": "52e6c1a5-3795-45ab-ad74-1bb7f37339ba",
   "metadata": {
    "tags": []
   },
   "outputs": [],
   "source": [
    "trf3= DecisionTreeRegressor(max_features='sqrt')"
   ]
  },
  {
   "cell_type": "code",
   "execution_count": 693,
   "id": "d114ffb0-2603-44db-80ee-c6e8444d0df3",
   "metadata": {
    "tags": []
   },
   "outputs": [],
   "source": [
    "pipe=Pipeline([\n",
    "    ('trf1',trf1),\n",
    "    ('trf2',trf2),\n",
    "    ('trf3',trf3),\n",
    "])"
   ]
  },
  {
   "cell_type": "code",
   "execution_count": 694,
   "id": "28ccb822-207d-41b4-bc91-a91fcbc58875",
   "metadata": {
    "tags": []
   },
   "outputs": [
    {
     "data": {
      "text/html": [
       "<style>#sk-container-id-35 {color: black;}#sk-container-id-35 pre{padding: 0;}#sk-container-id-35 div.sk-toggleable {background-color: white;}#sk-container-id-35 label.sk-toggleable__label {cursor: pointer;display: block;width: 100%;margin-bottom: 0;padding: 0.3em;box-sizing: border-box;text-align: center;}#sk-container-id-35 label.sk-toggleable__label-arrow:before {content: \"▸\";float: left;margin-right: 0.25em;color: #696969;}#sk-container-id-35 label.sk-toggleable__label-arrow:hover:before {color: black;}#sk-container-id-35 div.sk-estimator:hover label.sk-toggleable__label-arrow:before {color: black;}#sk-container-id-35 div.sk-toggleable__content {max-height: 0;max-width: 0;overflow: hidden;text-align: left;background-color: #f0f8ff;}#sk-container-id-35 div.sk-toggleable__content pre {margin: 0.2em;color: black;border-radius: 0.25em;background-color: #f0f8ff;}#sk-container-id-35 input.sk-toggleable__control:checked~div.sk-toggleable__content {max-height: 200px;max-width: 100%;overflow: auto;}#sk-container-id-35 input.sk-toggleable__control:checked~label.sk-toggleable__label-arrow:before {content: \"▾\";}#sk-container-id-35 div.sk-estimator input.sk-toggleable__control:checked~label.sk-toggleable__label {background-color: #d4ebff;}#sk-container-id-35 div.sk-label input.sk-toggleable__control:checked~label.sk-toggleable__label {background-color: #d4ebff;}#sk-container-id-35 input.sk-hidden--visually {border: 0;clip: rect(1px 1px 1px 1px);clip: rect(1px, 1px, 1px, 1px);height: 1px;margin: -1px;overflow: hidden;padding: 0;position: absolute;width: 1px;}#sk-container-id-35 div.sk-estimator {font-family: monospace;background-color: #f0f8ff;border: 1px dotted black;border-radius: 0.25em;box-sizing: border-box;margin-bottom: 0.5em;}#sk-container-id-35 div.sk-estimator:hover {background-color: #d4ebff;}#sk-container-id-35 div.sk-parallel-item::after {content: \"\";width: 100%;border-bottom: 1px solid gray;flex-grow: 1;}#sk-container-id-35 div.sk-label:hover label.sk-toggleable__label {background-color: #d4ebff;}#sk-container-id-35 div.sk-serial::before {content: \"\";position: absolute;border-left: 1px solid gray;box-sizing: border-box;top: 0;bottom: 0;left: 50%;z-index: 0;}#sk-container-id-35 div.sk-serial {display: flex;flex-direction: column;align-items: center;background-color: white;padding-right: 0.2em;padding-left: 0.2em;position: relative;}#sk-container-id-35 div.sk-item {position: relative;z-index: 1;}#sk-container-id-35 div.sk-parallel {display: flex;align-items: stretch;justify-content: center;background-color: white;position: relative;}#sk-container-id-35 div.sk-item::before, #sk-container-id-35 div.sk-parallel-item::before {content: \"\";position: absolute;border-left: 1px solid gray;box-sizing: border-box;top: 0;bottom: 0;left: 50%;z-index: -1;}#sk-container-id-35 div.sk-parallel-item {display: flex;flex-direction: column;z-index: 1;position: relative;background-color: white;}#sk-container-id-35 div.sk-parallel-item:first-child::after {align-self: flex-end;width: 50%;}#sk-container-id-35 div.sk-parallel-item:last-child::after {align-self: flex-start;width: 50%;}#sk-container-id-35 div.sk-parallel-item:only-child::after {width: 0;}#sk-container-id-35 div.sk-dashed-wrapped {border: 1px dashed gray;margin: 0 0.4em 0.5em 0.4em;box-sizing: border-box;padding-bottom: 0.4em;background-color: white;}#sk-container-id-35 div.sk-label label {font-family: monospace;font-weight: bold;display: inline-block;line-height: 1.2em;}#sk-container-id-35 div.sk-label-container {text-align: center;}#sk-container-id-35 div.sk-container {/* jupyter's `normalize.less` sets `[hidden] { display: none; }` but bootstrap.min.css set `[hidden] { display: none !important; }` so we also need the `!important` here to be able to override the default hidden behavior on the sphinx rendered scikit-learn.org. See: https://github.com/scikit-learn/scikit-learn/issues/21755 */display: inline-block !important;position: relative;}#sk-container-id-35 div.sk-text-repr-fallback {display: none;}</style><div id=\"sk-container-id-35\" class=\"sk-top-container\"><div class=\"sk-text-repr-fallback\"><pre>Pipeline(steps=[(&#x27;trf1&#x27;,\n",
       "                 ColumnTransformer(remainder=&#x27;passthrough&#x27;,\n",
       "                                   transformers=[(&#x27;ohe&#x27;,\n",
       "                                                  OneHotEncoder(handle_unknown=&#x27;ignore&#x27;,\n",
       "                                                                sparse_output=False),\n",
       "                                                  [1, 2, 3, 4, 5, 6, 7, 8])])),\n",
       "                (&#x27;trf2&#x27;,\n",
       "                 ColumnTransformer(transformers=[(&#x27;scale&#x27;, StandardScaler(),\n",
       "                                                  slice(1, 10, None))])),\n",
       "                (&#x27;trf3&#x27;, DecisionTreeRegressor(max_features=&#x27;sqrt&#x27;))])</pre><b>In a Jupyter environment, please rerun this cell to show the HTML representation or trust the notebook. <br />On GitHub, the HTML representation is unable to render, please try loading this page with nbviewer.org.</b></div><div class=\"sk-container\" hidden><div class=\"sk-item sk-dashed-wrapped\"><div class=\"sk-label-container\"><div class=\"sk-label sk-toggleable\"><input class=\"sk-toggleable__control sk-hidden--visually\" id=\"sk-estimator-id-347\" type=\"checkbox\" ><label for=\"sk-estimator-id-347\" class=\"sk-toggleable__label sk-toggleable__label-arrow\">Pipeline</label><div class=\"sk-toggleable__content\"><pre>Pipeline(steps=[(&#x27;trf1&#x27;,\n",
       "                 ColumnTransformer(remainder=&#x27;passthrough&#x27;,\n",
       "                                   transformers=[(&#x27;ohe&#x27;,\n",
       "                                                  OneHotEncoder(handle_unknown=&#x27;ignore&#x27;,\n",
       "                                                                sparse_output=False),\n",
       "                                                  [1, 2, 3, 4, 5, 6, 7, 8])])),\n",
       "                (&#x27;trf2&#x27;,\n",
       "                 ColumnTransformer(transformers=[(&#x27;scale&#x27;, StandardScaler(),\n",
       "                                                  slice(1, 10, None))])),\n",
       "                (&#x27;trf3&#x27;, DecisionTreeRegressor(max_features=&#x27;sqrt&#x27;))])</pre></div></div></div><div class=\"sk-serial\"><div class=\"sk-item sk-dashed-wrapped\"><div class=\"sk-label-container\"><div class=\"sk-label sk-toggleable\"><input class=\"sk-toggleable__control sk-hidden--visually\" id=\"sk-estimator-id-348\" type=\"checkbox\" ><label for=\"sk-estimator-id-348\" class=\"sk-toggleable__label sk-toggleable__label-arrow\">trf1: ColumnTransformer</label><div class=\"sk-toggleable__content\"><pre>ColumnTransformer(remainder=&#x27;passthrough&#x27;,\n",
       "                  transformers=[(&#x27;ohe&#x27;,\n",
       "                                 OneHotEncoder(handle_unknown=&#x27;ignore&#x27;,\n",
       "                                               sparse_output=False),\n",
       "                                 [1, 2, 3, 4, 5, 6, 7, 8])])</pre></div></div></div><div class=\"sk-parallel\"><div class=\"sk-parallel-item\"><div class=\"sk-item\"><div class=\"sk-label-container\"><div class=\"sk-label sk-toggleable\"><input class=\"sk-toggleable__control sk-hidden--visually\" id=\"sk-estimator-id-349\" type=\"checkbox\" ><label for=\"sk-estimator-id-349\" class=\"sk-toggleable__label sk-toggleable__label-arrow\">ohe</label><div class=\"sk-toggleable__content\"><pre>[1, 2, 3, 4, 5, 6, 7, 8]</pre></div></div></div><div class=\"sk-serial\"><div class=\"sk-item\"><div class=\"sk-estimator sk-toggleable\"><input class=\"sk-toggleable__control sk-hidden--visually\" id=\"sk-estimator-id-350\" type=\"checkbox\" ><label for=\"sk-estimator-id-350\" class=\"sk-toggleable__label sk-toggleable__label-arrow\">OneHotEncoder</label><div class=\"sk-toggleable__content\"><pre>OneHotEncoder(handle_unknown=&#x27;ignore&#x27;, sparse_output=False)</pre></div></div></div></div></div></div><div class=\"sk-parallel-item\"><div class=\"sk-item\"><div class=\"sk-label-container\"><div class=\"sk-label sk-toggleable\"><input class=\"sk-toggleable__control sk-hidden--visually\" id=\"sk-estimator-id-351\" type=\"checkbox\" ><label for=\"sk-estimator-id-351\" class=\"sk-toggleable__label sk-toggleable__label-arrow\">remainder</label><div class=\"sk-toggleable__content\"><pre>[&#x27;city&#x27;]</pre></div></div></div><div class=\"sk-serial\"><div class=\"sk-item\"><div class=\"sk-estimator sk-toggleable\"><input class=\"sk-toggleable__control sk-hidden--visually\" id=\"sk-estimator-id-352\" type=\"checkbox\" ><label for=\"sk-estimator-id-352\" class=\"sk-toggleable__label sk-toggleable__label-arrow\">passthrough</label><div class=\"sk-toggleable__content\"><pre>passthrough</pre></div></div></div></div></div></div></div></div><div class=\"sk-item sk-dashed-wrapped\"><div class=\"sk-label-container\"><div class=\"sk-label sk-toggleable\"><input class=\"sk-toggleable__control sk-hidden--visually\" id=\"sk-estimator-id-353\" type=\"checkbox\" ><label for=\"sk-estimator-id-353\" class=\"sk-toggleable__label sk-toggleable__label-arrow\">trf2: ColumnTransformer</label><div class=\"sk-toggleable__content\"><pre>ColumnTransformer(transformers=[(&#x27;scale&#x27;, StandardScaler(),\n",
       "                                 slice(1, 10, None))])</pre></div></div></div><div class=\"sk-parallel\"><div class=\"sk-parallel-item\"><div class=\"sk-item\"><div class=\"sk-label-container\"><div class=\"sk-label sk-toggleable\"><input class=\"sk-toggleable__control sk-hidden--visually\" id=\"sk-estimator-id-354\" type=\"checkbox\" ><label for=\"sk-estimator-id-354\" class=\"sk-toggleable__label sk-toggleable__label-arrow\">scale</label><div class=\"sk-toggleable__content\"><pre>slice(1, 10, None)</pre></div></div></div><div class=\"sk-serial\"><div class=\"sk-item\"><div class=\"sk-estimator sk-toggleable\"><input class=\"sk-toggleable__control sk-hidden--visually\" id=\"sk-estimator-id-355\" type=\"checkbox\" ><label for=\"sk-estimator-id-355\" class=\"sk-toggleable__label sk-toggleable__label-arrow\">StandardScaler</label><div class=\"sk-toggleable__content\"><pre>StandardScaler()</pre></div></div></div></div></div></div></div></div><div class=\"sk-item\"><div class=\"sk-estimator sk-toggleable\"><input class=\"sk-toggleable__control sk-hidden--visually\" id=\"sk-estimator-id-356\" type=\"checkbox\" ><label for=\"sk-estimator-id-356\" class=\"sk-toggleable__label sk-toggleable__label-arrow\">DecisionTreeRegressor</label><div class=\"sk-toggleable__content\"><pre>DecisionTreeRegressor(max_features=&#x27;sqrt&#x27;)</pre></div></div></div></div></div></div></div>"
      ],
      "text/plain": [
       "Pipeline(steps=[('trf1',\n",
       "                 ColumnTransformer(remainder='passthrough',\n",
       "                                   transformers=[('ohe',\n",
       "                                                  OneHotEncoder(handle_unknown='ignore',\n",
       "                                                                sparse_output=False),\n",
       "                                                  [1, 2, 3, 4, 5, 6, 7, 8])])),\n",
       "                ('trf2',\n",
       "                 ColumnTransformer(transformers=[('scale', StandardScaler(),\n",
       "                                                  slice(1, 10, None))])),\n",
       "                ('trf3', DecisionTreeRegressor(max_features='sqrt'))])"
      ]
     },
     "execution_count": 694,
     "metadata": {},
     "output_type": "execute_result"
    }
   ],
   "source": [
    "pipe.fit(X_train,y_train)"
   ]
  },
  {
   "cell_type": "code",
   "execution_count": 695,
   "id": "7a5c9c9c-8397-4783-b392-35d025251461",
   "metadata": {
    "tags": []
   },
   "outputs": [
    {
     "data": {
      "text/plain": [
       "{'trf1': ColumnTransformer(remainder='passthrough',\n",
       "                   transformers=[('ohe',\n",
       "                                  OneHotEncoder(handle_unknown='ignore',\n",
       "                                                sparse_output=False),\n",
       "                                  [1, 2, 3, 4, 5, 6, 7, 8])]),\n",
       " 'trf2': ColumnTransformer(transformers=[('scale', StandardScaler(),\n",
       "                                  slice(1, 10, None))]),\n",
       " 'trf3': DecisionTreeRegressor(max_features='sqrt')}"
      ]
     },
     "execution_count": 695,
     "metadata": {},
     "output_type": "execute_result"
    }
   ],
   "source": [
    "pipe.named_steps\n"
   ]
  },
  {
   "cell_type": "code",
   "execution_count": 696,
   "id": "8c68ecea-4c51-40ed-8970-cc69ceb5727c",
   "metadata": {
    "tags": []
   },
   "outputs": [],
   "source": [
    "y_pred = pipe.predict(X_test)"
   ]
  },
  {
   "cell_type": "code",
   "execution_count": 697,
   "id": "abb3569e-ee19-4e7e-bbfb-0adcec0b77ab",
   "metadata": {
    "tags": []
   },
   "outputs": [
    {
     "data": {
      "text/plain": [
       "0.05062050126668216"
      ]
     },
     "execution_count": 697,
     "metadata": {},
     "output_type": "execute_result"
    }
   ],
   "source": [
    "from sklearn.metrics import r2_score\n",
    "\n",
    "r2_score(y_test,y_pred)\n"
   ]
  },
  {
   "cell_type": "code",
   "execution_count": 716,
   "id": "fb99bceb-3598-49f7-923d-bf96b0e05d76",
   "metadata": {
    "tags": []
   },
   "outputs": [],
   "source": [
    "test_input = np.array(['Chennai','yes','no','yes','yes','yes','no','no',6],dtype=object).reshape(1,9)"
   ]
  },
  {
   "cell_type": "code",
   "execution_count": 717,
   "id": "472a736f-0503-487b-b203-8273c8362125",
   "metadata": {
    "tags": []
   },
   "outputs": [
    {
     "name": "stderr",
     "output_type": "stream",
     "text": [
      "C:\\Users\\bagwe\\anaconda3\\Lib\\site-packages\\sklearn\\base.py:464: UserWarning: X does not have valid feature names, but OneHotEncoder was fitted with feature names\n",
      "  warnings.warn(\n"
     ]
    },
    {
     "data": {
      "text/plain": [
       "array([16005.69444444])"
      ]
     },
     "execution_count": 717,
     "metadata": {},
     "output_type": "execute_result"
    }
   ],
   "source": [
    "pipe.predict(test_input)"
   ]
  },
  {
   "cell_type": "code",
   "execution_count": 718,
   "id": "fff5734f-e420-4128-a13e-c1007a123b77",
   "metadata": {
    "tags": []
   },
   "outputs": [],
   "source": [
    "import pickle"
   ]
  },
  {
   "cell_type": "code",
   "execution_count": 719,
   "id": "5297de12-b6b8-45b3-b301-abb09f8cc8ca",
   "metadata": {
    "tags": []
   },
   "outputs": [],
   "source": [
    "pickle.dump(pipe,open('pipe.pkl','wb'))"
   ]
  },
  {
   "cell_type": "code",
   "execution_count": null,
   "id": "6f9a4ca4-88f0-4848-b140-d2959976d58d",
   "metadata": {},
   "outputs": [],
   "source": []
  }
 ],
 "metadata": {
  "kernelspec": {
   "display_name": "Python 3 (ipykernel)",
   "language": "python",
   "name": "python3"
  },
  "language_info": {
   "codemirror_mode": {
    "name": "ipython",
    "version": 3
   },
   "file_extension": ".py",
   "mimetype": "text/x-python",
   "name": "python",
   "nbconvert_exporter": "python",
   "pygments_lexer": "ipython3",
   "version": "3.11.5"
  }
 },
 "nbformat": 4,
 "nbformat_minor": 5
}
