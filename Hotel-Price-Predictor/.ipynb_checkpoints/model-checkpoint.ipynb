{
 "cells": [
  {
   "cell_type": "code",
   "execution_count": 1,
   "id": "90dc459f-de4e-45bc-a5ea-1610b77b8886",
   "metadata": {
    "tags": []
   },
   "outputs": [],
   "source": [
    "import pandas as pd\n",
    "import numpy as np\n",
    "import matplotlib.pyplot as plt\n",
    "import seaborn as sns"
   ]
  },
  {
   "cell_type": "code",
   "execution_count": 2,
   "id": "5d8dccca-adef-46e5-8407-0e56b9995d3c",
   "metadata": {
    "tags": []
   },
   "outputs": [],
   "source": [
    "df=pd.read_csv('hotel_data1.csv')\n",
    "backup_df=df.copy()"
   ]
  },
  {
   "cell_type": "code",
   "execution_count": 3,
   "id": "ed5ee0fc-d00d-49f8-aef4-3799f2731bab",
   "metadata": {
    "tags": []
   },
   "outputs": [
    {
     "data": {
      "text/html": [
       "<div>\n",
       "<style scoped>\n",
       "    .dataframe tbody tr th:only-of-type {\n",
       "        vertical-align: middle;\n",
       "    }\n",
       "\n",
       "    .dataframe tbody tr th {\n",
       "        vertical-align: top;\n",
       "    }\n",
       "\n",
       "    .dataframe thead th {\n",
       "        text-align: right;\n",
       "    }\n",
       "</style>\n",
       "<table border=\"1\" class=\"dataframe\">\n",
       "  <thead>\n",
       "    <tr style=\"text-align: right;\">\n",
       "      <th></th>\n",
       "      <th>Unnamed: 0</th>\n",
       "      <th>name</th>\n",
       "      <th>address</th>\n",
       "      <th>price</th>\n",
       "      <th>city</th>\n",
       "      <th>Check_in_date</th>\n",
       "      <th>Check_out_date</th>\n",
       "      <th>Review</th>\n",
       "      <th>Rating</th>\n",
       "      <th>distance to city centre(km)</th>\n",
       "      <th>...</th>\n",
       "      <th>Spa</th>\n",
       "      <th>Restaurant</th>\n",
       "      <th>Gym</th>\n",
       "      <th>Bar</th>\n",
       "      <th>Bathtub</th>\n",
       "      <th>Meeting Facilities</th>\n",
       "      <th>Connecting rooms available</th>\n",
       "      <th>Pet-friendly</th>\n",
       "      <th>Kitchen</th>\n",
       "      <th>Internet access</th>\n",
       "    </tr>\n",
       "  </thead>\n",
       "  <tbody>\n",
       "    <tr>\n",
       "      <th>0</th>\n",
       "      <td>0</td>\n",
       "      <td>The Park Hyderabad</td>\n",
       "      <td>22 RajBhavan Road Somajiguda Hyderabad Andhra ...</td>\n",
       "      <td>5040</td>\n",
       "      <td>Hyderabad</td>\n",
       "      <td>2021-12-02</td>\n",
       "      <td>2021-02-14</td>\n",
       "      <td>NaN</td>\n",
       "      <td>NaN</td>\n",
       "      <td>4.0</td>\n",
       "      <td>...</td>\n",
       "      <td>yes</td>\n",
       "      <td>yes</td>\n",
       "      <td>yes</td>\n",
       "      <td>no</td>\n",
       "      <td>no</td>\n",
       "      <td>no</td>\n",
       "      <td>no</td>\n",
       "      <td>no</td>\n",
       "      <td>no</td>\n",
       "      <td>no</td>\n",
       "    </tr>\n",
       "    <tr>\n",
       "      <th>1</th>\n",
       "      <td>1</td>\n",
       "      <td>The Westin Hyderabad Mindspace</td>\n",
       "      <td>Raheja IT Park Hitec City Madhapur Hyderabad T...</td>\n",
       "      <td>7800</td>\n",
       "      <td>Hyderabad</td>\n",
       "      <td>2021-12-02</td>\n",
       "      <td>2021-02-14</td>\n",
       "      <td>NaN</td>\n",
       "      <td>NaN</td>\n",
       "      <td>9.9</td>\n",
       "      <td>...</td>\n",
       "      <td>yes</td>\n",
       "      <td>yes</td>\n",
       "      <td>yes</td>\n",
       "      <td>no</td>\n",
       "      <td>no</td>\n",
       "      <td>no</td>\n",
       "      <td>no</td>\n",
       "      <td>no</td>\n",
       "      <td>no</td>\n",
       "      <td>no</td>\n",
       "    </tr>\n",
       "    <tr>\n",
       "      <th>2</th>\n",
       "      <td>2</td>\n",
       "      <td>Courtyard by Marriott Hyderabad</td>\n",
       "      <td>1 3 1024 Lower Tank Bund Road Hyderabad Andhra...</td>\n",
       "      <td>6700</td>\n",
       "      <td>Hyderabad</td>\n",
       "      <td>2021-12-02</td>\n",
       "      <td>2021-02-14</td>\n",
       "      <td>NaN</td>\n",
       "      <td>NaN</td>\n",
       "      <td>4.7</td>\n",
       "      <td>...</td>\n",
       "      <td>yes</td>\n",
       "      <td>yes</td>\n",
       "      <td>yes</td>\n",
       "      <td>no</td>\n",
       "      <td>no</td>\n",
       "      <td>no</td>\n",
       "      <td>no</td>\n",
       "      <td>no</td>\n",
       "      <td>no</td>\n",
       "      <td>no</td>\n",
       "    </tr>\n",
       "    <tr>\n",
       "      <th>3</th>\n",
       "      <td>3</td>\n",
       "      <td>Courtyard by Marriott Hyderabad</td>\n",
       "      <td>1 3 1024 Lower Tank Bund Road Hyderabad Andhra...</td>\n",
       "      <td>6700</td>\n",
       "      <td>Hyderabad</td>\n",
       "      <td>2021-12-02</td>\n",
       "      <td>2021-02-14</td>\n",
       "      <td>NaN</td>\n",
       "      <td>NaN</td>\n",
       "      <td>4.7</td>\n",
       "      <td>...</td>\n",
       "      <td>yes</td>\n",
       "      <td>yes</td>\n",
       "      <td>yes</td>\n",
       "      <td>no</td>\n",
       "      <td>no</td>\n",
       "      <td>no</td>\n",
       "      <td>no</td>\n",
       "      <td>no</td>\n",
       "      <td>no</td>\n",
       "      <td>no</td>\n",
       "    </tr>\n",
       "    <tr>\n",
       "      <th>4</th>\n",
       "      <td>4</td>\n",
       "      <td>Radisson Blu Plaza Hotel Hyderabad Banjara Hills</td>\n",
       "      <td>82409 Road No 6 Banjara Hills Hyderabad Andhra...</td>\n",
       "      <td>6375</td>\n",
       "      <td>Hyderabad</td>\n",
       "      <td>2021-12-02</td>\n",
       "      <td>2021-02-14</td>\n",
       "      <td>Good</td>\n",
       "      <td>7.6</td>\n",
       "      <td>4.5</td>\n",
       "      <td>...</td>\n",
       "      <td>yes</td>\n",
       "      <td>yes</td>\n",
       "      <td>yes</td>\n",
       "      <td>no</td>\n",
       "      <td>no</td>\n",
       "      <td>no</td>\n",
       "      <td>no</td>\n",
       "      <td>no</td>\n",
       "      <td>no</td>\n",
       "      <td>no</td>\n",
       "    </tr>\n",
       "  </tbody>\n",
       "</table>\n",
       "<p>5 rows × 24 columns</p>\n",
       "</div>"
      ],
      "text/plain": [
       "   Unnamed: 0                                              name  \\\n",
       "0           0                                The Park Hyderabad   \n",
       "1           1                    The Westin Hyderabad Mindspace   \n",
       "2           2                   Courtyard by Marriott Hyderabad   \n",
       "3           3                   Courtyard by Marriott Hyderabad   \n",
       "4           4  Radisson Blu Plaza Hotel Hyderabad Banjara Hills   \n",
       "\n",
       "                                             address  price       city  \\\n",
       "0  22 RajBhavan Road Somajiguda Hyderabad Andhra ...   5040  Hyderabad   \n",
       "1  Raheja IT Park Hitec City Madhapur Hyderabad T...   7800  Hyderabad   \n",
       "2  1 3 1024 Lower Tank Bund Road Hyderabad Andhra...   6700  Hyderabad   \n",
       "3  1 3 1024 Lower Tank Bund Road Hyderabad Andhra...   6700  Hyderabad   \n",
       "4  82409 Road No 6 Banjara Hills Hyderabad Andhra...   6375  Hyderabad   \n",
       "\n",
       "  Check_in_date Check_out_date Review  Rating  distance to city centre(km)  \\\n",
       "0    2021-12-02     2021-02-14    NaN     NaN                          4.0   \n",
       "1    2021-12-02     2021-02-14    NaN     NaN                          9.9   \n",
       "2    2021-12-02     2021-02-14    NaN     NaN                          4.7   \n",
       "3    2021-12-02     2021-02-14    NaN     NaN                          4.7   \n",
       "4    2021-12-02     2021-02-14   Good     7.6                          4.5   \n",
       "\n",
       "   ...  Spa Restaurant  Gym Bar Bathtub Meeting Facilities  \\\n",
       "0  ...  yes        yes  yes  no      no                 no   \n",
       "1  ...  yes        yes  yes  no      no                 no   \n",
       "2  ...  yes        yes  yes  no      no                 no   \n",
       "3  ...  yes        yes  yes  no      no                 no   \n",
       "4  ...  yes        yes  yes  no      no                 no   \n",
       "\n",
       "  Connecting rooms available Pet-friendly Kitchen Internet access  \n",
       "0                         no           no      no              no  \n",
       "1                         no           no      no              no  \n",
       "2                         no           no      no              no  \n",
       "3                         no           no      no              no  \n",
       "4                         no           no      no              no  \n",
       "\n",
       "[5 rows x 24 columns]"
      ]
     },
     "execution_count": 3,
     "metadata": {},
     "output_type": "execute_result"
    }
   ],
   "source": [
    "df.head()"
   ]
  },
  {
   "cell_type": "code",
   "execution_count": 4,
   "id": "922fcfe8-62b1-4a24-8a86-300bab980446",
   "metadata": {
    "tags": []
   },
   "outputs": [
    {
     "data": {
      "text/html": [
       "<div>\n",
       "<style scoped>\n",
       "    .dataframe tbody tr th:only-of-type {\n",
       "        vertical-align: middle;\n",
       "    }\n",
       "\n",
       "    .dataframe tbody tr th {\n",
       "        vertical-align: top;\n",
       "    }\n",
       "\n",
       "    .dataframe thead th {\n",
       "        text-align: right;\n",
       "    }\n",
       "</style>\n",
       "<table border=\"1\" class=\"dataframe\">\n",
       "  <thead>\n",
       "    <tr style=\"text-align: right;\">\n",
       "      <th></th>\n",
       "      <th>Unnamed: 0</th>\n",
       "      <th>name</th>\n",
       "      <th>address</th>\n",
       "      <th>price</th>\n",
       "      <th>city</th>\n",
       "      <th>Check_in_date</th>\n",
       "      <th>Check_out_date</th>\n",
       "      <th>Review</th>\n",
       "      <th>Rating</th>\n",
       "      <th>distance to city centre(km)</th>\n",
       "      <th>...</th>\n",
       "      <th>Spa</th>\n",
       "      <th>Restaurant</th>\n",
       "      <th>Gym</th>\n",
       "      <th>Bar</th>\n",
       "      <th>Bathtub</th>\n",
       "      <th>Meeting Facilities</th>\n",
       "      <th>Connecting rooms available</th>\n",
       "      <th>Pet-friendly</th>\n",
       "      <th>Kitchen</th>\n",
       "      <th>Internet access</th>\n",
       "    </tr>\n",
       "  </thead>\n",
       "  <tbody>\n",
       "    <tr>\n",
       "      <th>1125</th>\n",
       "      <td>1125</td>\n",
       "      <td>Ramada Resort by Wyndham Kochi</td>\n",
       "      <td>Pv Sreedharan Road Kumbalam South Ernakulam Ke...</td>\n",
       "      <td>14025</td>\n",
       "      <td>Kochi</td>\n",
       "      <td>2021-12-02</td>\n",
       "      <td>2021-02-16</td>\n",
       "      <td>NaN</td>\n",
       "      <td>NaN</td>\n",
       "      <td>5.8</td>\n",
       "      <td>...</td>\n",
       "      <td>yes</td>\n",
       "      <td>yes</td>\n",
       "      <td>yes</td>\n",
       "      <td>no</td>\n",
       "      <td>no</td>\n",
       "      <td>no</td>\n",
       "      <td>no</td>\n",
       "      <td>no</td>\n",
       "      <td>no</td>\n",
       "      <td>no</td>\n",
       "    </tr>\n",
       "    <tr>\n",
       "      <th>2654</th>\n",
       "      <td>2654</td>\n",
       "      <td>Hotel Citi International</td>\n",
       "      <td>8/21 WEA Karol Bagh Left to metro pillar no 88...</td>\n",
       "      <td>3240</td>\n",
       "      <td>New Delhi</td>\n",
       "      <td>2021-12-02</td>\n",
       "      <td>2021-02-14</td>\n",
       "      <td>NaN</td>\n",
       "      <td>NaN</td>\n",
       "      <td>3.0</td>\n",
       "      <td>...</td>\n",
       "      <td>no</td>\n",
       "      <td>yes</td>\n",
       "      <td>no</td>\n",
       "      <td>no</td>\n",
       "      <td>yes</td>\n",
       "      <td>yes</td>\n",
       "      <td>no</td>\n",
       "      <td>no</td>\n",
       "      <td>no</td>\n",
       "      <td>no</td>\n",
       "    </tr>\n",
       "    <tr>\n",
       "      <th>213</th>\n",
       "      <td>213</td>\n",
       "      <td>Avasa Hotels</td>\n",
       "      <td>Plot No 15 24 25 &amp; 26 Survey No64 Sector1 Huda...</td>\n",
       "      <td>24600</td>\n",
       "      <td>Hyderabad</td>\n",
       "      <td>2021-12-02</td>\n",
       "      <td>2021-02-18</td>\n",
       "      <td>NaN</td>\n",
       "      <td>NaN</td>\n",
       "      <td>11.0</td>\n",
       "      <td>...</td>\n",
       "      <td>yes</td>\n",
       "      <td>yes</td>\n",
       "      <td>yes</td>\n",
       "      <td>no</td>\n",
       "      <td>no</td>\n",
       "      <td>no</td>\n",
       "      <td>no</td>\n",
       "      <td>no</td>\n",
       "      <td>no</td>\n",
       "      <td>no</td>\n",
       "    </tr>\n",
       "    <tr>\n",
       "      <th>3163</th>\n",
       "      <td>3163</td>\n",
       "      <td>Maha Guest House</td>\n",
       "      <td>Nubra Zangsti Opp Dzomsa Near SBI Main Bazaar ...</td>\n",
       "      <td>10000</td>\n",
       "      <td>Leh</td>\n",
       "      <td>2021-12-02</td>\n",
       "      <td>2021-02-17</td>\n",
       "      <td>NaN</td>\n",
       "      <td>NaN</td>\n",
       "      <td>45.0</td>\n",
       "      <td>...</td>\n",
       "      <td>no</td>\n",
       "      <td>yes</td>\n",
       "      <td>no</td>\n",
       "      <td>no</td>\n",
       "      <td>no</td>\n",
       "      <td>no</td>\n",
       "      <td>no</td>\n",
       "      <td>no</td>\n",
       "      <td>no</td>\n",
       "      <td>no</td>\n",
       "    </tr>\n",
       "    <tr>\n",
       "      <th>3717</th>\n",
       "      <td>3717</td>\n",
       "      <td>Hotel Metro Stays</td>\n",
       "      <td>A11A Block A Sector 72 Opposite  Navgrah Park ...</td>\n",
       "      <td>4158</td>\n",
       "      <td>Noida</td>\n",
       "      <td>2021-12-02</td>\n",
       "      <td>2021-02-17</td>\n",
       "      <td>NaN</td>\n",
       "      <td>NaN</td>\n",
       "      <td>4.0</td>\n",
       "      <td>...</td>\n",
       "      <td>yes</td>\n",
       "      <td>yes</td>\n",
       "      <td>yes</td>\n",
       "      <td>yes</td>\n",
       "      <td>yes</td>\n",
       "      <td>yes</td>\n",
       "      <td>yes</td>\n",
       "      <td>yes</td>\n",
       "      <td>yes</td>\n",
       "      <td>yes</td>\n",
       "    </tr>\n",
       "    <tr>\n",
       "      <th>1242</th>\n",
       "      <td>1242</td>\n",
       "      <td>Travancore Court - by Spree</td>\n",
       "      <td>Warriam Road Eranakulam Ernakulam Kerala 68201...</td>\n",
       "      <td>13515</td>\n",
       "      <td>Kochi</td>\n",
       "      <td>2021-12-02</td>\n",
       "      <td>2021-02-18</td>\n",
       "      <td>NaN</td>\n",
       "      <td>NaN</td>\n",
       "      <td>6.5</td>\n",
       "      <td>...</td>\n",
       "      <td>no</td>\n",
       "      <td>yes</td>\n",
       "      <td>yes</td>\n",
       "      <td>yes</td>\n",
       "      <td>no</td>\n",
       "      <td>no</td>\n",
       "      <td>no</td>\n",
       "      <td>no</td>\n",
       "      <td>no</td>\n",
       "      <td>no</td>\n",
       "    </tr>\n",
       "    <tr>\n",
       "      <th>1096</th>\n",
       "      <td>1096</td>\n",
       "      <td>Diana Heights</td>\n",
       "      <td>Near Athani Cochin Intl Airport Alwaye Kerala ...</td>\n",
       "      <td>10842</td>\n",
       "      <td>Kochi</td>\n",
       "      <td>2021-12-02</td>\n",
       "      <td>2021-02-16</td>\n",
       "      <td>NaN</td>\n",
       "      <td>NaN</td>\n",
       "      <td>29.0</td>\n",
       "      <td>...</td>\n",
       "      <td>yes</td>\n",
       "      <td>yes</td>\n",
       "      <td>yes</td>\n",
       "      <td>no</td>\n",
       "      <td>no</td>\n",
       "      <td>no</td>\n",
       "      <td>no</td>\n",
       "      <td>no</td>\n",
       "      <td>no</td>\n",
       "      <td>no</td>\n",
       "    </tr>\n",
       "    <tr>\n",
       "      <th>4141</th>\n",
       "      <td>4141</td>\n",
       "      <td>The India Benares</td>\n",
       "      <td>59 Patel Nagar Cantt Varanasi Varanasi Uttar P...</td>\n",
       "      <td>12450</td>\n",
       "      <td>Varanasi</td>\n",
       "      <td>2021-12-02</td>\n",
       "      <td>2021-02-20</td>\n",
       "      <td>Good</td>\n",
       "      <td>7.6</td>\n",
       "      <td>10.0</td>\n",
       "      <td>...</td>\n",
       "      <td>yes</td>\n",
       "      <td>yes</td>\n",
       "      <td>no</td>\n",
       "      <td>yes</td>\n",
       "      <td>no</td>\n",
       "      <td>no</td>\n",
       "      <td>no</td>\n",
       "      <td>no</td>\n",
       "      <td>no</td>\n",
       "      <td>no</td>\n",
       "    </tr>\n",
       "    <tr>\n",
       "      <th>2198</th>\n",
       "      <td>2198</td>\n",
       "      <td>Safira River Front Resort</td>\n",
       "      <td>Morjim Beach Road Morjim Goa 403512 India</td>\n",
       "      <td>10000</td>\n",
       "      <td>Goa</td>\n",
       "      <td>2021-12-02</td>\n",
       "      <td>2021-02-14</td>\n",
       "      <td>NaN</td>\n",
       "      <td>NaN</td>\n",
       "      <td>7.9</td>\n",
       "      <td>...</td>\n",
       "      <td>yes</td>\n",
       "      <td>yes</td>\n",
       "      <td>no</td>\n",
       "      <td>yes</td>\n",
       "      <td>no</td>\n",
       "      <td>no</td>\n",
       "      <td>no</td>\n",
       "      <td>no</td>\n",
       "      <td>no</td>\n",
       "      <td>no</td>\n",
       "    </tr>\n",
       "    <tr>\n",
       "      <th>145</th>\n",
       "      <td>145</td>\n",
       "      <td>OYO 71431 Hotel Polo</td>\n",
       "      <td>631099/1/13 Nishat Bagh Colony Ward 97 Somajig...</td>\n",
       "      <td>20517</td>\n",
       "      <td>Hyderabad</td>\n",
       "      <td>2021-12-02</td>\n",
       "      <td>2021-02-16</td>\n",
       "      <td>NaN</td>\n",
       "      <td>NaN</td>\n",
       "      <td>4.0</td>\n",
       "      <td>...</td>\n",
       "      <td>no</td>\n",
       "      <td>no</td>\n",
       "      <td>no</td>\n",
       "      <td>no</td>\n",
       "      <td>no</td>\n",
       "      <td>no</td>\n",
       "      <td>no</td>\n",
       "      <td>no</td>\n",
       "      <td>no</td>\n",
       "      <td>no</td>\n",
       "    </tr>\n",
       "  </tbody>\n",
       "</table>\n",
       "<p>10 rows × 24 columns</p>\n",
       "</div>"
      ],
      "text/plain": [
       "      Unnamed: 0                            name  \\\n",
       "1125        1125  Ramada Resort by Wyndham Kochi   \n",
       "2654        2654        Hotel Citi International   \n",
       "213          213                    Avasa Hotels   \n",
       "3163        3163                Maha Guest House   \n",
       "3717        3717               Hotel Metro Stays   \n",
       "1242        1242     Travancore Court - by Spree   \n",
       "1096        1096                   Diana Heights   \n",
       "4141        4141               The India Benares   \n",
       "2198        2198       Safira River Front Resort   \n",
       "145          145            OYO 71431 Hotel Polo   \n",
       "\n",
       "                                                address  price       city  \\\n",
       "1125  Pv Sreedharan Road Kumbalam South Ernakulam Ke...  14025      Kochi   \n",
       "2654  8/21 WEA Karol Bagh Left to metro pillar no 88...   3240  New Delhi   \n",
       "213   Plot No 15 24 25 & 26 Survey No64 Sector1 Huda...  24600  Hyderabad   \n",
       "3163  Nubra Zangsti Opp Dzomsa Near SBI Main Bazaar ...  10000        Leh   \n",
       "3717  A11A Block A Sector 72 Opposite  Navgrah Park ...   4158      Noida   \n",
       "1242  Warriam Road Eranakulam Ernakulam Kerala 68201...  13515      Kochi   \n",
       "1096  Near Athani Cochin Intl Airport Alwaye Kerala ...  10842      Kochi   \n",
       "4141  59 Patel Nagar Cantt Varanasi Varanasi Uttar P...  12450   Varanasi   \n",
       "2198          Morjim Beach Road Morjim Goa 403512 India  10000        Goa   \n",
       "145   631099/1/13 Nishat Bagh Colony Ward 97 Somajig...  20517  Hyderabad   \n",
       "\n",
       "     Check_in_date Check_out_date Review  Rating  distance to city centre(km)  \\\n",
       "1125    2021-12-02     2021-02-16    NaN     NaN                          5.8   \n",
       "2654    2021-12-02     2021-02-14    NaN     NaN                          3.0   \n",
       "213     2021-12-02     2021-02-18    NaN     NaN                         11.0   \n",
       "3163    2021-12-02     2021-02-17    NaN     NaN                         45.0   \n",
       "3717    2021-12-02     2021-02-17    NaN     NaN                          4.0   \n",
       "1242    2021-12-02     2021-02-18    NaN     NaN                          6.5   \n",
       "1096    2021-12-02     2021-02-16    NaN     NaN                         29.0   \n",
       "4141    2021-12-02     2021-02-20   Good     7.6                         10.0   \n",
       "2198    2021-12-02     2021-02-14    NaN     NaN                          7.9   \n",
       "145     2021-12-02     2021-02-16    NaN     NaN                          4.0   \n",
       "\n",
       "      ...  Spa Restaurant  Gym  Bar Bathtub Meeting Facilities  \\\n",
       "1125  ...  yes        yes  yes   no      no                 no   \n",
       "2654  ...   no        yes   no   no     yes                yes   \n",
       "213   ...  yes        yes  yes   no      no                 no   \n",
       "3163  ...   no        yes   no   no      no                 no   \n",
       "3717  ...  yes        yes  yes  yes     yes                yes   \n",
       "1242  ...   no        yes  yes  yes      no                 no   \n",
       "1096  ...  yes        yes  yes   no      no                 no   \n",
       "4141  ...  yes        yes   no  yes      no                 no   \n",
       "2198  ...  yes        yes   no  yes      no                 no   \n",
       "145   ...   no         no   no   no      no                 no   \n",
       "\n",
       "     Connecting rooms available Pet-friendly Kitchen Internet access  \n",
       "1125                         no           no      no              no  \n",
       "2654                         no           no      no              no  \n",
       "213                          no           no      no              no  \n",
       "3163                         no           no      no              no  \n",
       "3717                        yes          yes     yes             yes  \n",
       "1242                         no           no      no              no  \n",
       "1096                         no           no      no              no  \n",
       "4141                         no           no      no              no  \n",
       "2198                         no           no      no              no  \n",
       "145                          no           no      no              no  \n",
       "\n",
       "[10 rows x 24 columns]"
      ]
     },
     "execution_count": 4,
     "metadata": {},
     "output_type": "execute_result"
    }
   ],
   "source": [
    "df.sample(10)"
   ]
  },
  {
   "cell_type": "code",
   "execution_count": 5,
   "id": "55c340cd-bd5b-4a02-9df2-2a5bfe6ca7db",
   "metadata": {
    "tags": []
   },
   "outputs": [],
   "source": [
    "df.drop(columns=['Review','Rating'],inplace=True)"
   ]
  },
  {
   "cell_type": "code",
   "execution_count": 6,
   "id": "9ad81f55-a9a5-4169-a2b2-460bce94739f",
   "metadata": {
    "tags": []
   },
   "outputs": [
    {
     "data": {
      "text/html": [
       "<div>\n",
       "<style scoped>\n",
       "    .dataframe tbody tr th:only-of-type {\n",
       "        vertical-align: middle;\n",
       "    }\n",
       "\n",
       "    .dataframe tbody tr th {\n",
       "        vertical-align: top;\n",
       "    }\n",
       "\n",
       "    .dataframe thead th {\n",
       "        text-align: right;\n",
       "    }\n",
       "</style>\n",
       "<table border=\"1\" class=\"dataframe\">\n",
       "  <thead>\n",
       "    <tr style=\"text-align: right;\">\n",
       "      <th></th>\n",
       "      <th>Unnamed: 0</th>\n",
       "      <th>name</th>\n",
       "      <th>address</th>\n",
       "      <th>price</th>\n",
       "      <th>city</th>\n",
       "      <th>Check_in_date</th>\n",
       "      <th>Check_out_date</th>\n",
       "      <th>distance to city centre(km)</th>\n",
       "      <th>distance to HYD-Rajiv Gandhi Intl(km)</th>\n",
       "      <th>Pool</th>\n",
       "      <th>...</th>\n",
       "      <th>Spa</th>\n",
       "      <th>Restaurant</th>\n",
       "      <th>Gym</th>\n",
       "      <th>Bar</th>\n",
       "      <th>Bathtub</th>\n",
       "      <th>Meeting Facilities</th>\n",
       "      <th>Connecting rooms available</th>\n",
       "      <th>Pet-friendly</th>\n",
       "      <th>Kitchen</th>\n",
       "      <th>Internet access</th>\n",
       "    </tr>\n",
       "  </thead>\n",
       "  <tbody>\n",
       "    <tr>\n",
       "      <th>0</th>\n",
       "      <td>0</td>\n",
       "      <td>The Park Hyderabad</td>\n",
       "      <td>22 RajBhavan Road Somajiguda Hyderabad Andhra ...</td>\n",
       "      <td>5040</td>\n",
       "      <td>Hyderabad</td>\n",
       "      <td>2021-12-02</td>\n",
       "      <td>2021-02-14</td>\n",
       "      <td>4.0</td>\n",
       "      <td>20.0</td>\n",
       "      <td>yes</td>\n",
       "      <td>...</td>\n",
       "      <td>yes</td>\n",
       "      <td>yes</td>\n",
       "      <td>yes</td>\n",
       "      <td>no</td>\n",
       "      <td>no</td>\n",
       "      <td>no</td>\n",
       "      <td>no</td>\n",
       "      <td>no</td>\n",
       "      <td>no</td>\n",
       "      <td>no</td>\n",
       "    </tr>\n",
       "    <tr>\n",
       "      <th>1</th>\n",
       "      <td>1</td>\n",
       "      <td>The Westin Hyderabad Mindspace</td>\n",
       "      <td>Raheja IT Park Hitec City Madhapur Hyderabad T...</td>\n",
       "      <td>7800</td>\n",
       "      <td>Hyderabad</td>\n",
       "      <td>2021-12-02</td>\n",
       "      <td>2021-02-14</td>\n",
       "      <td>9.9</td>\n",
       "      <td>22.0</td>\n",
       "      <td>yes</td>\n",
       "      <td>...</td>\n",
       "      <td>yes</td>\n",
       "      <td>yes</td>\n",
       "      <td>yes</td>\n",
       "      <td>no</td>\n",
       "      <td>no</td>\n",
       "      <td>no</td>\n",
       "      <td>no</td>\n",
       "      <td>no</td>\n",
       "      <td>no</td>\n",
       "      <td>no</td>\n",
       "    </tr>\n",
       "    <tr>\n",
       "      <th>2</th>\n",
       "      <td>2</td>\n",
       "      <td>Courtyard by Marriott Hyderabad</td>\n",
       "      <td>1 3 1024 Lower Tank Bund Road Hyderabad Andhra...</td>\n",
       "      <td>6700</td>\n",
       "      <td>Hyderabad</td>\n",
       "      <td>2021-12-02</td>\n",
       "      <td>2021-02-14</td>\n",
       "      <td>4.7</td>\n",
       "      <td>21.0</td>\n",
       "      <td>yes</td>\n",
       "      <td>...</td>\n",
       "      <td>yes</td>\n",
       "      <td>yes</td>\n",
       "      <td>yes</td>\n",
       "      <td>no</td>\n",
       "      <td>no</td>\n",
       "      <td>no</td>\n",
       "      <td>no</td>\n",
       "      <td>no</td>\n",
       "      <td>no</td>\n",
       "      <td>no</td>\n",
       "    </tr>\n",
       "    <tr>\n",
       "      <th>3</th>\n",
       "      <td>3</td>\n",
       "      <td>Courtyard by Marriott Hyderabad</td>\n",
       "      <td>1 3 1024 Lower Tank Bund Road Hyderabad Andhra...</td>\n",
       "      <td>6700</td>\n",
       "      <td>Hyderabad</td>\n",
       "      <td>2021-12-02</td>\n",
       "      <td>2021-02-14</td>\n",
       "      <td>4.7</td>\n",
       "      <td>21.0</td>\n",
       "      <td>yes</td>\n",
       "      <td>...</td>\n",
       "      <td>yes</td>\n",
       "      <td>yes</td>\n",
       "      <td>yes</td>\n",
       "      <td>no</td>\n",
       "      <td>no</td>\n",
       "      <td>no</td>\n",
       "      <td>no</td>\n",
       "      <td>no</td>\n",
       "      <td>no</td>\n",
       "      <td>no</td>\n",
       "    </tr>\n",
       "    <tr>\n",
       "      <th>4</th>\n",
       "      <td>4</td>\n",
       "      <td>Radisson Blu Plaza Hotel Hyderabad Banjara Hills</td>\n",
       "      <td>82409 Road No 6 Banjara Hills Hyderabad Andhra...</td>\n",
       "      <td>6375</td>\n",
       "      <td>Hyderabad</td>\n",
       "      <td>2021-12-02</td>\n",
       "      <td>2021-02-14</td>\n",
       "      <td>4.5</td>\n",
       "      <td>20.0</td>\n",
       "      <td>yes</td>\n",
       "      <td>...</td>\n",
       "      <td>yes</td>\n",
       "      <td>yes</td>\n",
       "      <td>yes</td>\n",
       "      <td>no</td>\n",
       "      <td>no</td>\n",
       "      <td>no</td>\n",
       "      <td>no</td>\n",
       "      <td>no</td>\n",
       "      <td>no</td>\n",
       "      <td>no</td>\n",
       "    </tr>\n",
       "  </tbody>\n",
       "</table>\n",
       "<p>5 rows × 22 columns</p>\n",
       "</div>"
      ],
      "text/plain": [
       "   Unnamed: 0                                              name  \\\n",
       "0           0                                The Park Hyderabad   \n",
       "1           1                    The Westin Hyderabad Mindspace   \n",
       "2           2                   Courtyard by Marriott Hyderabad   \n",
       "3           3                   Courtyard by Marriott Hyderabad   \n",
       "4           4  Radisson Blu Plaza Hotel Hyderabad Banjara Hills   \n",
       "\n",
       "                                             address  price       city  \\\n",
       "0  22 RajBhavan Road Somajiguda Hyderabad Andhra ...   5040  Hyderabad   \n",
       "1  Raheja IT Park Hitec City Madhapur Hyderabad T...   7800  Hyderabad   \n",
       "2  1 3 1024 Lower Tank Bund Road Hyderabad Andhra...   6700  Hyderabad   \n",
       "3  1 3 1024 Lower Tank Bund Road Hyderabad Andhra...   6700  Hyderabad   \n",
       "4  82409 Road No 6 Banjara Hills Hyderabad Andhra...   6375  Hyderabad   \n",
       "\n",
       "  Check_in_date Check_out_date  distance to city centre(km)  \\\n",
       "0    2021-12-02     2021-02-14                          4.0   \n",
       "1    2021-12-02     2021-02-14                          9.9   \n",
       "2    2021-12-02     2021-02-14                          4.7   \n",
       "3    2021-12-02     2021-02-14                          4.7   \n",
       "4    2021-12-02     2021-02-14                          4.5   \n",
       "\n",
       "   distance to HYD-Rajiv Gandhi Intl(km) Pool  ...  Spa Restaurant  Gym Bar  \\\n",
       "0                                   20.0  yes  ...  yes        yes  yes  no   \n",
       "1                                   22.0  yes  ...  yes        yes  yes  no   \n",
       "2                                   21.0  yes  ...  yes        yes  yes  no   \n",
       "3                                   21.0  yes  ...  yes        yes  yes  no   \n",
       "4                                   20.0  yes  ...  yes        yes  yes  no   \n",
       "\n",
       "  Bathtub Meeting Facilities Connecting rooms available Pet-friendly Kitchen  \\\n",
       "0      no                 no                         no           no      no   \n",
       "1      no                 no                         no           no      no   \n",
       "2      no                 no                         no           no      no   \n",
       "3      no                 no                         no           no      no   \n",
       "4      no                 no                         no           no      no   \n",
       "\n",
       "  Internet access  \n",
       "0              no  \n",
       "1              no  \n",
       "2              no  \n",
       "3              no  \n",
       "4              no  \n",
       "\n",
       "[5 rows x 22 columns]"
      ]
     },
     "execution_count": 6,
     "metadata": {},
     "output_type": "execute_result"
    }
   ],
   "source": [
    "df.head()"
   ]
  },
  {
   "cell_type": "code",
   "execution_count": 7,
   "id": "f971234b-267d-49ee-9137-ade1aea38764",
   "metadata": {
    "tags": []
   },
   "outputs": [
    {
     "data": {
      "text/plain": [
       "(5342, 22)"
      ]
     },
     "execution_count": 7,
     "metadata": {},
     "output_type": "execute_result"
    }
   ],
   "source": [
    "df.shape"
   ]
  },
  {
   "cell_type": "code",
   "execution_count": 8,
   "id": "6f9ae7a3-31db-4d6a-ac38-c0919be8e2b7",
   "metadata": {
    "tags": []
   },
   "outputs": [
    {
     "name": "stdout",
     "output_type": "stream",
     "text": [
      "<class 'pandas.core.frame.DataFrame'>\n",
      "RangeIndex: 5342 entries, 0 to 5341\n",
      "Data columns (total 22 columns):\n",
      " #   Column                                 Non-Null Count  Dtype  \n",
      "---  ------                                 --------------  -----  \n",
      " 0   Unnamed: 0                             5342 non-null   int64  \n",
      " 1   name                                   5342 non-null   object \n",
      " 2   address                                5342 non-null   object \n",
      " 3   price                                  5342 non-null   int64  \n",
      " 4   city                                   5342 non-null   object \n",
      " 5   Check_in_date                          5342 non-null   object \n",
      " 6   Check_out_date                         5342 non-null   object \n",
      " 7   distance to city centre(km)            5319 non-null   float64\n",
      " 8   distance to HYD-Rajiv Gandhi Intl(km)  5319 non-null   float64\n",
      " 9   Pool                                   5342 non-null   object \n",
      " 10  Free parking                           5342 non-null   object \n",
      " 11  Airport transfer                       5342 non-null   object \n",
      " 12  Spa                                    5342 non-null   object \n",
      " 13  Restaurant                             5342 non-null   object \n",
      " 14  Gym                                    5342 non-null   object \n",
      " 15  Bar                                    5342 non-null   object \n",
      " 16  Bathtub                                5342 non-null   object \n",
      " 17  Meeting Facilities                     5342 non-null   object \n",
      " 18  Connecting rooms available             5342 non-null   object \n",
      " 19  Pet-friendly                           5342 non-null   object \n",
      " 20  Kitchen                                5342 non-null   object \n",
      " 21  Internet access                        5342 non-null   object \n",
      "dtypes: float64(2), int64(2), object(18)\n",
      "memory usage: 918.3+ KB\n"
     ]
    }
   ],
   "source": [
    "df.info()"
   ]
  },
  {
   "cell_type": "code",
   "execution_count": 9,
   "id": "79837c13-1efe-4715-bd79-2392dd1c1b7b",
   "metadata": {
    "tags": []
   },
   "outputs": [],
   "source": [
    "df=df.iloc[:,1:]"
   ]
  },
  {
   "cell_type": "code",
   "execution_count": 10,
   "id": "00e3d47d-182e-497b-acf1-df277f5bd002",
   "metadata": {
    "tags": []
   },
   "outputs": [
    {
     "data": {
      "text/html": [
       "<div>\n",
       "<style scoped>\n",
       "    .dataframe tbody tr th:only-of-type {\n",
       "        vertical-align: middle;\n",
       "    }\n",
       "\n",
       "    .dataframe tbody tr th {\n",
       "        vertical-align: top;\n",
       "    }\n",
       "\n",
       "    .dataframe thead th {\n",
       "        text-align: right;\n",
       "    }\n",
       "</style>\n",
       "<table border=\"1\" class=\"dataframe\">\n",
       "  <thead>\n",
       "    <tr style=\"text-align: right;\">\n",
       "      <th></th>\n",
       "      <th>name</th>\n",
       "      <th>address</th>\n",
       "      <th>price</th>\n",
       "      <th>city</th>\n",
       "      <th>Check_in_date</th>\n",
       "      <th>Check_out_date</th>\n",
       "      <th>distance to city centre(km)</th>\n",
       "      <th>distance to HYD-Rajiv Gandhi Intl(km)</th>\n",
       "      <th>Pool</th>\n",
       "      <th>Free parking</th>\n",
       "      <th>...</th>\n",
       "      <th>Spa</th>\n",
       "      <th>Restaurant</th>\n",
       "      <th>Gym</th>\n",
       "      <th>Bar</th>\n",
       "      <th>Bathtub</th>\n",
       "      <th>Meeting Facilities</th>\n",
       "      <th>Connecting rooms available</th>\n",
       "      <th>Pet-friendly</th>\n",
       "      <th>Kitchen</th>\n",
       "      <th>Internet access</th>\n",
       "    </tr>\n",
       "  </thead>\n",
       "  <tbody>\n",
       "    <tr>\n",
       "      <th>0</th>\n",
       "      <td>The Park Hyderabad</td>\n",
       "      <td>22 RajBhavan Road Somajiguda Hyderabad Andhra ...</td>\n",
       "      <td>5040</td>\n",
       "      <td>Hyderabad</td>\n",
       "      <td>2021-12-02</td>\n",
       "      <td>2021-02-14</td>\n",
       "      <td>4.0</td>\n",
       "      <td>20.0</td>\n",
       "      <td>yes</td>\n",
       "      <td>yes</td>\n",
       "      <td>...</td>\n",
       "      <td>yes</td>\n",
       "      <td>yes</td>\n",
       "      <td>yes</td>\n",
       "      <td>no</td>\n",
       "      <td>no</td>\n",
       "      <td>no</td>\n",
       "      <td>no</td>\n",
       "      <td>no</td>\n",
       "      <td>no</td>\n",
       "      <td>no</td>\n",
       "    </tr>\n",
       "    <tr>\n",
       "      <th>1</th>\n",
       "      <td>The Westin Hyderabad Mindspace</td>\n",
       "      <td>Raheja IT Park Hitec City Madhapur Hyderabad T...</td>\n",
       "      <td>7800</td>\n",
       "      <td>Hyderabad</td>\n",
       "      <td>2021-12-02</td>\n",
       "      <td>2021-02-14</td>\n",
       "      <td>9.9</td>\n",
       "      <td>22.0</td>\n",
       "      <td>yes</td>\n",
       "      <td>yes</td>\n",
       "      <td>...</td>\n",
       "      <td>yes</td>\n",
       "      <td>yes</td>\n",
       "      <td>yes</td>\n",
       "      <td>no</td>\n",
       "      <td>no</td>\n",
       "      <td>no</td>\n",
       "      <td>no</td>\n",
       "      <td>no</td>\n",
       "      <td>no</td>\n",
       "      <td>no</td>\n",
       "    </tr>\n",
       "    <tr>\n",
       "      <th>2</th>\n",
       "      <td>Courtyard by Marriott Hyderabad</td>\n",
       "      <td>1 3 1024 Lower Tank Bund Road Hyderabad Andhra...</td>\n",
       "      <td>6700</td>\n",
       "      <td>Hyderabad</td>\n",
       "      <td>2021-12-02</td>\n",
       "      <td>2021-02-14</td>\n",
       "      <td>4.7</td>\n",
       "      <td>21.0</td>\n",
       "      <td>yes</td>\n",
       "      <td>yes</td>\n",
       "      <td>...</td>\n",
       "      <td>yes</td>\n",
       "      <td>yes</td>\n",
       "      <td>yes</td>\n",
       "      <td>no</td>\n",
       "      <td>no</td>\n",
       "      <td>no</td>\n",
       "      <td>no</td>\n",
       "      <td>no</td>\n",
       "      <td>no</td>\n",
       "      <td>no</td>\n",
       "    </tr>\n",
       "    <tr>\n",
       "      <th>3</th>\n",
       "      <td>Courtyard by Marriott Hyderabad</td>\n",
       "      <td>1 3 1024 Lower Tank Bund Road Hyderabad Andhra...</td>\n",
       "      <td>6700</td>\n",
       "      <td>Hyderabad</td>\n",
       "      <td>2021-12-02</td>\n",
       "      <td>2021-02-14</td>\n",
       "      <td>4.7</td>\n",
       "      <td>21.0</td>\n",
       "      <td>yes</td>\n",
       "      <td>yes</td>\n",
       "      <td>...</td>\n",
       "      <td>yes</td>\n",
       "      <td>yes</td>\n",
       "      <td>yes</td>\n",
       "      <td>no</td>\n",
       "      <td>no</td>\n",
       "      <td>no</td>\n",
       "      <td>no</td>\n",
       "      <td>no</td>\n",
       "      <td>no</td>\n",
       "      <td>no</td>\n",
       "    </tr>\n",
       "    <tr>\n",
       "      <th>4</th>\n",
       "      <td>Radisson Blu Plaza Hotel Hyderabad Banjara Hills</td>\n",
       "      <td>82409 Road No 6 Banjara Hills Hyderabad Andhra...</td>\n",
       "      <td>6375</td>\n",
       "      <td>Hyderabad</td>\n",
       "      <td>2021-12-02</td>\n",
       "      <td>2021-02-14</td>\n",
       "      <td>4.5</td>\n",
       "      <td>20.0</td>\n",
       "      <td>yes</td>\n",
       "      <td>yes</td>\n",
       "      <td>...</td>\n",
       "      <td>yes</td>\n",
       "      <td>yes</td>\n",
       "      <td>yes</td>\n",
       "      <td>no</td>\n",
       "      <td>no</td>\n",
       "      <td>no</td>\n",
       "      <td>no</td>\n",
       "      <td>no</td>\n",
       "      <td>no</td>\n",
       "      <td>no</td>\n",
       "    </tr>\n",
       "  </tbody>\n",
       "</table>\n",
       "<p>5 rows × 21 columns</p>\n",
       "</div>"
      ],
      "text/plain": [
       "                                               name  \\\n",
       "0                                The Park Hyderabad   \n",
       "1                    The Westin Hyderabad Mindspace   \n",
       "2                   Courtyard by Marriott Hyderabad   \n",
       "3                   Courtyard by Marriott Hyderabad   \n",
       "4  Radisson Blu Plaza Hotel Hyderabad Banjara Hills   \n",
       "\n",
       "                                             address  price       city  \\\n",
       "0  22 RajBhavan Road Somajiguda Hyderabad Andhra ...   5040  Hyderabad   \n",
       "1  Raheja IT Park Hitec City Madhapur Hyderabad T...   7800  Hyderabad   \n",
       "2  1 3 1024 Lower Tank Bund Road Hyderabad Andhra...   6700  Hyderabad   \n",
       "3  1 3 1024 Lower Tank Bund Road Hyderabad Andhra...   6700  Hyderabad   \n",
       "4  82409 Road No 6 Banjara Hills Hyderabad Andhra...   6375  Hyderabad   \n",
       "\n",
       "  Check_in_date Check_out_date  distance to city centre(km)  \\\n",
       "0    2021-12-02     2021-02-14                          4.0   \n",
       "1    2021-12-02     2021-02-14                          9.9   \n",
       "2    2021-12-02     2021-02-14                          4.7   \n",
       "3    2021-12-02     2021-02-14                          4.7   \n",
       "4    2021-12-02     2021-02-14                          4.5   \n",
       "\n",
       "   distance to HYD-Rajiv Gandhi Intl(km) Pool Free parking  ...  Spa  \\\n",
       "0                                   20.0  yes          yes  ...  yes   \n",
       "1                                   22.0  yes          yes  ...  yes   \n",
       "2                                   21.0  yes          yes  ...  yes   \n",
       "3                                   21.0  yes          yes  ...  yes   \n",
       "4                                   20.0  yes          yes  ...  yes   \n",
       "\n",
       "  Restaurant  Gym Bar Bathtub Meeting Facilities Connecting rooms available  \\\n",
       "0        yes  yes  no      no                 no                         no   \n",
       "1        yes  yes  no      no                 no                         no   \n",
       "2        yes  yes  no      no                 no                         no   \n",
       "3        yes  yes  no      no                 no                         no   \n",
       "4        yes  yes  no      no                 no                         no   \n",
       "\n",
       "  Pet-friendly Kitchen Internet access  \n",
       "0           no      no              no  \n",
       "1           no      no              no  \n",
       "2           no      no              no  \n",
       "3           no      no              no  \n",
       "4           no      no              no  \n",
       "\n",
       "[5 rows x 21 columns]"
      ]
     },
     "execution_count": 10,
     "metadata": {},
     "output_type": "execute_result"
    }
   ],
   "source": [
    "df.head()"
   ]
  },
  {
   "cell_type": "code",
   "execution_count": 11,
   "id": "539c4bf7-ed46-4369-a2cd-dc1468f924ec",
   "metadata": {
    "tags": []
   },
   "outputs": [],
   "source": [
    "df.drop(columns=['Pet-friendly','Connecting rooms available','Meeting Facilities','Bar','Airport transfer','address','name','Bathtub'],inplace=True)"
   ]
  },
  {
   "cell_type": "code",
   "execution_count": 12,
   "id": "f8005c1f-1818-4e20-b83b-f4e587701089",
   "metadata": {
    "tags": []
   },
   "outputs": [
    {
     "data": {
      "text/html": [
       "<div>\n",
       "<style scoped>\n",
       "    .dataframe tbody tr th:only-of-type {\n",
       "        vertical-align: middle;\n",
       "    }\n",
       "\n",
       "    .dataframe tbody tr th {\n",
       "        vertical-align: top;\n",
       "    }\n",
       "\n",
       "    .dataframe thead th {\n",
       "        text-align: right;\n",
       "    }\n",
       "</style>\n",
       "<table border=\"1\" class=\"dataframe\">\n",
       "  <thead>\n",
       "    <tr style=\"text-align: right;\">\n",
       "      <th></th>\n",
       "      <th>price</th>\n",
       "      <th>city</th>\n",
       "      <th>Check_in_date</th>\n",
       "      <th>Check_out_date</th>\n",
       "      <th>distance to city centre(km)</th>\n",
       "      <th>distance to HYD-Rajiv Gandhi Intl(km)</th>\n",
       "      <th>Pool</th>\n",
       "      <th>Free parking</th>\n",
       "      <th>Spa</th>\n",
       "      <th>Restaurant</th>\n",
       "      <th>Gym</th>\n",
       "      <th>Kitchen</th>\n",
       "      <th>Internet access</th>\n",
       "    </tr>\n",
       "  </thead>\n",
       "  <tbody>\n",
       "    <tr>\n",
       "      <th>0</th>\n",
       "      <td>5040</td>\n",
       "      <td>Hyderabad</td>\n",
       "      <td>2021-12-02</td>\n",
       "      <td>2021-02-14</td>\n",
       "      <td>4.0</td>\n",
       "      <td>20.0</td>\n",
       "      <td>yes</td>\n",
       "      <td>yes</td>\n",
       "      <td>yes</td>\n",
       "      <td>yes</td>\n",
       "      <td>yes</td>\n",
       "      <td>no</td>\n",
       "      <td>no</td>\n",
       "    </tr>\n",
       "    <tr>\n",
       "      <th>1</th>\n",
       "      <td>7800</td>\n",
       "      <td>Hyderabad</td>\n",
       "      <td>2021-12-02</td>\n",
       "      <td>2021-02-14</td>\n",
       "      <td>9.9</td>\n",
       "      <td>22.0</td>\n",
       "      <td>yes</td>\n",
       "      <td>yes</td>\n",
       "      <td>yes</td>\n",
       "      <td>yes</td>\n",
       "      <td>yes</td>\n",
       "      <td>no</td>\n",
       "      <td>no</td>\n",
       "    </tr>\n",
       "    <tr>\n",
       "      <th>2</th>\n",
       "      <td>6700</td>\n",
       "      <td>Hyderabad</td>\n",
       "      <td>2021-12-02</td>\n",
       "      <td>2021-02-14</td>\n",
       "      <td>4.7</td>\n",
       "      <td>21.0</td>\n",
       "      <td>yes</td>\n",
       "      <td>yes</td>\n",
       "      <td>yes</td>\n",
       "      <td>yes</td>\n",
       "      <td>yes</td>\n",
       "      <td>no</td>\n",
       "      <td>no</td>\n",
       "    </tr>\n",
       "    <tr>\n",
       "      <th>3</th>\n",
       "      <td>6700</td>\n",
       "      <td>Hyderabad</td>\n",
       "      <td>2021-12-02</td>\n",
       "      <td>2021-02-14</td>\n",
       "      <td>4.7</td>\n",
       "      <td>21.0</td>\n",
       "      <td>yes</td>\n",
       "      <td>yes</td>\n",
       "      <td>yes</td>\n",
       "      <td>yes</td>\n",
       "      <td>yes</td>\n",
       "      <td>no</td>\n",
       "      <td>no</td>\n",
       "    </tr>\n",
       "    <tr>\n",
       "      <th>4</th>\n",
       "      <td>6375</td>\n",
       "      <td>Hyderabad</td>\n",
       "      <td>2021-12-02</td>\n",
       "      <td>2021-02-14</td>\n",
       "      <td>4.5</td>\n",
       "      <td>20.0</td>\n",
       "      <td>yes</td>\n",
       "      <td>yes</td>\n",
       "      <td>yes</td>\n",
       "      <td>yes</td>\n",
       "      <td>yes</td>\n",
       "      <td>no</td>\n",
       "      <td>no</td>\n",
       "    </tr>\n",
       "  </tbody>\n",
       "</table>\n",
       "</div>"
      ],
      "text/plain": [
       "   price       city Check_in_date Check_out_date  distance to city centre(km)  \\\n",
       "0   5040  Hyderabad    2021-12-02     2021-02-14                          4.0   \n",
       "1   7800  Hyderabad    2021-12-02     2021-02-14                          9.9   \n",
       "2   6700  Hyderabad    2021-12-02     2021-02-14                          4.7   \n",
       "3   6700  Hyderabad    2021-12-02     2021-02-14                          4.7   \n",
       "4   6375  Hyderabad    2021-12-02     2021-02-14                          4.5   \n",
       "\n",
       "   distance to HYD-Rajiv Gandhi Intl(km) Pool Free parking  Spa Restaurant  \\\n",
       "0                                   20.0  yes          yes  yes        yes   \n",
       "1                                   22.0  yes          yes  yes        yes   \n",
       "2                                   21.0  yes          yes  yes        yes   \n",
       "3                                   21.0  yes          yes  yes        yes   \n",
       "4                                   20.0  yes          yes  yes        yes   \n",
       "\n",
       "   Gym Kitchen Internet access  \n",
       "0  yes      no              no  \n",
       "1  yes      no              no  \n",
       "2  yes      no              no  \n",
       "3  yes      no              no  \n",
       "4  yes      no              no  "
      ]
     },
     "execution_count": 12,
     "metadata": {},
     "output_type": "execute_result"
    }
   ],
   "source": [
    "df.head()"
   ]
  },
  {
   "cell_type": "code",
   "execution_count": 13,
   "id": "ca6ef307-e520-49f9-b742-9ddb0932000d",
   "metadata": {
    "tags": []
   },
   "outputs": [],
   "source": [
    "df.columns=['price','city','Check_in_date','Check_out_date','distance_to_city_centre(km)','distance_to_airport','Pool','Free parking','Spa','Restaurant','Gym','Kitchen','Internet access']"
   ]
  },
  {
   "cell_type": "code",
   "execution_count": 14,
   "id": "94e08d5b-b721-46ca-93aa-05197fa81138",
   "metadata": {
    "tags": []
   },
   "outputs": [
    {
     "data": {
      "text/html": [
       "<div>\n",
       "<style scoped>\n",
       "    .dataframe tbody tr th:only-of-type {\n",
       "        vertical-align: middle;\n",
       "    }\n",
       "\n",
       "    .dataframe tbody tr th {\n",
       "        vertical-align: top;\n",
       "    }\n",
       "\n",
       "    .dataframe thead th {\n",
       "        text-align: right;\n",
       "    }\n",
       "</style>\n",
       "<table border=\"1\" class=\"dataframe\">\n",
       "  <thead>\n",
       "    <tr style=\"text-align: right;\">\n",
       "      <th></th>\n",
       "      <th>price</th>\n",
       "      <th>city</th>\n",
       "      <th>Check_in_date</th>\n",
       "      <th>Check_out_date</th>\n",
       "      <th>distance_to_city_centre(km)</th>\n",
       "      <th>distance_to_airport</th>\n",
       "      <th>Pool</th>\n",
       "      <th>Free parking</th>\n",
       "      <th>Spa</th>\n",
       "      <th>Restaurant</th>\n",
       "      <th>Gym</th>\n",
       "      <th>Kitchen</th>\n",
       "      <th>Internet access</th>\n",
       "    </tr>\n",
       "  </thead>\n",
       "  <tbody>\n",
       "    <tr>\n",
       "      <th>0</th>\n",
       "      <td>5040</td>\n",
       "      <td>Hyderabad</td>\n",
       "      <td>2021-12-02</td>\n",
       "      <td>2021-02-14</td>\n",
       "      <td>4.0</td>\n",
       "      <td>20.0</td>\n",
       "      <td>yes</td>\n",
       "      <td>yes</td>\n",
       "      <td>yes</td>\n",
       "      <td>yes</td>\n",
       "      <td>yes</td>\n",
       "      <td>no</td>\n",
       "      <td>no</td>\n",
       "    </tr>\n",
       "    <tr>\n",
       "      <th>1</th>\n",
       "      <td>7800</td>\n",
       "      <td>Hyderabad</td>\n",
       "      <td>2021-12-02</td>\n",
       "      <td>2021-02-14</td>\n",
       "      <td>9.9</td>\n",
       "      <td>22.0</td>\n",
       "      <td>yes</td>\n",
       "      <td>yes</td>\n",
       "      <td>yes</td>\n",
       "      <td>yes</td>\n",
       "      <td>yes</td>\n",
       "      <td>no</td>\n",
       "      <td>no</td>\n",
       "    </tr>\n",
       "    <tr>\n",
       "      <th>2</th>\n",
       "      <td>6700</td>\n",
       "      <td>Hyderabad</td>\n",
       "      <td>2021-12-02</td>\n",
       "      <td>2021-02-14</td>\n",
       "      <td>4.7</td>\n",
       "      <td>21.0</td>\n",
       "      <td>yes</td>\n",
       "      <td>yes</td>\n",
       "      <td>yes</td>\n",
       "      <td>yes</td>\n",
       "      <td>yes</td>\n",
       "      <td>no</td>\n",
       "      <td>no</td>\n",
       "    </tr>\n",
       "    <tr>\n",
       "      <th>3</th>\n",
       "      <td>6700</td>\n",
       "      <td>Hyderabad</td>\n",
       "      <td>2021-12-02</td>\n",
       "      <td>2021-02-14</td>\n",
       "      <td>4.7</td>\n",
       "      <td>21.0</td>\n",
       "      <td>yes</td>\n",
       "      <td>yes</td>\n",
       "      <td>yes</td>\n",
       "      <td>yes</td>\n",
       "      <td>yes</td>\n",
       "      <td>no</td>\n",
       "      <td>no</td>\n",
       "    </tr>\n",
       "    <tr>\n",
       "      <th>4</th>\n",
       "      <td>6375</td>\n",
       "      <td>Hyderabad</td>\n",
       "      <td>2021-12-02</td>\n",
       "      <td>2021-02-14</td>\n",
       "      <td>4.5</td>\n",
       "      <td>20.0</td>\n",
       "      <td>yes</td>\n",
       "      <td>yes</td>\n",
       "      <td>yes</td>\n",
       "      <td>yes</td>\n",
       "      <td>yes</td>\n",
       "      <td>no</td>\n",
       "      <td>no</td>\n",
       "    </tr>\n",
       "  </tbody>\n",
       "</table>\n",
       "</div>"
      ],
      "text/plain": [
       "   price       city Check_in_date Check_out_date  distance_to_city_centre(km)  \\\n",
       "0   5040  Hyderabad    2021-12-02     2021-02-14                          4.0   \n",
       "1   7800  Hyderabad    2021-12-02     2021-02-14                          9.9   \n",
       "2   6700  Hyderabad    2021-12-02     2021-02-14                          4.7   \n",
       "3   6700  Hyderabad    2021-12-02     2021-02-14                          4.7   \n",
       "4   6375  Hyderabad    2021-12-02     2021-02-14                          4.5   \n",
       "\n",
       "   distance_to_airport Pool Free parking  Spa Restaurant  Gym Kitchen  \\\n",
       "0                 20.0  yes          yes  yes        yes  yes      no   \n",
       "1                 22.0  yes          yes  yes        yes  yes      no   \n",
       "2                 21.0  yes          yes  yes        yes  yes      no   \n",
       "3                 21.0  yes          yes  yes        yes  yes      no   \n",
       "4                 20.0  yes          yes  yes        yes  yes      no   \n",
       "\n",
       "  Internet access  \n",
       "0              no  \n",
       "1              no  \n",
       "2              no  \n",
       "3              no  \n",
       "4              no  "
      ]
     },
     "execution_count": 14,
     "metadata": {},
     "output_type": "execute_result"
    }
   ],
   "source": [
    "df.head()"
   ]
  },
  {
   "cell_type": "code",
   "execution_count": 15,
   "id": "b03878ee-afb0-4136-a5f7-9891fe577794",
   "metadata": {
    "tags": []
   },
   "outputs": [],
   "source": [
    "df[\"Check_in_date\"]=pd.to_datetime(df[\"Check_in_date\"])\n",
    "\n",
    "df[\"check_in_month\"]=df[\"Check_in_date\"].dt.month\n",
    "\n",
    "df[\"check_in_year\"]=df[\"Check_in_date\"].dt.year\n",
    "\n",
    "df[\"check_in_day\"]=df[\"Check_in_date\"].dt.day\n",
    "\n",
    "df[\"Check_out_date\"]=pd.to_datetime(df[\"Check_out_date\"])\n",
    "\n",
    "df[\"check_out_year\"]=df[\"Check_out_date\"].dt.year\n",
    "\n",
    "df[\"check_out_month\"]=df[\"Check_out_date\"].dt.month\n",
    "\n",
    "df[\"check_out_day\"]=df[\"Check_out_date\"].dt.day"
   ]
  },
  {
   "cell_type": "code",
   "execution_count": 16,
   "id": "d57a9b1f-a7c9-4dcd-8da8-3fb5c9530885",
   "metadata": {
    "tags": []
   },
   "outputs": [
    {
     "data": {
      "text/html": [
       "<div>\n",
       "<style scoped>\n",
       "    .dataframe tbody tr th:only-of-type {\n",
       "        vertical-align: middle;\n",
       "    }\n",
       "\n",
       "    .dataframe tbody tr th {\n",
       "        vertical-align: top;\n",
       "    }\n",
       "\n",
       "    .dataframe thead th {\n",
       "        text-align: right;\n",
       "    }\n",
       "</style>\n",
       "<table border=\"1\" class=\"dataframe\">\n",
       "  <thead>\n",
       "    <tr style=\"text-align: right;\">\n",
       "      <th></th>\n",
       "      <th>price</th>\n",
       "      <th>city</th>\n",
       "      <th>Check_in_date</th>\n",
       "      <th>Check_out_date</th>\n",
       "      <th>distance_to_city_centre(km)</th>\n",
       "      <th>distance_to_airport</th>\n",
       "      <th>Pool</th>\n",
       "      <th>Free parking</th>\n",
       "      <th>Spa</th>\n",
       "      <th>Restaurant</th>\n",
       "      <th>Gym</th>\n",
       "      <th>Kitchen</th>\n",
       "      <th>Internet access</th>\n",
       "      <th>check_in_month</th>\n",
       "      <th>check_in_year</th>\n",
       "      <th>check_in_day</th>\n",
       "      <th>check_out_year</th>\n",
       "      <th>check_out_month</th>\n",
       "      <th>check_out_day</th>\n",
       "    </tr>\n",
       "  </thead>\n",
       "  <tbody>\n",
       "    <tr>\n",
       "      <th>0</th>\n",
       "      <td>5040</td>\n",
       "      <td>Hyderabad</td>\n",
       "      <td>2021-12-02</td>\n",
       "      <td>2021-02-14</td>\n",
       "      <td>4.0</td>\n",
       "      <td>20.0</td>\n",
       "      <td>yes</td>\n",
       "      <td>yes</td>\n",
       "      <td>yes</td>\n",
       "      <td>yes</td>\n",
       "      <td>yes</td>\n",
       "      <td>no</td>\n",
       "      <td>no</td>\n",
       "      <td>12</td>\n",
       "      <td>2021</td>\n",
       "      <td>2</td>\n",
       "      <td>2021</td>\n",
       "      <td>2</td>\n",
       "      <td>14</td>\n",
       "    </tr>\n",
       "    <tr>\n",
       "      <th>1</th>\n",
       "      <td>7800</td>\n",
       "      <td>Hyderabad</td>\n",
       "      <td>2021-12-02</td>\n",
       "      <td>2021-02-14</td>\n",
       "      <td>9.9</td>\n",
       "      <td>22.0</td>\n",
       "      <td>yes</td>\n",
       "      <td>yes</td>\n",
       "      <td>yes</td>\n",
       "      <td>yes</td>\n",
       "      <td>yes</td>\n",
       "      <td>no</td>\n",
       "      <td>no</td>\n",
       "      <td>12</td>\n",
       "      <td>2021</td>\n",
       "      <td>2</td>\n",
       "      <td>2021</td>\n",
       "      <td>2</td>\n",
       "      <td>14</td>\n",
       "    </tr>\n",
       "    <tr>\n",
       "      <th>2</th>\n",
       "      <td>6700</td>\n",
       "      <td>Hyderabad</td>\n",
       "      <td>2021-12-02</td>\n",
       "      <td>2021-02-14</td>\n",
       "      <td>4.7</td>\n",
       "      <td>21.0</td>\n",
       "      <td>yes</td>\n",
       "      <td>yes</td>\n",
       "      <td>yes</td>\n",
       "      <td>yes</td>\n",
       "      <td>yes</td>\n",
       "      <td>no</td>\n",
       "      <td>no</td>\n",
       "      <td>12</td>\n",
       "      <td>2021</td>\n",
       "      <td>2</td>\n",
       "      <td>2021</td>\n",
       "      <td>2</td>\n",
       "      <td>14</td>\n",
       "    </tr>\n",
       "    <tr>\n",
       "      <th>3</th>\n",
       "      <td>6700</td>\n",
       "      <td>Hyderabad</td>\n",
       "      <td>2021-12-02</td>\n",
       "      <td>2021-02-14</td>\n",
       "      <td>4.7</td>\n",
       "      <td>21.0</td>\n",
       "      <td>yes</td>\n",
       "      <td>yes</td>\n",
       "      <td>yes</td>\n",
       "      <td>yes</td>\n",
       "      <td>yes</td>\n",
       "      <td>no</td>\n",
       "      <td>no</td>\n",
       "      <td>12</td>\n",
       "      <td>2021</td>\n",
       "      <td>2</td>\n",
       "      <td>2021</td>\n",
       "      <td>2</td>\n",
       "      <td>14</td>\n",
       "    </tr>\n",
       "    <tr>\n",
       "      <th>4</th>\n",
       "      <td>6375</td>\n",
       "      <td>Hyderabad</td>\n",
       "      <td>2021-12-02</td>\n",
       "      <td>2021-02-14</td>\n",
       "      <td>4.5</td>\n",
       "      <td>20.0</td>\n",
       "      <td>yes</td>\n",
       "      <td>yes</td>\n",
       "      <td>yes</td>\n",
       "      <td>yes</td>\n",
       "      <td>yes</td>\n",
       "      <td>no</td>\n",
       "      <td>no</td>\n",
       "      <td>12</td>\n",
       "      <td>2021</td>\n",
       "      <td>2</td>\n",
       "      <td>2021</td>\n",
       "      <td>2</td>\n",
       "      <td>14</td>\n",
       "    </tr>\n",
       "  </tbody>\n",
       "</table>\n",
       "</div>"
      ],
      "text/plain": [
       "   price       city Check_in_date Check_out_date  distance_to_city_centre(km)  \\\n",
       "0   5040  Hyderabad    2021-12-02     2021-02-14                          4.0   \n",
       "1   7800  Hyderabad    2021-12-02     2021-02-14                          9.9   \n",
       "2   6700  Hyderabad    2021-12-02     2021-02-14                          4.7   \n",
       "3   6700  Hyderabad    2021-12-02     2021-02-14                          4.7   \n",
       "4   6375  Hyderabad    2021-12-02     2021-02-14                          4.5   \n",
       "\n",
       "   distance_to_airport Pool Free parking  Spa Restaurant  Gym Kitchen  \\\n",
       "0                 20.0  yes          yes  yes        yes  yes      no   \n",
       "1                 22.0  yes          yes  yes        yes  yes      no   \n",
       "2                 21.0  yes          yes  yes        yes  yes      no   \n",
       "3                 21.0  yes          yes  yes        yes  yes      no   \n",
       "4                 20.0  yes          yes  yes        yes  yes      no   \n",
       "\n",
       "  Internet access  check_in_month  check_in_year  check_in_day  \\\n",
       "0              no              12           2021             2   \n",
       "1              no              12           2021             2   \n",
       "2              no              12           2021             2   \n",
       "3              no              12           2021             2   \n",
       "4              no              12           2021             2   \n",
       "\n",
       "   check_out_year  check_out_month  check_out_day  \n",
       "0            2021                2             14  \n",
       "1            2021                2             14  \n",
       "2            2021                2             14  \n",
       "3            2021                2             14  \n",
       "4            2021                2             14  "
      ]
     },
     "execution_count": 16,
     "metadata": {},
     "output_type": "execute_result"
    }
   ],
   "source": [
    "df.head()"
   ]
  },
  {
   "cell_type": "code",
   "execution_count": 17,
   "id": "29ad0c09-78ad-4e62-9be8-0048a81d6f5b",
   "metadata": {
    "tags": []
   },
   "outputs": [
    {
     "data": {
      "text/plain": [
       "price                           0\n",
       "city                            0\n",
       "Check_in_date                   0\n",
       "Check_out_date                  0\n",
       "distance_to_city_centre(km)    23\n",
       "distance_to_airport            23\n",
       "Pool                            0\n",
       "Free parking                    0\n",
       "Spa                             0\n",
       "Restaurant                      0\n",
       "Gym                             0\n",
       "Kitchen                         0\n",
       "Internet access                 0\n",
       "check_in_month                  0\n",
       "check_in_year                   0\n",
       "check_in_day                    0\n",
       "check_out_year                  0\n",
       "check_out_month                 0\n",
       "check_out_day                   0\n",
       "dtype: int64"
      ]
     },
     "execution_count": 17,
     "metadata": {},
     "output_type": "execute_result"
    }
   ],
   "source": [
    "df.isnull().sum()"
   ]
  },
  {
   "cell_type": "code",
   "execution_count": 18,
   "id": "8e47aac7-d66c-47ac-99b6-de061563ba1b",
   "metadata": {
    "tags": []
   },
   "outputs": [],
   "source": [
    "df.dropna(inplace=True)"
   ]
  },
  {
   "cell_type": "code",
   "execution_count": 19,
   "id": "1b5c2d66-cd54-4414-ae83-99e04276f833",
   "metadata": {
    "tags": []
   },
   "outputs": [
    {
     "data": {
      "text/plain": [
       "price                          0\n",
       "city                           0\n",
       "Check_in_date                  0\n",
       "Check_out_date                 0\n",
       "distance_to_city_centre(km)    0\n",
       "distance_to_airport            0\n",
       "Pool                           0\n",
       "Free parking                   0\n",
       "Spa                            0\n",
       "Restaurant                     0\n",
       "Gym                            0\n",
       "Kitchen                        0\n",
       "Internet access                0\n",
       "check_in_month                 0\n",
       "check_in_year                  0\n",
       "check_in_day                   0\n",
       "check_out_year                 0\n",
       "check_out_month                0\n",
       "check_out_day                  0\n",
       "dtype: int64"
      ]
     },
     "execution_count": 19,
     "metadata": {},
     "output_type": "execute_result"
    }
   ],
   "source": [
    "df.isnull().sum()"
   ]
  },
  {
   "cell_type": "code",
   "execution_count": 20,
   "id": "5c63128d-2764-4735-96cd-de749feb5662",
   "metadata": {
    "tags": []
   },
   "outputs": [
    {
     "data": {
      "text/html": [
       "<div>\n",
       "<style scoped>\n",
       "    .dataframe tbody tr th:only-of-type {\n",
       "        vertical-align: middle;\n",
       "    }\n",
       "\n",
       "    .dataframe tbody tr th {\n",
       "        vertical-align: top;\n",
       "    }\n",
       "\n",
       "    .dataframe thead th {\n",
       "        text-align: right;\n",
       "    }\n",
       "</style>\n",
       "<table border=\"1\" class=\"dataframe\">\n",
       "  <thead>\n",
       "    <tr style=\"text-align: right;\">\n",
       "      <th></th>\n",
       "      <th>price</th>\n",
       "      <th>Check_in_date</th>\n",
       "      <th>Check_out_date</th>\n",
       "      <th>distance_to_city_centre(km)</th>\n",
       "      <th>distance_to_airport</th>\n",
       "      <th>check_in_month</th>\n",
       "      <th>check_in_year</th>\n",
       "      <th>check_in_day</th>\n",
       "      <th>check_out_year</th>\n",
       "      <th>check_out_month</th>\n",
       "      <th>check_out_day</th>\n",
       "    </tr>\n",
       "  </thead>\n",
       "  <tbody>\n",
       "    <tr>\n",
       "      <th>0</th>\n",
       "      <td>5040</td>\n",
       "      <td>2021-12-02</td>\n",
       "      <td>2021-02-14</td>\n",
       "      <td>4.0</td>\n",
       "      <td>20.0</td>\n",
       "      <td>12</td>\n",
       "      <td>2021</td>\n",
       "      <td>2</td>\n",
       "      <td>2021</td>\n",
       "      <td>2</td>\n",
       "      <td>14</td>\n",
       "    </tr>\n",
       "    <tr>\n",
       "      <th>1</th>\n",
       "      <td>7800</td>\n",
       "      <td>2021-12-02</td>\n",
       "      <td>2021-02-14</td>\n",
       "      <td>9.9</td>\n",
       "      <td>22.0</td>\n",
       "      <td>12</td>\n",
       "      <td>2021</td>\n",
       "      <td>2</td>\n",
       "      <td>2021</td>\n",
       "      <td>2</td>\n",
       "      <td>14</td>\n",
       "    </tr>\n",
       "    <tr>\n",
       "      <th>2</th>\n",
       "      <td>6700</td>\n",
       "      <td>2021-12-02</td>\n",
       "      <td>2021-02-14</td>\n",
       "      <td>4.7</td>\n",
       "      <td>21.0</td>\n",
       "      <td>12</td>\n",
       "      <td>2021</td>\n",
       "      <td>2</td>\n",
       "      <td>2021</td>\n",
       "      <td>2</td>\n",
       "      <td>14</td>\n",
       "    </tr>\n",
       "    <tr>\n",
       "      <th>3</th>\n",
       "      <td>6700</td>\n",
       "      <td>2021-12-02</td>\n",
       "      <td>2021-02-14</td>\n",
       "      <td>4.7</td>\n",
       "      <td>21.0</td>\n",
       "      <td>12</td>\n",
       "      <td>2021</td>\n",
       "      <td>2</td>\n",
       "      <td>2021</td>\n",
       "      <td>2</td>\n",
       "      <td>14</td>\n",
       "    </tr>\n",
       "    <tr>\n",
       "      <th>4</th>\n",
       "      <td>6375</td>\n",
       "      <td>2021-12-02</td>\n",
       "      <td>2021-02-14</td>\n",
       "      <td>4.5</td>\n",
       "      <td>20.0</td>\n",
       "      <td>12</td>\n",
       "      <td>2021</td>\n",
       "      <td>2</td>\n",
       "      <td>2021</td>\n",
       "      <td>2</td>\n",
       "      <td>14</td>\n",
       "    </tr>\n",
       "  </tbody>\n",
       "</table>\n",
       "</div>"
      ],
      "text/plain": [
       "   price Check_in_date Check_out_date  distance_to_city_centre(km)  \\\n",
       "0   5040    2021-12-02     2021-02-14                          4.0   \n",
       "1   7800    2021-12-02     2021-02-14                          9.9   \n",
       "2   6700    2021-12-02     2021-02-14                          4.7   \n",
       "3   6700    2021-12-02     2021-02-14                          4.7   \n",
       "4   6375    2021-12-02     2021-02-14                          4.5   \n",
       "\n",
       "   distance_to_airport  check_in_month  check_in_year  check_in_day  \\\n",
       "0                 20.0              12           2021             2   \n",
       "1                 22.0              12           2021             2   \n",
       "2                 21.0              12           2021             2   \n",
       "3                 21.0              12           2021             2   \n",
       "4                 20.0              12           2021             2   \n",
       "\n",
       "   check_out_year  check_out_month  check_out_day  \n",
       "0            2021                2             14  \n",
       "1            2021                2             14  \n",
       "2            2021                2             14  \n",
       "3            2021                2             14  \n",
       "4            2021                2             14  "
      ]
     },
     "execution_count": 20,
     "metadata": {},
     "output_type": "execute_result"
    }
   ],
   "source": [
    "num_col=[]\n",
    "for col in df.columns:\n",
    "    if(df[col].dtypes!=\"object\"):\n",
    "          num_col.append(col)\n",
    "\n",
    "df_num=df[num_col]      \n",
    "df_num.head()\n"
   ]
  },
  {
   "cell_type": "code",
   "execution_count": 21,
   "id": "c056ae1e-275a-4bc7-b0d0-b7ee205496df",
   "metadata": {
    "tags": []
   },
   "outputs": [
    {
     "data": {
      "text/html": [
       "<div>\n",
       "<style scoped>\n",
       "    .dataframe tbody tr th:only-of-type {\n",
       "        vertical-align: middle;\n",
       "    }\n",
       "\n",
       "    .dataframe tbody tr th {\n",
       "        vertical-align: top;\n",
       "    }\n",
       "\n",
       "    .dataframe thead th {\n",
       "        text-align: right;\n",
       "    }\n",
       "</style>\n",
       "<table border=\"1\" class=\"dataframe\">\n",
       "  <thead>\n",
       "    <tr style=\"text-align: right;\">\n",
       "      <th></th>\n",
       "      <th>city</th>\n",
       "      <th>Pool</th>\n",
       "      <th>Free parking</th>\n",
       "      <th>Spa</th>\n",
       "      <th>Restaurant</th>\n",
       "      <th>Gym</th>\n",
       "      <th>Kitchen</th>\n",
       "      <th>Internet access</th>\n",
       "    </tr>\n",
       "  </thead>\n",
       "  <tbody>\n",
       "    <tr>\n",
       "      <th>0</th>\n",
       "      <td>Hyderabad</td>\n",
       "      <td>yes</td>\n",
       "      <td>yes</td>\n",
       "      <td>yes</td>\n",
       "      <td>yes</td>\n",
       "      <td>yes</td>\n",
       "      <td>no</td>\n",
       "      <td>no</td>\n",
       "    </tr>\n",
       "    <tr>\n",
       "      <th>1</th>\n",
       "      <td>Hyderabad</td>\n",
       "      <td>yes</td>\n",
       "      <td>yes</td>\n",
       "      <td>yes</td>\n",
       "      <td>yes</td>\n",
       "      <td>yes</td>\n",
       "      <td>no</td>\n",
       "      <td>no</td>\n",
       "    </tr>\n",
       "    <tr>\n",
       "      <th>2</th>\n",
       "      <td>Hyderabad</td>\n",
       "      <td>yes</td>\n",
       "      <td>yes</td>\n",
       "      <td>yes</td>\n",
       "      <td>yes</td>\n",
       "      <td>yes</td>\n",
       "      <td>no</td>\n",
       "      <td>no</td>\n",
       "    </tr>\n",
       "    <tr>\n",
       "      <th>3</th>\n",
       "      <td>Hyderabad</td>\n",
       "      <td>yes</td>\n",
       "      <td>yes</td>\n",
       "      <td>yes</td>\n",
       "      <td>yes</td>\n",
       "      <td>yes</td>\n",
       "      <td>no</td>\n",
       "      <td>no</td>\n",
       "    </tr>\n",
       "    <tr>\n",
       "      <th>4</th>\n",
       "      <td>Hyderabad</td>\n",
       "      <td>yes</td>\n",
       "      <td>yes</td>\n",
       "      <td>yes</td>\n",
       "      <td>yes</td>\n",
       "      <td>yes</td>\n",
       "      <td>no</td>\n",
       "      <td>no</td>\n",
       "    </tr>\n",
       "  </tbody>\n",
       "</table>\n",
       "</div>"
      ],
      "text/plain": [
       "        city Pool Free parking  Spa Restaurant  Gym Kitchen Internet access\n",
       "0  Hyderabad  yes          yes  yes        yes  yes      no              no\n",
       "1  Hyderabad  yes          yes  yes        yes  yes      no              no\n",
       "2  Hyderabad  yes          yes  yes        yes  yes      no              no\n",
       "3  Hyderabad  yes          yes  yes        yes  yes      no              no\n",
       "4  Hyderabad  yes          yes  yes        yes  yes      no              no"
      ]
     },
     "execution_count": 21,
     "metadata": {},
     "output_type": "execute_result"
    }
   ],
   "source": [
    "cat_col=[]\n",
    "\n",
    "for col in df.columns:\n",
    "    if(df[col].dtypes==\"object\"):\n",
    "          cat_col.append(col)\n",
    "\n",
    "df_cat=df[cat_col]\n",
    "df_cat.head()\n"
   ]
  },
  {
   "cell_type": "code",
   "execution_count": 22,
   "id": "6bd2efd5-1570-4db0-8448-08e76040204e",
   "metadata": {
    "tags": []
   },
   "outputs": [
    {
     "data": {
      "text/plain": [
       "<Axes: xlabel='distance_to_city_centre(km)'>"
      ]
     },
     "execution_count": 22,
     "metadata": {},
     "output_type": "execute_result"
    },
    {
     "data": {
      "image/png": "[encoded data removed]",
      "text/plain": [
       "<Figure size 640x480 with 1 Axes>"
      ]
     },
     "metadata": {},
     "output_type": "display_data"
    }
   ],
   "source": [
    "sns.boxplot(df,x='distance_to_city_centre(km)')"
   ]
  },
  {
   "cell_type": "code",
   "execution_count": 23,
   "id": "f44b68f6-071e-4864-b65d-9b4bc556d33d",
   "metadata": {
    "tags": []
   },
   "outputs": [
    {
     "data": {
      "text/plain": [
       "<Axes: >"
      ]
     },
     "execution_count": 23,
     "metadata": {},
     "output_type": "execute_result"
    },
    {
     "data": {
      "image/png": "[encoded data removed]",
      "text/plain": [
       "<Figure size 640x480 with 1 Axes>"
      ]
     },
     "metadata": {},
     "output_type": "display_data"
    }
   ],
   "source": [
    "sns.boxplot(df_num[\"distance_to_airport\"])"
   ]
  },
  {
   "cell_type": "code",
   "execution_count": 24,
   "id": "01fed52e-7628-4b33-b23f-7c7535e99e41",
   "metadata": {
    "tags": []
   },
   "outputs": [
    {
     "data": {
      "text/plain": [
       "<Axes: >"
      ]
     },
     "execution_count": 24,
     "metadata": {},
     "output_type": "execute_result"
    },
    {
     "data": {
      "image/png": "[encoded data removed]",
      "text/plain": [
       "<Figure size 640x480 with 1 Axes>"
      ]
     },
     "metadata": {},
     "output_type": "display_data"
    }
   ],
   "source": [
    "sns.boxplot(df_num[\"price\"])"
   ]
  },
  {
   "cell_type": "code",
   "execution_count": 25,
   "id": "07e8c367-17d2-40ab-8d9f-88a76e9a0f39",
   "metadata": {
    "tags": []
   },
   "outputs": [
    {
     "name": "stderr",
     "output_type": "stream",
     "text": [
      "C:\\Users\\bagwe\\anaconda3\\Lib\\site-packages\\seaborn\\axisgrid.py:118: UserWarning: The figure layout has changed to tight\n",
      "  self._figure.tight_layout(*args, **kwargs)\n"
     ]
    },
    {
     "data": {
      "text/plain": [
       "<seaborn.axisgrid.PairGrid at 0x22660958ed0>"
      ]
     },
     "execution_count": 25,
     "metadata": {},
     "output_type": "execute_result"
    },
    {
     "data": {
      "image/png": "[encoded data removed]",
      "text/plain": [
       "<Figure size 2103.25x2000 with 72 Axes>"
      ]
     },
     "metadata": {},
     "output_type": "display_data"
    }
   ],
   "source": [
    "sns.pairplot(df,hue='price')"
   ]
  },
  {
   "cell_type": "code",
   "execution_count": 26,
   "id": "e34413e7-5f71-4afd-9894-72b9044be774",
   "metadata": {
    "tags": []
   },
   "outputs": [],
   "source": [
    "col_list=['Pool','Free parking','Spa','Restaurant','Internet access','Kitchen','Gym']"
   ]
  },
  {
   "cell_type": "code",
   "execution_count": 27,
   "id": "854b9f4b-64a5-4e7b-8227-436fa169b32e",
   "metadata": {
    "tags": []
   },
   "outputs": [
    {
     "data": {
      "image/png": "[encoded data removed]",
      "text/plain": [
       "<Figure size 1200x1600 with 7 Axes>"
      ]
     },
     "metadata": {},
     "output_type": "display_data"
    }
   ],
   "source": [
    "plt.figure(figsize=(12,16))\n",
    "i=1\n",
    "\n",
    "for col in col_list:\n",
    "    plt.subplot(4,3,i)\n",
    "    sns.countplot(df,x=col)\n",
    "    i += 1"
   ]
  },
  {
   "cell_type": "code",
   "execution_count": 37,
   "id": "562ab7d1-e341-4aba-89a9-4ce614133337",
   "metadata": {
    "tags": []
   },
   "outputs": [
    {
     "data": {
      "image/png": "[encoded data removed]",
      "text/plain": [
       "<Figure size 1200x1600 with 7 Axes>"
      ]
     },
     "metadata": {},
     "output_type": "display_data"
    }
   ],
   "source": [
    "plt.figure(figsize=(12,16))\n",
    "i=1\n",
    "\n",
    "for col in col_list:\n",
    "    plt.subplot(4,3,i)\n",
    "    df[col].value_counts().plot(kind='pie',autopct=\"%.2f\")\n",
    "    i += 1"
   ]
  },
  {
   "cell_type": "code",
   "execution_count": 38,
   "id": "7b01cfc7-b2a0-4171-99bb-03c630e73adf",
   "metadata": {
    "tags": []
   },
   "outputs": [
    {
     "data": {
      "text/plain": [
       "<Axes: xlabel='price', ylabel='distance_to_city_centre(km)'>"
      ]
     },
     "execution_count": 38,
     "metadata": {},
     "output_type": "execute_result"
    },
    {
     "data": {
      "image/png": "[encoded data removed]",
      "text/plain": [
       "<Figure size 640x480 with 1 Axes>"
      ]
     },
     "metadata": {},
     "output_type": "display_data"
    }
   ],
   "source": [
    "sns.lineplot(df,x='price',y='distance_to_city_centre(km)')"
   ]
  },
  {
   "cell_type": "markdown",
   "id": "82c763c6-941f-4a27-9025-987d680f3628",
   "metadata": {},
   "source": [
    "##### Outlier removal."
   ]
  },
  {
   "cell_type": "code",
   "execution_count": 39,
   "id": "660b7367-8360-45fe-b7cb-0f412b5f3b45",
   "metadata": {
    "tags": []
   },
   "outputs": [],
   "source": [
    "percentile25 = df['distance_to_city_centre(km)'].quantile(0.25)\n",
    "percentile75 = df['distance_to_city_centre(km)'].quantile(0.75)"
   ]
  },
  {
   "cell_type": "code",
   "execution_count": 40,
   "id": "8c5b1f6f-e370-4c5c-b9cb-07a7f9b824b3",
   "metadata": {
    "tags": []
   },
   "outputs": [
    {
     "data": {
      "text/plain": [
       "(4.7, 15.0)"
      ]
     },
     "execution_count": 40,
     "metadata": {},
     "output_type": "execute_result"
    }
   ],
   "source": [
    "percentile25,percentile75"
   ]
  },
  {
   "cell_type": "code",
   "execution_count": 41,
   "id": "7ca8a05a-fdf2-4ddc-8095-3a0c6d922f17",
   "metadata": {
    "tags": []
   },
   "outputs": [
    {
     "data": {
      "text/plain": [
       "10.3"
      ]
     },
     "execution_count": 41,
     "metadata": {},
     "output_type": "execute_result"
    }
   ],
   "source": [
    "iqr=percentile75-percentile25\n",
    "iqr"
   ]
  },
  {
   "cell_type": "code",
   "execution_count": 42,
   "id": "fc4ef932-818a-4d17-95f3-5cb5786e91d6",
   "metadata": {
    "tags": []
   },
   "outputs": [],
   "source": [
    "upper_limit = percentile75 + 1.5 * iqr\n",
    "lower_limit = percentile25 - 1.5 * iqr"
   ]
  },
  {
   "cell_type": "code",
   "execution_count": 43,
   "id": "86c0e3d9-27ef-4464-938a-06dba0982842",
   "metadata": {
    "tags": []
   },
   "outputs": [
    {
     "name": "stdout",
     "output_type": "stream",
     "text": [
      "Upper limit 30.450000000000003\n",
      "Lower limit -10.75\n"
     ]
    }
   ],
   "source": [
    "print(\"Upper limit\",upper_limit)\n",
    "print(\"Lower limit\",lower_limit)"
   ]
  },
  {
   "cell_type": "code",
   "execution_count": 44,
   "id": "d6e4296b-fa03-4db0-a1b1-6a0ef57c0f37",
   "metadata": {
    "tags": []
   },
   "outputs": [
    {
     "data": {
      "text/html": [
       "<div>\n",
       "<style scoped>\n",
       "    .dataframe tbody tr th:only-of-type {\n",
       "        vertical-align: middle;\n",
       "    }\n",
       "\n",
       "    .dataframe tbody tr th {\n",
       "        vertical-align: top;\n",
       "    }\n",
       "\n",
       "    .dataframe thead th {\n",
       "        text-align: right;\n",
       "    }\n",
       "</style>\n",
       "<table border=\"1\" class=\"dataframe\">\n",
       "  <thead>\n",
       "    <tr style=\"text-align: right;\">\n",
       "      <th></th>\n",
       "      <th>price</th>\n",
       "      <th>city</th>\n",
       "      <th>Check_in_date</th>\n",
       "      <th>Check_out_date</th>\n",
       "      <th>distance_to_city_centre(km)</th>\n",
       "      <th>distance_to_airport</th>\n",
       "      <th>Pool</th>\n",
       "      <th>Free parking</th>\n",
       "      <th>Spa</th>\n",
       "      <th>Restaurant</th>\n",
       "      <th>Gym</th>\n",
       "      <th>Kitchen</th>\n",
       "      <th>Internet access</th>\n",
       "      <th>check_in_month</th>\n",
       "      <th>check_in_year</th>\n",
       "      <th>check_in_day</th>\n",
       "      <th>check_out_year</th>\n",
       "      <th>check_out_month</th>\n",
       "      <th>check_out_day</th>\n",
       "    </tr>\n",
       "  </thead>\n",
       "  <tbody>\n",
       "  </tbody>\n",
       "</table>\n",
       "</div>"
      ],
      "text/plain": [
       "Empty DataFrame\n",
       "Columns: [price, city, Check_in_date, Check_out_date, distance_to_city_centre(km), distance_to_airport, Pool, Free parking, Spa, Restaurant, Gym, Kitchen, Internet access, check_in_month, check_in_year, check_in_day, check_out_year, check_out_month, check_out_day]\n",
       "Index: []"
      ]
     },
     "execution_count": 44,
     "metadata": {},
     "output_type": "execute_result"
    }
   ],
   "source": [
    "df[df['distance_to_city_centre(km)'] > upper_limit]"
   ]
  },
  {
   "cell_type": "code",
   "execution_count": 45,
   "id": "19ede66e-da5f-4b15-95b2-e894744db565",
   "metadata": {
    "tags": []
   },
   "outputs": [],
   "source": [
    "df['distance_to_city_centre(km)'] = np.where(\n",
    "    df['distance_to_city_centre(km)'] > upper_limit,\n",
    "    upper_limit,\n",
    "    np.where(\n",
    "        df['distance_to_city_centre(km)'] < lower_limit,\n",
    "        lower_limit,\n",
    "        df['distance_to_city_centre(km)']\n",
    "    )\n",
    ")"
   ]
  },
  {
   "cell_type": "code",
   "execution_count": 46,
   "id": "b07aebc2-25c1-4b70-8442-d58978cbd82f",
   "metadata": {
    "tags": []
   },
   "outputs": [
    {
     "data": {
      "text/plain": [
       "<Axes: xlabel='distance_to_city_centre(km)'>"
      ]
     },
     "execution_count": 46,
     "metadata": {},
     "output_type": "execute_result"
    },
    {
     "data": {
      "image/png": "[encoded data removed]",
      "text/plain": [
       "<Figure size 640x480 with 1 Axes>"
      ]
     },
     "metadata": {},
     "output_type": "display_data"
    }
   ],
   "source": [
    "sns.boxplot(df,x='distance_to_city_centre(km)')"
   ]
  },
  {
   "cell_type": "code",
   "execution_count": 47,
   "id": "f326fac0-f121-4178-bb80-d9b1c516b224",
   "metadata": {
    "tags": []
   },
   "outputs": [],
   "source": [
    "percentile25 = df['distance_to_airport'].quantile(0.25)\n",
    "percentile75 = df['distance_to_airport'].quantile(0.75)"
   ]
  },
  {
   "cell_type": "code",
   "execution_count": 48,
   "id": "ff1f682a-2925-44d5-8d73-3a135014b924",
   "metadata": {
    "tags": []
   },
   "outputs": [
    {
     "data": {
      "text/plain": [
       "(4.1, 21.0)"
      ]
     },
     "execution_count": 48,
     "metadata": {},
     "output_type": "execute_result"
    }
   ],
   "source": [
    "percentile25,percentile75"
   ]
  },
  {
   "cell_type": "code",
   "execution_count": 49,
   "id": "a02d9f40-b50b-4945-8100-88a1cff27684",
   "metadata": {
    "tags": []
   },
   "outputs": [
    {
     "data": {
      "text/plain": [
       "16.9"
      ]
     },
     "execution_count": 49,
     "metadata": {},
     "output_type": "execute_result"
    }
   ],
   "source": [
    "iqr=percentile75-percentile25\n",
    "iqr"
   ]
  },
  {
   "cell_type": "code",
   "execution_count": 50,
   "id": "794552f9-47c5-4f9a-a0b8-ce00b02a6e74",
   "metadata": {
    "tags": []
   },
   "outputs": [],
   "source": [
    "upper_limit = percentile75 + 1.5 * iqr\n",
    "lower_limit = percentile25 - 1.5 * iqr"
   ]
  },
  {
   "cell_type": "code",
   "execution_count": 51,
   "id": "9e7f96a8-62b5-49ac-9f17-53a3388ba4fa",
   "metadata": {
    "tags": []
   },
   "outputs": [
    {
     "name": "stdout",
     "output_type": "stream",
     "text": [
      "Upper limit 46.349999999999994\n",
      "Lower limit -21.25\n"
     ]
    }
   ],
   "source": [
    "print(\"Upper limit\",upper_limit)\n",
    "print(\"Lower limit\",lower_limit)"
   ]
  },
  {
   "cell_type": "code",
   "execution_count": 52,
   "id": "0468158a-80a1-4357-a425-bd3f9a3a26ec",
   "metadata": {
    "tags": []
   },
   "outputs": [
    {
     "data": {
      "text/html": [
       "<div>\n",
       "<style scoped>\n",
       "    .dataframe tbody tr th:only-of-type {\n",
       "        vertical-align: middle;\n",
       "    }\n",
       "\n",
       "    .dataframe tbody tr th {\n",
       "        vertical-align: top;\n",
       "    }\n",
       "\n",
       "    .dataframe thead th {\n",
       "        text-align: right;\n",
       "    }\n",
       "</style>\n",
       "<table border=\"1\" class=\"dataframe\">\n",
       "  <thead>\n",
       "    <tr style=\"text-align: right;\">\n",
       "      <th></th>\n",
       "      <th>price</th>\n",
       "      <th>city</th>\n",
       "      <th>Check_in_date</th>\n",
       "      <th>Check_out_date</th>\n",
       "      <th>distance_to_city_centre(km)</th>\n",
       "      <th>distance_to_airport</th>\n",
       "      <th>Pool</th>\n",
       "      <th>Free parking</th>\n",
       "      <th>Spa</th>\n",
       "      <th>Restaurant</th>\n",
       "      <th>Gym</th>\n",
       "      <th>Kitchen</th>\n",
       "      <th>Internet access</th>\n",
       "      <th>check_in_month</th>\n",
       "      <th>check_in_year</th>\n",
       "      <th>check_in_day</th>\n",
       "      <th>check_out_year</th>\n",
       "      <th>check_out_month</th>\n",
       "      <th>check_out_day</th>\n",
       "    </tr>\n",
       "  </thead>\n",
       "  <tbody>\n",
       "    <tr>\n",
       "      <th>722</th>\n",
       "      <td>3600</td>\n",
       "      <td>Pune</td>\n",
       "      <td>2021-12-02</td>\n",
       "      <td>2021-02-14</td>\n",
       "      <td>30.45</td>\n",
       "      <td>60.0</td>\n",
       "      <td>no</td>\n",
       "      <td>yes</td>\n",
       "      <td>no</td>\n",
       "      <td>no</td>\n",
       "      <td>no</td>\n",
       "      <td>no</td>\n",
       "      <td>no</td>\n",
       "      <td>12</td>\n",
       "      <td>2021</td>\n",
       "      <td>2</td>\n",
       "      <td>2021</td>\n",
       "      <td>2</td>\n",
       "      <td>14</td>\n",
       "    </tr>\n",
       "    <tr>\n",
       "      <th>723</th>\n",
       "      <td>3600</td>\n",
       "      <td>Pune</td>\n",
       "      <td>2021-12-02</td>\n",
       "      <td>2021-02-14</td>\n",
       "      <td>30.45</td>\n",
       "      <td>60.0</td>\n",
       "      <td>no</td>\n",
       "      <td>yes</td>\n",
       "      <td>no</td>\n",
       "      <td>no</td>\n",
       "      <td>no</td>\n",
       "      <td>no</td>\n",
       "      <td>no</td>\n",
       "      <td>12</td>\n",
       "      <td>2021</td>\n",
       "      <td>2</td>\n",
       "      <td>2021</td>\n",
       "      <td>2</td>\n",
       "      <td>14</td>\n",
       "    </tr>\n",
       "    <tr>\n",
       "      <th>728</th>\n",
       "      <td>5000</td>\n",
       "      <td>Pune</td>\n",
       "      <td>2021-12-02</td>\n",
       "      <td>2021-02-14</td>\n",
       "      <td>30.45</td>\n",
       "      <td>56.0</td>\n",
       "      <td>yes</td>\n",
       "      <td>yes</td>\n",
       "      <td>no</td>\n",
       "      <td>yes</td>\n",
       "      <td>no</td>\n",
       "      <td>no</td>\n",
       "      <td>no</td>\n",
       "      <td>12</td>\n",
       "      <td>2021</td>\n",
       "      <td>2</td>\n",
       "      <td>2021</td>\n",
       "      <td>2</td>\n",
       "      <td>14</td>\n",
       "    </tr>\n",
       "    <tr>\n",
       "      <th>731</th>\n",
       "      <td>5000</td>\n",
       "      <td>Pune</td>\n",
       "      <td>2021-12-02</td>\n",
       "      <td>2021-02-14</td>\n",
       "      <td>30.45</td>\n",
       "      <td>59.0</td>\n",
       "      <td>yes</td>\n",
       "      <td>yes</td>\n",
       "      <td>no</td>\n",
       "      <td>yes</td>\n",
       "      <td>no</td>\n",
       "      <td>no</td>\n",
       "      <td>no</td>\n",
       "      <td>12</td>\n",
       "      <td>2021</td>\n",
       "      <td>2</td>\n",
       "      <td>2021</td>\n",
       "      <td>2</td>\n",
       "      <td>14</td>\n",
       "    </tr>\n",
       "    <tr>\n",
       "      <th>734</th>\n",
       "      <td>4500</td>\n",
       "      <td>Pune</td>\n",
       "      <td>2021-12-02</td>\n",
       "      <td>2021-02-14</td>\n",
       "      <td>30.45</td>\n",
       "      <td>57.0</td>\n",
       "      <td>no</td>\n",
       "      <td>yes</td>\n",
       "      <td>no</td>\n",
       "      <td>no</td>\n",
       "      <td>no</td>\n",
       "      <td>no</td>\n",
       "      <td>no</td>\n",
       "      <td>12</td>\n",
       "      <td>2021</td>\n",
       "      <td>2</td>\n",
       "      <td>2021</td>\n",
       "      <td>2</td>\n",
       "      <td>14</td>\n",
       "    </tr>\n",
       "    <tr>\n",
       "      <th>...</th>\n",
       "      <td>...</td>\n",
       "      <td>...</td>\n",
       "      <td>...</td>\n",
       "      <td>...</td>\n",
       "      <td>...</td>\n",
       "      <td>...</td>\n",
       "      <td>...</td>\n",
       "      <td>...</td>\n",
       "      <td>...</td>\n",
       "      <td>...</td>\n",
       "      <td>...</td>\n",
       "      <td>...</td>\n",
       "      <td>...</td>\n",
       "      <td>...</td>\n",
       "      <td>...</td>\n",
       "      <td>...</td>\n",
       "      <td>...</td>\n",
       "      <td>...</td>\n",
       "      <td>...</td>\n",
       "    </tr>\n",
       "    <tr>\n",
       "      <th>4553</th>\n",
       "      <td>14995</td>\n",
       "      <td>Jaipur</td>\n",
       "      <td>2021-12-02</td>\n",
       "      <td>2021-02-20</td>\n",
       "      <td>30.45</td>\n",
       "      <td>77.0</td>\n",
       "      <td>yes</td>\n",
       "      <td>yes</td>\n",
       "      <td>no</td>\n",
       "      <td>yes</td>\n",
       "      <td>no</td>\n",
       "      <td>no</td>\n",
       "      <td>no</td>\n",
       "      <td>12</td>\n",
       "      <td>2021</td>\n",
       "      <td>2</td>\n",
       "      <td>2021</td>\n",
       "      <td>2</td>\n",
       "      <td>20</td>\n",
       "    </tr>\n",
       "    <tr>\n",
       "      <th>5150</th>\n",
       "      <td>6944</td>\n",
       "      <td>Ahmedabad</td>\n",
       "      <td>2021-12-02</td>\n",
       "      <td>2021-02-17</td>\n",
       "      <td>30.45</td>\n",
       "      <td>65.0</td>\n",
       "      <td>no</td>\n",
       "      <td>yes</td>\n",
       "      <td>no</td>\n",
       "      <td>yes</td>\n",
       "      <td>no</td>\n",
       "      <td>no</td>\n",
       "      <td>no</td>\n",
       "      <td>12</td>\n",
       "      <td>2021</td>\n",
       "      <td>2</td>\n",
       "      <td>2021</td>\n",
       "      <td>2</td>\n",
       "      <td>17</td>\n",
       "    </tr>\n",
       "    <tr>\n",
       "      <th>5232</th>\n",
       "      <td>12000</td>\n",
       "      <td>Ahmedabad</td>\n",
       "      <td>2021-12-02</td>\n",
       "      <td>2021-02-18</td>\n",
       "      <td>30.45</td>\n",
       "      <td>65.0</td>\n",
       "      <td>no</td>\n",
       "      <td>yes</td>\n",
       "      <td>no</td>\n",
       "      <td>yes</td>\n",
       "      <td>no</td>\n",
       "      <td>no</td>\n",
       "      <td>no</td>\n",
       "      <td>12</td>\n",
       "      <td>2021</td>\n",
       "      <td>2</td>\n",
       "      <td>2021</td>\n",
       "      <td>2</td>\n",
       "      <td>18</td>\n",
       "    </tr>\n",
       "    <tr>\n",
       "      <th>5323</th>\n",
       "      <td>17360</td>\n",
       "      <td>Ahmedabad</td>\n",
       "      <td>2021-12-02</td>\n",
       "      <td>2021-02-20</td>\n",
       "      <td>30.45</td>\n",
       "      <td>65.0</td>\n",
       "      <td>no</td>\n",
       "      <td>yes</td>\n",
       "      <td>no</td>\n",
       "      <td>yes</td>\n",
       "      <td>no</td>\n",
       "      <td>no</td>\n",
       "      <td>no</td>\n",
       "      <td>12</td>\n",
       "      <td>2021</td>\n",
       "      <td>2</td>\n",
       "      <td>2021</td>\n",
       "      <td>2</td>\n",
       "      <td>20</td>\n",
       "    </tr>\n",
       "    <tr>\n",
       "      <th>5339</th>\n",
       "      <td>5396</td>\n",
       "      <td>Ahmedabad</td>\n",
       "      <td>2021-12-02</td>\n",
       "      <td>2021-02-20</td>\n",
       "      <td>30.45</td>\n",
       "      <td>77.0</td>\n",
       "      <td>no</td>\n",
       "      <td>yes</td>\n",
       "      <td>no</td>\n",
       "      <td>no</td>\n",
       "      <td>no</td>\n",
       "      <td>no</td>\n",
       "      <td>no</td>\n",
       "      <td>12</td>\n",
       "      <td>2021</td>\n",
       "      <td>2</td>\n",
       "      <td>2021</td>\n",
       "      <td>2</td>\n",
       "      <td>20</td>\n",
       "    </tr>\n",
       "  </tbody>\n",
       "</table>\n",
       "<p>136 rows × 19 columns</p>\n",
       "</div>"
      ],
      "text/plain": [
       "      price       city Check_in_date Check_out_date  \\\n",
       "722    3600       Pune    2021-12-02     2021-02-14   \n",
       "723    3600       Pune    2021-12-02     2021-02-14   \n",
       "728    5000       Pune    2021-12-02     2021-02-14   \n",
       "731    5000       Pune    2021-12-02     2021-02-14   \n",
       "734    4500       Pune    2021-12-02     2021-02-14   \n",
       "...     ...        ...           ...            ...   \n",
       "4553  14995     Jaipur    2021-12-02     2021-02-20   \n",
       "5150   6944  Ahmedabad    2021-12-02     2021-02-17   \n",
       "5232  12000  Ahmedabad    2021-12-02     2021-02-18   \n",
       "5323  17360  Ahmedabad    2021-12-02     2021-02-20   \n",
       "5339   5396  Ahmedabad    2021-12-02     2021-02-20   \n",
       "\n",
       "      distance_to_city_centre(km)  distance_to_airport Pool Free parking Spa  \\\n",
       "722                         30.45                 60.0   no          yes  no   \n",
       "723                         30.45                 60.0   no          yes  no   \n",
       "728                         30.45                 56.0  yes          yes  no   \n",
       "731                         30.45                 59.0  yes          yes  no   \n",
       "734                         30.45                 57.0   no          yes  no   \n",
       "...                           ...                  ...  ...          ...  ..   \n",
       "4553                        30.45                 77.0  yes          yes  no   \n",
       "5150                        30.45                 65.0   no          yes  no   \n",
       "5232                        30.45                 65.0   no          yes  no   \n",
       "5323                        30.45                 65.0   no          yes  no   \n",
       "5339                        30.45                 77.0   no          yes  no   \n",
       "\n",
       "     Restaurant Gym Kitchen Internet access  check_in_month  check_in_year  \\\n",
       "722          no  no      no              no              12           2021   \n",
       "723          no  no      no              no              12           2021   \n",
       "728         yes  no      no              no              12           2021   \n",
       "731         yes  no      no              no              12           2021   \n",
       "734          no  no      no              no              12           2021   \n",
       "...         ...  ..     ...             ...             ...            ...   \n",
       "4553        yes  no      no              no              12           2021   \n",
       "5150        yes  no      no              no              12           2021   \n",
       "5232        yes  no      no              no              12           2021   \n",
       "5323        yes  no      no              no              12           2021   \n",
       "5339         no  no      no              no              12           2021   \n",
       "\n",
       "      check_in_day  check_out_year  check_out_month  check_out_day  \n",
       "722              2            2021                2             14  \n",
       "723              2            2021                2             14  \n",
       "728              2            2021                2             14  \n",
       "731              2            2021                2             14  \n",
       "734              2            2021                2             14  \n",
       "...            ...             ...              ...            ...  \n",
       "4553             2            2021                2             20  \n",
       "5150             2            2021                2             17  \n",
       "5232             2            2021                2             18  \n",
       "5323             2            2021                2             20  \n",
       "5339             2            2021                2             20  \n",
       "\n",
       "[136 rows x 19 columns]"
      ]
     },
     "execution_count": 52,
     "metadata": {},
     "output_type": "execute_result"
    }
   ],
   "source": [
    "df[df['distance_to_airport'] > upper_limit]"
   ]
  },
  {
   "cell_type": "code",
   "execution_count": 53,
   "id": "c7d10009-e870-494e-bbc2-d650da325a3c",
   "metadata": {
    "tags": []
   },
   "outputs": [],
   "source": [
    "df['distance_to_airport'] = np.where(\n",
    "    df['distance_to_airport'] > upper_limit,\n",
    "    upper_limit,\n",
    "    np.where(\n",
    "        df['distance_to_airport'] < lower_limit,\n",
    "        lower_limit,\n",
    "        df['distance_to_airport']\n",
    "    )\n",
    ")"
   ]
  },
  {
   "cell_type": "code",
   "execution_count": 54,
   "id": "3ae3477e-73bf-4ec2-9f97-22ed880ad616",
   "metadata": {
    "tags": []
   },
   "outputs": [
    {
     "data": {
      "text/plain": [
       "<Axes: xlabel='distance_to_airport'>"
      ]
     },
     "execution_count": 54,
     "metadata": {},
     "output_type": "execute_result"
    },
    {
     "data": {
      "image/png": "[encoded data removed]",
      "text/plain": [
       "<Figure size 640x480 with 1 Axes>"
      ]
     },
     "metadata": {},
     "output_type": "display_data"
    }
   ],
   "source": [
    "sns.boxplot(df,x='distance_to_airport')"
   ]
  },
  {
   "cell_type": "code",
   "execution_count": 55,
   "id": "e98e237d-7e4d-44fd-891b-b0d9822d167c",
   "metadata": {
    "tags": []
   },
   "outputs": [],
   "source": [
    "percentile25 = df['price'].quantile(0.25)\n",
    "percentile75 = df['price'].quantile(0.75)"
   ]
  },
  {
   "cell_type": "code",
   "execution_count": 56,
   "id": "959bd6d7-27bd-4228-a655-c1957e11320d",
   "metadata": {
    "tags": []
   },
   "outputs": [
    {
     "data": {
      "text/plain": [
       "(5557.5, 16200.0)"
      ]
     },
     "execution_count": 56,
     "metadata": {},
     "output_type": "execute_result"
    }
   ],
   "source": [
    "percentile25,percentile75"
   ]
  },
  {
   "cell_type": "code",
   "execution_count": 57,
   "id": "7ce3f105-e23b-4c57-94d4-8f04517a0ebe",
   "metadata": {
    "tags": []
   },
   "outputs": [
    {
     "data": {
      "text/plain": [
       "10642.5"
      ]
     },
     "execution_count": 57,
     "metadata": {},
     "output_type": "execute_result"
    }
   ],
   "source": [
    "iqr=percentile75-percentile25\n",
    "iqr"
   ]
  },
  {
   "cell_type": "code",
   "execution_count": 58,
   "id": "974bd525-ee6b-424a-a574-eaac04a6b89f",
   "metadata": {
    "tags": []
   },
   "outputs": [],
   "source": [
    "upper_limit = percentile75 + 1.5 * iqr\n",
    "lower_limit = percentile25 - 1.5 * iqr"
   ]
  },
  {
   "cell_type": "code",
   "execution_count": 59,
   "id": "ded6a7b2-0a9d-49bb-94e5-0f30a9da5d75",
   "metadata": {
    "tags": []
   },
   "outputs": [
    {
     "name": "stdout",
     "output_type": "stream",
     "text": [
      "Upper limit 32163.75\n",
      "Lower limit -10406.25\n"
     ]
    }
   ],
   "source": [
    "print(\"Upper limit\",upper_limit)\n",
    "print(\"Lower limit\",lower_limit)"
   ]
  },
  {
   "cell_type": "code",
   "execution_count": 60,
   "id": "587c867f-fc2c-445b-98cc-4fcd6c0d1720",
   "metadata": {
    "tags": []
   },
   "outputs": [
    {
     "data": {
      "text/html": [
       "<div>\n",
       "<style scoped>\n",
       "    .dataframe tbody tr th:only-of-type {\n",
       "        vertical-align: middle;\n",
       "    }\n",
       "\n",
       "    .dataframe tbody tr th {\n",
       "        vertical-align: top;\n",
       "    }\n",
       "\n",
       "    .dataframe thead th {\n",
       "        text-align: right;\n",
       "    }\n",
       "</style>\n",
       "<table border=\"1\" class=\"dataframe\">\n",
       "  <thead>\n",
       "    <tr style=\"text-align: right;\">\n",
       "      <th></th>\n",
       "      <th>price</th>\n",
       "      <th>city</th>\n",
       "      <th>Check_in_date</th>\n",
       "      <th>Check_out_date</th>\n",
       "      <th>distance_to_city_centre(km)</th>\n",
       "      <th>distance_to_airport</th>\n",
       "      <th>Pool</th>\n",
       "      <th>Free parking</th>\n",
       "      <th>Spa</th>\n",
       "      <th>Restaurant</th>\n",
       "      <th>Gym</th>\n",
       "      <th>Kitchen</th>\n",
       "      <th>Internet access</th>\n",
       "      <th>check_in_month</th>\n",
       "      <th>check_in_year</th>\n",
       "      <th>check_in_day</th>\n",
       "      <th>check_out_year</th>\n",
       "      <th>check_out_month</th>\n",
       "      <th>check_out_day</th>\n",
       "    </tr>\n",
       "  </thead>\n",
       "  <tbody>\n",
       "    <tr>\n",
       "      <th>140</th>\n",
       "      <td>33300</td>\n",
       "      <td>Hyderabad</td>\n",
       "      <td>2021-12-02</td>\n",
       "      <td>2021-02-16</td>\n",
       "      <td>16.0</td>\n",
       "      <td>21.0</td>\n",
       "      <td>yes</td>\n",
       "      <td>yes</td>\n",
       "      <td>yes</td>\n",
       "      <td>yes</td>\n",
       "      <td>yes</td>\n",
       "      <td>no</td>\n",
       "      <td>no</td>\n",
       "      <td>12</td>\n",
       "      <td>2021</td>\n",
       "      <td>2</td>\n",
       "      <td>2021</td>\n",
       "      <td>2</td>\n",
       "      <td>16</td>\n",
       "    </tr>\n",
       "    <tr>\n",
       "      <th>141</th>\n",
       "      <td>33300</td>\n",
       "      <td>Hyderabad</td>\n",
       "      <td>2021-12-02</td>\n",
       "      <td>2021-02-16</td>\n",
       "      <td>16.0</td>\n",
       "      <td>21.0</td>\n",
       "      <td>yes</td>\n",
       "      <td>yes</td>\n",
       "      <td>yes</td>\n",
       "      <td>yes</td>\n",
       "      <td>yes</td>\n",
       "      <td>no</td>\n",
       "      <td>no</td>\n",
       "      <td>12</td>\n",
       "      <td>2021</td>\n",
       "      <td>2</td>\n",
       "      <td>2021</td>\n",
       "      <td>2</td>\n",
       "      <td>16</td>\n",
       "    </tr>\n",
       "    <tr>\n",
       "      <th>164</th>\n",
       "      <td>37755</td>\n",
       "      <td>Hyderabad</td>\n",
       "      <td>2021-12-02</td>\n",
       "      <td>2021-02-16</td>\n",
       "      <td>9.8</td>\n",
       "      <td>22.0</td>\n",
       "      <td>yes</td>\n",
       "      <td>yes</td>\n",
       "      <td>yes</td>\n",
       "      <td>yes</td>\n",
       "      <td>yes</td>\n",
       "      <td>yes</td>\n",
       "      <td>yes</td>\n",
       "      <td>12</td>\n",
       "      <td>2021</td>\n",
       "      <td>2</td>\n",
       "      <td>2021</td>\n",
       "      <td>2</td>\n",
       "      <td>16</td>\n",
       "    </tr>\n",
       "    <tr>\n",
       "      <th>222</th>\n",
       "      <td>39000</td>\n",
       "      <td>Hyderabad</td>\n",
       "      <td>2021-12-02</td>\n",
       "      <td>2021-02-18</td>\n",
       "      <td>3.5</td>\n",
       "      <td>19.0</td>\n",
       "      <td>yes</td>\n",
       "      <td>yes</td>\n",
       "      <td>yes</td>\n",
       "      <td>yes</td>\n",
       "      <td>yes</td>\n",
       "      <td>no</td>\n",
       "      <td>no</td>\n",
       "      <td>12</td>\n",
       "      <td>2021</td>\n",
       "      <td>2</td>\n",
       "      <td>2021</td>\n",
       "      <td>2</td>\n",
       "      <td>18</td>\n",
       "    </tr>\n",
       "    <tr>\n",
       "      <th>223</th>\n",
       "      <td>39000</td>\n",
       "      <td>Hyderabad</td>\n",
       "      <td>2021-12-02</td>\n",
       "      <td>2021-02-18</td>\n",
       "      <td>3.5</td>\n",
       "      <td>19.0</td>\n",
       "      <td>yes</td>\n",
       "      <td>yes</td>\n",
       "      <td>yes</td>\n",
       "      <td>yes</td>\n",
       "      <td>yes</td>\n",
       "      <td>no</td>\n",
       "      <td>no</td>\n",
       "      <td>12</td>\n",
       "      <td>2021</td>\n",
       "      <td>2</td>\n",
       "      <td>2021</td>\n",
       "      <td>2</td>\n",
       "      <td>18</td>\n",
       "    </tr>\n",
       "    <tr>\n",
       "      <th>...</th>\n",
       "      <td>...</td>\n",
       "      <td>...</td>\n",
       "      <td>...</td>\n",
       "      <td>...</td>\n",
       "      <td>...</td>\n",
       "      <td>...</td>\n",
       "      <td>...</td>\n",
       "      <td>...</td>\n",
       "      <td>...</td>\n",
       "      <td>...</td>\n",
       "      <td>...</td>\n",
       "      <td>...</td>\n",
       "      <td>...</td>\n",
       "      <td>...</td>\n",
       "      <td>...</td>\n",
       "      <td>...</td>\n",
       "      <td>...</td>\n",
       "      <td>...</td>\n",
       "      <td>...</td>\n",
       "    </tr>\n",
       "    <tr>\n",
       "      <th>5230</th>\n",
       "      <td>300000</td>\n",
       "      <td>Ahmedabad</td>\n",
       "      <td>2021-12-02</td>\n",
       "      <td>2021-02-18</td>\n",
       "      <td>4.4</td>\n",
       "      <td>11.0</td>\n",
       "      <td>yes</td>\n",
       "      <td>yes</td>\n",
       "      <td>yes</td>\n",
       "      <td>yes</td>\n",
       "      <td>yes</td>\n",
       "      <td>yes</td>\n",
       "      <td>yes</td>\n",
       "      <td>12</td>\n",
       "      <td>2021</td>\n",
       "      <td>2</td>\n",
       "      <td>2021</td>\n",
       "      <td>2</td>\n",
       "      <td>18</td>\n",
       "    </tr>\n",
       "    <tr>\n",
       "      <th>5231</th>\n",
       "      <td>300000</td>\n",
       "      <td>Ahmedabad</td>\n",
       "      <td>2021-12-02</td>\n",
       "      <td>2021-02-18</td>\n",
       "      <td>4.4</td>\n",
       "      <td>11.0</td>\n",
       "      <td>yes</td>\n",
       "      <td>yes</td>\n",
       "      <td>yes</td>\n",
       "      <td>yes</td>\n",
       "      <td>yes</td>\n",
       "      <td>yes</td>\n",
       "      <td>yes</td>\n",
       "      <td>12</td>\n",
       "      <td>2021</td>\n",
       "      <td>2</td>\n",
       "      <td>2021</td>\n",
       "      <td>2</td>\n",
       "      <td>18</td>\n",
       "    </tr>\n",
       "    <tr>\n",
       "      <th>5316</th>\n",
       "      <td>47194</td>\n",
       "      <td>Ahmedabad</td>\n",
       "      <td>2021-12-02</td>\n",
       "      <td>2021-02-20</td>\n",
       "      <td>29.0</td>\n",
       "      <td>36.0</td>\n",
       "      <td>no</td>\n",
       "      <td>yes</td>\n",
       "      <td>no</td>\n",
       "      <td>yes</td>\n",
       "      <td>no</td>\n",
       "      <td>yes</td>\n",
       "      <td>no</td>\n",
       "      <td>12</td>\n",
       "      <td>2021</td>\n",
       "      <td>2</td>\n",
       "      <td>2021</td>\n",
       "      <td>2</td>\n",
       "      <td>20</td>\n",
       "    </tr>\n",
       "    <tr>\n",
       "      <th>5317</th>\n",
       "      <td>500000</td>\n",
       "      <td>Ahmedabad</td>\n",
       "      <td>2021-12-02</td>\n",
       "      <td>2021-02-20</td>\n",
       "      <td>4.4</td>\n",
       "      <td>11.0</td>\n",
       "      <td>yes</td>\n",
       "      <td>yes</td>\n",
       "      <td>yes</td>\n",
       "      <td>yes</td>\n",
       "      <td>yes</td>\n",
       "      <td>yes</td>\n",
       "      <td>yes</td>\n",
       "      <td>12</td>\n",
       "      <td>2021</td>\n",
       "      <td>2</td>\n",
       "      <td>2021</td>\n",
       "      <td>2</td>\n",
       "      <td>20</td>\n",
       "    </tr>\n",
       "    <tr>\n",
       "      <th>5337</th>\n",
       "      <td>46349</td>\n",
       "      <td>Ahmedabad</td>\n",
       "      <td>2021-12-02</td>\n",
       "      <td>2021-02-20</td>\n",
       "      <td>4.9</td>\n",
       "      <td>9.7</td>\n",
       "      <td>no</td>\n",
       "      <td>yes</td>\n",
       "      <td>no</td>\n",
       "      <td>no</td>\n",
       "      <td>no</td>\n",
       "      <td>no</td>\n",
       "      <td>no</td>\n",
       "      <td>12</td>\n",
       "      <td>2021</td>\n",
       "      <td>2</td>\n",
       "      <td>2021</td>\n",
       "      <td>2</td>\n",
       "      <td>20</td>\n",
       "    </tr>\n",
       "  </tbody>\n",
       "</table>\n",
       "<p>379 rows × 19 columns</p>\n",
       "</div>"
      ],
      "text/plain": [
       "       price       city Check_in_date Check_out_date  \\\n",
       "140    33300  Hyderabad    2021-12-02     2021-02-16   \n",
       "141    33300  Hyderabad    2021-12-02     2021-02-16   \n",
       "164    37755  Hyderabad    2021-12-02     2021-02-16   \n",
       "222    39000  Hyderabad    2021-12-02     2021-02-18   \n",
       "223    39000  Hyderabad    2021-12-02     2021-02-18   \n",
       "...      ...        ...           ...            ...   \n",
       "5230  300000  Ahmedabad    2021-12-02     2021-02-18   \n",
       "5231  300000  Ahmedabad    2021-12-02     2021-02-18   \n",
       "5316   47194  Ahmedabad    2021-12-02     2021-02-20   \n",
       "5317  500000  Ahmedabad    2021-12-02     2021-02-20   \n",
       "5337   46349  Ahmedabad    2021-12-02     2021-02-20   \n",
       "\n",
       "      distance_to_city_centre(km)  distance_to_airport Pool Free parking  Spa  \\\n",
       "140                          16.0                 21.0  yes          yes  yes   \n",
       "141                          16.0                 21.0  yes          yes  yes   \n",
       "164                           9.8                 22.0  yes          yes  yes   \n",
       "222                           3.5                 19.0  yes          yes  yes   \n",
       "223                           3.5                 19.0  yes          yes  yes   \n",
       "...                           ...                  ...  ...          ...  ...   \n",
       "5230                          4.4                 11.0  yes          yes  yes   \n",
       "5231                          4.4                 11.0  yes          yes  yes   \n",
       "5316                         29.0                 36.0   no          yes   no   \n",
       "5317                          4.4                 11.0  yes          yes  yes   \n",
       "5337                          4.9                  9.7   no          yes   no   \n",
       "\n",
       "     Restaurant  Gym Kitchen Internet access  check_in_month  check_in_year  \\\n",
       "140         yes  yes      no              no              12           2021   \n",
       "141         yes  yes      no              no              12           2021   \n",
       "164         yes  yes     yes             yes              12           2021   \n",
       "222         yes  yes      no              no              12           2021   \n",
       "223         yes  yes      no              no              12           2021   \n",
       "...         ...  ...     ...             ...             ...            ...   \n",
       "5230        yes  yes     yes             yes              12           2021   \n",
       "5231        yes  yes     yes             yes              12           2021   \n",
       "5316        yes   no     yes              no              12           2021   \n",
       "5317        yes  yes     yes             yes              12           2021   \n",
       "5337         no   no      no              no              12           2021   \n",
       "\n",
       "      check_in_day  check_out_year  check_out_month  check_out_day  \n",
       "140              2            2021                2             16  \n",
       "141              2            2021                2             16  \n",
       "164              2            2021                2             16  \n",
       "222              2            2021                2             18  \n",
       "223              2            2021                2             18  \n",
       "...            ...             ...              ...            ...  \n",
       "5230             2            2021                2             18  \n",
       "5231             2            2021                2             18  \n",
       "5316             2            2021                2             20  \n",
       "5317             2            2021                2             20  \n",
       "5337             2            2021                2             20  \n",
       "\n",
       "[379 rows x 19 columns]"
      ]
     },
     "execution_count": 60,
     "metadata": {},
     "output_type": "execute_result"
    }
   ],
   "source": [
    "df[df['price'] > upper_limit]"
   ]
  },
  {
   "cell_type": "code",
   "execution_count": 61,
   "id": "17ce7368-d430-4f8c-87d8-5c4b7409beb8",
   "metadata": {
    "tags": []
   },
   "outputs": [],
   "source": [
    "df['price'] = np.where(\n",
    "    df['price'] > upper_limit,\n",
    "    upper_limit,\n",
    "    np.where(\n",
    "        df['price'] < lower_limit,\n",
    "        lower_limit,\n",
    "        df['price']\n",
    "    )\n",
    ")"
   ]
  },
  {
   "cell_type": "code",
   "execution_count": 62,
   "id": "620a785d-4186-47f1-a087-35645f63aa43",
   "metadata": {
    "tags": []
   },
   "outputs": [
    {
     "data": {
      "text/plain": [
       "<Axes: ylabel='price'>"
      ]
     },
     "execution_count": 62,
     "metadata": {},
     "output_type": "execute_result"
    },
    {
     "data": {
      "image/png": "[encoded data removed]",
      "text/plain": [
       "<Figure size 640x480 with 1 Axes>"
      ]
     },
     "metadata": {},
     "output_type": "display_data"
    }
   ],
   "source": [
    "sns.boxplot(df,y='price')"
   ]
  },
  {
   "cell_type": "code",
   "execution_count": 63,
   "id": "90a8a3e9-822c-491a-96d4-34fb0501b896",
   "metadata": {
    "tags": []
   },
   "outputs": [],
   "source": [
    "df.drop(columns=['Check_in_date','Check_out_date'],inplace=True)"
   ]
  },
  {
   "cell_type": "code",
   "execution_count": 67,
   "id": "42ec87e3-a7d5-4aaf-8348-8df5da418d08",
   "metadata": {
    "tags": []
   },
   "outputs": [],
   "source": [
    "city_dict=df[\"city\"].value_counts().to_dict()"
   ]
  },
  {
   "cell_type": "code",
   "execution_count": 68,
   "id": "468d6453-cb2e-4fc9-b04b-35951e7abe22",
   "metadata": {
    "tags": []
   },
   "outputs": [
    {
     "data": {
      "text/plain": [
       "{'Kullu': 316,\n",
       " 'Rishikesh': 315,\n",
       " 'Kochi': 296,\n",
       " 'Pune': 289,\n",
       " 'Goa': 280,\n",
       " 'Chennai': 279,\n",
       " 'Hyderabad': 279,\n",
       " 'Mumbai': 278,\n",
       " 'Gurgaon': 267,\n",
       " 'Chandigarh': 264,\n",
       " 'Ahmedabad': 264,\n",
       " 'Noida': 254,\n",
       " 'Varanasi': 243,\n",
       " 'New Delhi': 234,\n",
       " 'Jaipur': 212,\n",
       " 'Lucknow': 200,\n",
       " 'Kolkata': 179,\n",
       " 'Bhopal': 172,\n",
       " 'Munnar': 151,\n",
       " 'Banglore': 134,\n",
       " 'Nagpur': 117,\n",
       " 'Leh': 111,\n",
       " 'Visakhapatnam, Andhra Pradesh, India': 102,\n",
       " 'Tirupati, Andhra Pradesh, India': 83}"
      ]
     },
     "execution_count": 68,
     "metadata": {},
     "output_type": "execute_result"
    }
   ],
   "source": [
    "city_dict"
   ]
  },
  {
   "cell_type": "code",
   "execution_count": 69,
   "id": "cdcdc1dd-e2c6-4b28-b4a9-82099a3f2b4b",
   "metadata": {
    "tags": []
   },
   "outputs": [],
   "source": [
    "df[\"city\"]=df[\"city\"].replace(city_dict)"
   ]
  },
  {
   "cell_type": "code",
   "execution_count": 70,
   "id": "e54ed1e2-0043-4a4c-ad57-93fbeb894510",
   "metadata": {
    "tags": []
   },
   "outputs": [],
   "source": [
    "df=pd.get_dummies(df, drop_first=True)"
   ]
  },
  {
   "cell_type": "code",
   "execution_count": 71,
   "id": "aa2bd993-a88a-49f4-bf72-af0c5fd82fc2",
   "metadata": {
    "tags": []
   },
   "outputs": [
    {
     "data": {
      "text/html": [
       "<div>\n",
       "<style scoped>\n",
       "    .dataframe tbody tr th:only-of-type {\n",
       "        vertical-align: middle;\n",
       "    }\n",
       "\n",
       "    .dataframe tbody tr th {\n",
       "        vertical-align: top;\n",
       "    }\n",
       "\n",
       "    .dataframe thead th {\n",
       "        text-align: right;\n",
       "    }\n",
       "</style>\n",
       "<table border=\"1\" class=\"dataframe\">\n",
       "  <thead>\n",
       "    <tr style=\"text-align: right;\">\n",
       "      <th></th>\n",
       "      <th>price</th>\n",
       "      <th>city</th>\n",
       "      <th>distance_to_city_centre(km)</th>\n",
       "      <th>distance_to_airport</th>\n",
       "      <th>check_in_month</th>\n",
       "      <th>check_in_year</th>\n",
       "      <th>check_in_day</th>\n",
       "      <th>check_out_year</th>\n",
       "      <th>check_out_month</th>\n",
       "      <th>check_out_day</th>\n",
       "      <th>Pool_yes</th>\n",
       "      <th>Free parking_yes</th>\n",
       "      <th>Spa_yes</th>\n",
       "      <th>Restaurant_yes</th>\n",
       "      <th>Gym_yes</th>\n",
       "      <th>Kitchen_yes</th>\n",
       "      <th>Internet access_yes</th>\n",
       "    </tr>\n",
       "  </thead>\n",
       "  <tbody>\n",
       "    <tr>\n",
       "      <th>1254</th>\n",
       "      <td>20394.0</td>\n",
       "      <td>296</td>\n",
       "      <td>8.20</td>\n",
       "      <td>24.0</td>\n",
       "      <td>12</td>\n",
       "      <td>2021</td>\n",
       "      <td>2</td>\n",
       "      <td>2021</td>\n",
       "      <td>2</td>\n",
       "      <td>18</td>\n",
       "      <td>False</td>\n",
       "      <td>True</td>\n",
       "      <td>False</td>\n",
       "      <td>True</td>\n",
       "      <td>False</td>\n",
       "      <td>False</td>\n",
       "      <td>False</td>\n",
       "    </tr>\n",
       "    <tr>\n",
       "      <th>848</th>\n",
       "      <td>6095.0</td>\n",
       "      <td>289</td>\n",
       "      <td>20.00</td>\n",
       "      <td>20.0</td>\n",
       "      <td>12</td>\n",
       "      <td>2021</td>\n",
       "      <td>2</td>\n",
       "      <td>2021</td>\n",
       "      <td>2</td>\n",
       "      <td>16</td>\n",
       "      <td>False</td>\n",
       "      <td>True</td>\n",
       "      <td>False</td>\n",
       "      <td>True</td>\n",
       "      <td>True</td>\n",
       "      <td>False</td>\n",
       "      <td>False</td>\n",
       "    </tr>\n",
       "    <tr>\n",
       "      <th>2916</th>\n",
       "      <td>7800.0</td>\n",
       "      <td>316</td>\n",
       "      <td>30.45</td>\n",
       "      <td>33.0</td>\n",
       "      <td>12</td>\n",
       "      <td>2021</td>\n",
       "      <td>2</td>\n",
       "      <td>2021</td>\n",
       "      <td>2</td>\n",
       "      <td>14</td>\n",
       "      <td>True</td>\n",
       "      <td>True</td>\n",
       "      <td>False</td>\n",
       "      <td>True</td>\n",
       "      <td>True</td>\n",
       "      <td>False</td>\n",
       "      <td>False</td>\n",
       "    </tr>\n",
       "    <tr>\n",
       "      <th>4638</th>\n",
       "      <td>7200.0</td>\n",
       "      <td>200</td>\n",
       "      <td>4.90</td>\n",
       "      <td>1.6</td>\n",
       "      <td>12</td>\n",
       "      <td>2021</td>\n",
       "      <td>2</td>\n",
       "      <td>2021</td>\n",
       "      <td>2</td>\n",
       "      <td>17</td>\n",
       "      <td>False</td>\n",
       "      <td>True</td>\n",
       "      <td>True</td>\n",
       "      <td>True</td>\n",
       "      <td>True</td>\n",
       "      <td>False</td>\n",
       "      <td>False</td>\n",
       "    </tr>\n",
       "    <tr>\n",
       "      <th>2678</th>\n",
       "      <td>5500.0</td>\n",
       "      <td>234</td>\n",
       "      <td>4.80</td>\n",
       "      <td>13.0</td>\n",
       "      <td>12</td>\n",
       "      <td>2021</td>\n",
       "      <td>2</td>\n",
       "      <td>2021</td>\n",
       "      <td>2</td>\n",
       "      <td>14</td>\n",
       "      <td>False</td>\n",
       "      <td>True</td>\n",
       "      <td>True</td>\n",
       "      <td>True</td>\n",
       "      <td>True</td>\n",
       "      <td>False</td>\n",
       "      <td>False</td>\n",
       "    </tr>\n",
       "    <tr>\n",
       "      <th>209</th>\n",
       "      <td>21147.0</td>\n",
       "      <td>279</td>\n",
       "      <td>2.90</td>\n",
       "      <td>18.0</td>\n",
       "      <td>12</td>\n",
       "      <td>2021</td>\n",
       "      <td>2</td>\n",
       "      <td>2021</td>\n",
       "      <td>2</td>\n",
       "      <td>18</td>\n",
       "      <td>True</td>\n",
       "      <td>True</td>\n",
       "      <td>False</td>\n",
       "      <td>True</td>\n",
       "      <td>True</td>\n",
       "      <td>False</td>\n",
       "      <td>False</td>\n",
       "    </tr>\n",
       "    <tr>\n",
       "      <th>3356</th>\n",
       "      <td>5454.0</td>\n",
       "      <td>172</td>\n",
       "      <td>3.10</td>\n",
       "      <td>3.4</td>\n",
       "      <td>12</td>\n",
       "      <td>2021</td>\n",
       "      <td>2</td>\n",
       "      <td>2021</td>\n",
       "      <td>2</td>\n",
       "      <td>18</td>\n",
       "      <td>False</td>\n",
       "      <td>False</td>\n",
       "      <td>False</td>\n",
       "      <td>False</td>\n",
       "      <td>False</td>\n",
       "      <td>False</td>\n",
       "      <td>False</td>\n",
       "    </tr>\n",
       "    <tr>\n",
       "      <th>4771</th>\n",
       "      <td>13234.0</td>\n",
       "      <td>200</td>\n",
       "      <td>16.00</td>\n",
       "      <td>17.0</td>\n",
       "      <td>12</td>\n",
       "      <td>2021</td>\n",
       "      <td>2</td>\n",
       "      <td>2021</td>\n",
       "      <td>2</td>\n",
       "      <td>20</td>\n",
       "      <td>False</td>\n",
       "      <td>True</td>\n",
       "      <td>False</td>\n",
       "      <td>True</td>\n",
       "      <td>False</td>\n",
       "      <td>False</td>\n",
       "      <td>False</td>\n",
       "    </tr>\n",
       "    <tr>\n",
       "      <th>3030</th>\n",
       "      <td>9100.0</td>\n",
       "      <td>316</td>\n",
       "      <td>30.45</td>\n",
       "      <td>26.0</td>\n",
       "      <td>12</td>\n",
       "      <td>2021</td>\n",
       "      <td>2</td>\n",
       "      <td>2021</td>\n",
       "      <td>2</td>\n",
       "      <td>16</td>\n",
       "      <td>False</td>\n",
       "      <td>True</td>\n",
       "      <td>False</td>\n",
       "      <td>True</td>\n",
       "      <td>False</td>\n",
       "      <td>False</td>\n",
       "      <td>False</td>\n",
       "    </tr>\n",
       "    <tr>\n",
       "      <th>3412</th>\n",
       "      <td>6836.0</td>\n",
       "      <td>172</td>\n",
       "      <td>3.60</td>\n",
       "      <td>4.5</td>\n",
       "      <td>12</td>\n",
       "      <td>2021</td>\n",
       "      <td>2</td>\n",
       "      <td>2021</td>\n",
       "      <td>2</td>\n",
       "      <td>20</td>\n",
       "      <td>False</td>\n",
       "      <td>True</td>\n",
       "      <td>False</td>\n",
       "      <td>False</td>\n",
       "      <td>False</td>\n",
       "      <td>False</td>\n",
       "      <td>False</td>\n",
       "    </tr>\n",
       "  </tbody>\n",
       "</table>\n",
       "</div>"
      ],
      "text/plain": [
       "        price  city  distance_to_city_centre(km)  distance_to_airport  \\\n",
       "1254  20394.0   296                         8.20                 24.0   \n",
       "848    6095.0   289                        20.00                 20.0   \n",
       "2916   7800.0   316                        30.45                 33.0   \n",
       "4638   7200.0   200                         4.90                  1.6   \n",
       "2678   5500.0   234                         4.80                 13.0   \n",
       "209   21147.0   279                         2.90                 18.0   \n",
       "3356   5454.0   172                         3.10                  3.4   \n",
       "4771  13234.0   200                        16.00                 17.0   \n",
       "3030   9100.0   316                        30.45                 26.0   \n",
       "3412   6836.0   172                         3.60                  4.5   \n",
       "\n",
       "      check_in_month  check_in_year  check_in_day  check_out_year  \\\n",
       "1254              12           2021             2            2021   \n",
       "848               12           2021             2            2021   \n",
       "2916              12           2021             2            2021   \n",
       "4638              12           2021             2            2021   \n",
       "2678              12           2021             2            2021   \n",
       "209               12           2021             2            2021   \n",
       "3356              12           2021             2            2021   \n",
       "4771              12           2021             2            2021   \n",
       "3030              12           2021             2            2021   \n",
       "3412              12           2021             2            2021   \n",
       "\n",
       "      check_out_month  check_out_day  Pool_yes  Free parking_yes  Spa_yes  \\\n",
       "1254                2             18     False              True    False   \n",
       "848                 2             16     False              True    False   \n",
       "2916                2             14      True              True    False   \n",
       "4638                2             17     False              True     True   \n",
       "2678                2             14     False              True     True   \n",
       "209                 2             18      True              True    False   \n",
       "3356                2             18     False             False    False   \n",
       "4771                2             20     False              True    False   \n",
       "3030                2             16     False              True    False   \n",
       "3412                2             20     False              True    False   \n",
       "\n",
       "      Restaurant_yes  Gym_yes  Kitchen_yes  Internet access_yes  \n",
       "1254            True    False        False                False  \n",
       "848             True     True        False                False  \n",
       "2916            True     True        False                False  \n",
       "4638            True     True        False                False  \n",
       "2678            True     True        False                False  \n",
       "209             True     True        False                False  \n",
       "3356           False    False        False                False  \n",
       "4771            True    False        False                False  \n",
       "3030            True    False        False                False  \n",
       "3412           False    False        False                False  "
      ]
     },
     "execution_count": 71,
     "metadata": {},
     "output_type": "execute_result"
    }
   ],
   "source": [
    "df.sample(10)"
   ]
  },
  {
   "cell_type": "code",
   "execution_count": 72,
   "id": "df05f62b-4767-49db-975d-51be5f0ad025",
   "metadata": {
    "tags": []
   },
   "outputs": [],
   "source": [
    "X=df.iloc[:,1:]\n",
    "y=df.iloc[:,:1]"
   ]
  },
  {
   "cell_type": "code",
   "execution_count": 98,
   "id": "243a9edf-e5e7-4b9c-a15f-eb5351d52b13",
   "metadata": {
    "tags": []
   },
   "outputs": [],
   "source": [
    "from sklearn.compose import ColumnTransformer\n",
    "from sklearn.preprocessing import OneHotEncoder\n",
    "from sklearn.preprocessing import StandardScaler\n",
    "from sklearn.model_selection import train_test_split\n",
    "from sklearn.ensemble import RandomForestRegressor\n",
    "from sklearn.linear_model import LinearRegression\n",
    "from sklearn.tree import DecisionTreeRegressor\n",
    "from sklearn.svm import SVR\n",
    "from sklearn.pipeline import Pipeline"
   ]
  },
  {
   "cell_type": "code",
   "execution_count": 99,
   "id": "48c19bb8-6415-4b49-b8e0-5da8b610c93d",
   "metadata": {
    "tags": []
   },
   "outputs": [],
   "source": [
    "X_train,X_test,y_train,y_test=train_test_split(X,y,test_size=0.2,random_state=42)"
   ]
  },
  {
   "cell_type": "code",
   "execution_count": 100,
   "id": "8be76bc6-68d8-4f89-8ec7-356f1d521aaf",
   "metadata": {
    "tags": []
   },
   "outputs": [
    {
     "data": {
      "text/html": [
       "<div>\n",
       "<style scoped>\n",
       "    .dataframe tbody tr th:only-of-type {\n",
       "        vertical-align: middle;\n",
       "    }\n",
       "\n",
       "    .dataframe tbody tr th {\n",
       "        vertical-align: top;\n",
       "    }\n",
       "\n",
       "    .dataframe thead th {\n",
       "        text-align: right;\n",
       "    }\n",
       "</style>\n",
       "<table border=\"1\" class=\"dataframe\">\n",
       "  <thead>\n",
       "    <tr style=\"text-align: right;\">\n",
       "      <th></th>\n",
       "      <th>price</th>\n",
       "    </tr>\n",
       "  </thead>\n",
       "  <tbody>\n",
       "    <tr>\n",
       "      <th>0</th>\n",
       "      <td>5040.0</td>\n",
       "    </tr>\n",
       "    <tr>\n",
       "      <th>1</th>\n",
       "      <td>7800.0</td>\n",
       "    </tr>\n",
       "    <tr>\n",
       "      <th>2</th>\n",
       "      <td>6700.0</td>\n",
       "    </tr>\n",
       "    <tr>\n",
       "      <th>3</th>\n",
       "      <td>6700.0</td>\n",
       "    </tr>\n",
       "    <tr>\n",
       "      <th>4</th>\n",
       "      <td>6375.0</td>\n",
       "    </tr>\n",
       "  </tbody>\n",
       "</table>\n",
       "</div>"
      ],
      "text/plain": [
       "    price\n",
       "0  5040.0\n",
       "1  7800.0\n",
       "2  6700.0\n",
       "3  6700.0\n",
       "4  6375.0"
      ]
     },
     "execution_count": 100,
     "metadata": {},
     "output_type": "execute_result"
    }
   ],
   "source": [
    "y.head()"
   ]
  },
  {
   "cell_type": "code",
   "execution_count": 101,
   "id": "4fa606b9-5cda-4b7f-805a-417df0f347e0",
   "metadata": {
    "tags": []
   },
   "outputs": [],
   "source": [
    "trf1=ColumnTransformer([\n",
    "    ('ohe',OneHotEncoder(sparse_output=False,handle_unknown='ignore'),[4,5,6,7,8,9,10])\n",
    "],remainder='passthrough')"
   ]
  },
  {
   "cell_type": "code",
   "execution_count": 102,
   "id": "6727c5e4-1701-4cd7-9440-02b903bb7abb",
   "metadata": {
    "tags": []
   },
   "outputs": [],
   "source": [
    "\n",
    "trf2 = ColumnTransformer([\n",
    "    ('scale',StandardScaler(),slice(1,16))\n",
    "])"
   ]
  },
  {
   "cell_type": "code",
   "execution_count": 142,
   "id": "0854227f-254a-48a5-b234-6dd00261000a",
   "metadata": {
    "tags": []
   },
   "outputs": [],
   "source": [
    "trf3=RandomForestRegressor(n_estimators=200,max_depth=12)"
   ]
  },
  {
   "cell_type": "code",
   "execution_count": 143,
   "id": "824c089f-fccf-47d1-8b5e-657e01fde4d5",
   "metadata": {
    "tags": []
   },
   "outputs": [],
   "source": [
    "pipe=Pipeline([\n",
    "    ('trf1',trf1),\n",
    "    ('trf2',trf2),\n",
    "    ('trf3',trf3),\n",
    "])"
   ]
  },
  {
   "cell_type": "code",
   "execution_count": 144,
   "id": "9c4c3d55-34e1-4fae-8da3-e32e37d9c1ee",
   "metadata": {
    "tags": []
   },
   "outputs": [
    {
     "name": "stderr",
     "output_type": "stream",
     "text": [
      "C:\\Users\\bagwe\\anaconda3\\Lib\\site-packages\\sklearn\\base.py:1151: DataConversionWarning: A column-vector y was passed when a 1d array was expected. Please change the shape of y to (n_samples,), for example using ravel().\n",
      "  return fit_method(estimator, *args, **kwargs)\n"
     ]
    },
    {
     "data": {
      "text/html": [
       "<style>#sk-container-id-7 {color: black;}#sk-container-id-7 pre{padding: 0;}#sk-container-id-7 div.sk-toggleable {background-color: white;}#sk-container-id-7 label.sk-toggleable__label {cursor: pointer;display: block;width: 100%;margin-bottom: 0;padding: 0.3em;box-sizing: border-box;text-align: center;}#sk-container-id-7 label.sk-toggleable__label-arrow:before {content: \"▸\";float: left;margin-right: 0.25em;color: #696969;}#sk-container-id-7 label.sk-toggleable__label-arrow:hover:before {color: black;}#sk-container-id-7 div.sk-estimator:hover label.sk-toggleable__label-arrow:before {color: black;}#sk-container-id-7 div.sk-toggleable__content {max-height: 0;max-width: 0;overflow: hidden;text-align: left;background-color: #f0f8ff;}#sk-container-id-7 div.sk-toggleable__content pre {margin: 0.2em;color: black;border-radius: 0.25em;background-color: #f0f8ff;}#sk-container-id-7 input.sk-toggleable__control:checked~div.sk-toggleable__content {max-height: 200px;max-width: 100%;overflow: auto;}#sk-container-id-7 input.sk-toggleable__control:checked~label.sk-toggleable__label-arrow:before {content: \"▾\";}#sk-container-id-7 div.sk-estimator input.sk-toggleable__control:checked~label.sk-toggleable__label {background-color: #d4ebff;}#sk-container-id-7 div.sk-label input.sk-toggleable__control:checked~label.sk-toggleable__label {background-color: #d4ebff;}#sk-container-id-7 input.sk-hidden--visually {border: 0;clip: rect(1px 1px 1px 1px);clip: rect(1px, 1px, 1px, 1px);height: 1px;margin: -1px;overflow: hidden;padding: 0;position: absolute;width: 1px;}#sk-container-id-7 div.sk-estimator {font-family: monospace;background-color: #f0f8ff;border: 1px dotted black;border-radius: 0.25em;box-sizing: border-box;margin-bottom: 0.5em;}#sk-container-id-7 div.sk-estimator:hover {background-color: #d4ebff;}#sk-container-id-7 div.sk-parallel-item::after {content: \"\";width: 100%;border-bottom: 1px solid gray;flex-grow: 1;}#sk-container-id-7 div.sk-label:hover label.sk-toggleable__label {background-color: #d4ebff;}#sk-container-id-7 div.sk-serial::before {content: \"\";position: absolute;border-left: 1px solid gray;box-sizing: border-box;top: 0;bottom: 0;left: 50%;z-index: 0;}#sk-container-id-7 div.sk-serial {display: flex;flex-direction: column;align-items: center;background-color: white;padding-right: 0.2em;padding-left: 0.2em;position: relative;}#sk-container-id-7 div.sk-item {position: relative;z-index: 1;}#sk-container-id-7 div.sk-parallel {display: flex;align-items: stretch;justify-content: center;background-color: white;position: relative;}#sk-container-id-7 div.sk-item::before, #sk-container-id-7 div.sk-parallel-item::before {content: \"\";position: absolute;border-left: 1px solid gray;box-sizing: border-box;top: 0;bottom: 0;left: 50%;z-index: -1;}#sk-container-id-7 div.sk-parallel-item {display: flex;flex-direction: column;z-index: 1;position: relative;background-color: white;}#sk-container-id-7 div.sk-parallel-item:first-child::after {align-self: flex-end;width: 50%;}#sk-container-id-7 div.sk-parallel-item:last-child::after {align-self: flex-start;width: 50%;}#sk-container-id-7 div.sk-parallel-item:only-child::after {width: 0;}#sk-container-id-7 div.sk-dashed-wrapped {border: 1px dashed gray;margin: 0 0.4em 0.5em 0.4em;box-sizing: border-box;padding-bottom: 0.4em;background-color: white;}#sk-container-id-7 div.sk-label label {font-family: monospace;font-weight: bold;display: inline-block;line-height: 1.2em;}#sk-container-id-7 div.sk-label-container {text-align: center;}#sk-container-id-7 div.sk-container {/* jupyter's `normalize.less` sets `[hidden] { display: none; }` but bootstrap.min.css set `[hidden] { display: none !important; }` so we also need the `!important` here to be able to override the default hidden behavior on the sphinx rendered scikit-learn.org. See: https://github.com/scikit-learn/scikit-learn/issues/21755 */display: inline-block !important;position: relative;}#sk-container-id-7 div.sk-text-repr-fallback {display: none;}</style><div id=\"sk-container-id-7\" class=\"sk-top-container\"><div class=\"sk-text-repr-fallback\"><pre>Pipeline(steps=[(&#x27;trf1&#x27;,\n",
       "                 ColumnTransformer(remainder=&#x27;passthrough&#x27;,\n",
       "                                   transformers=[(&#x27;ohe&#x27;,\n",
       "                                                  OneHotEncoder(handle_unknown=&#x27;ignore&#x27;,\n",
       "                                                                sparse_output=False),\n",
       "                                                  [4, 5, 6, 7, 8, 9, 10])])),\n",
       "                (&#x27;trf2&#x27;,\n",
       "                 ColumnTransformer(transformers=[(&#x27;scale&#x27;, StandardScaler(),\n",
       "                                                  slice(1, 16, None))])),\n",
       "                (&#x27;trf3&#x27;,\n",
       "                 RandomForestRegressor(max_depth=12, n_estimators=200))])</pre><b>In a Jupyter environment, please rerun this cell to show the HTML representation or trust the notebook. <br />On GitHub, the HTML representation is unable to render, please try loading this page with nbviewer.org.</b></div><div class=\"sk-container\" hidden><div class=\"sk-item sk-dashed-wrapped\"><div class=\"sk-label-container\"><div class=\"sk-label sk-toggleable\"><input class=\"sk-toggleable__control sk-hidden--visually\" id=\"sk-estimator-id-61\" type=\"checkbox\" ><label for=\"sk-estimator-id-61\" class=\"sk-toggleable__label sk-toggleable__label-arrow\">Pipeline</label><div class=\"sk-toggleable__content\"><pre>Pipeline(steps=[(&#x27;trf1&#x27;,\n",
       "                 ColumnTransformer(remainder=&#x27;passthrough&#x27;,\n",
       "                                   transformers=[(&#x27;ohe&#x27;,\n",
       "                                                  OneHotEncoder(handle_unknown=&#x27;ignore&#x27;,\n",
       "                                                                sparse_output=False),\n",
       "                                                  [4, 5, 6, 7, 8, 9, 10])])),\n",
       "                (&#x27;trf2&#x27;,\n",
       "                 ColumnTransformer(transformers=[(&#x27;scale&#x27;, StandardScaler(),\n",
       "                                                  slice(1, 16, None))])),\n",
       "                (&#x27;trf3&#x27;,\n",
       "                 RandomForestRegressor(max_depth=12, n_estimators=200))])</pre></div></div></div><div class=\"sk-serial\"><div class=\"sk-item sk-dashed-wrapped\"><div class=\"sk-label-container\"><div class=\"sk-label sk-toggleable\"><input class=\"sk-toggleable__control sk-hidden--visually\" id=\"sk-estimator-id-62\" type=\"checkbox\" ><label for=\"sk-estimator-id-62\" class=\"sk-toggleable__label sk-toggleable__label-arrow\">trf1: ColumnTransformer</label><div class=\"sk-toggleable__content\"><pre>ColumnTransformer(remainder=&#x27;passthrough&#x27;,\n",
       "                  transformers=[(&#x27;ohe&#x27;,\n",
       "                                 OneHotEncoder(handle_unknown=&#x27;ignore&#x27;,\n",
       "                                               sparse_output=False),\n",
       "                                 [4, 5, 6, 7, 8, 9, 10])])</pre></div></div></div><div class=\"sk-parallel\"><div class=\"sk-parallel-item\"><div class=\"sk-item\"><div class=\"sk-label-container\"><div class=\"sk-label sk-toggleable\"><input class=\"sk-toggleable__control sk-hidden--visually\" id=\"sk-estimator-id-63\" type=\"checkbox\" ><label for=\"sk-estimator-id-63\" class=\"sk-toggleable__label sk-toggleable__label-arrow\">ohe</label><div class=\"sk-toggleable__content\"><pre>[4, 5, 6, 7, 8, 9, 10]</pre></div></div></div><div class=\"sk-serial\"><div class=\"sk-item\"><div class=\"sk-estimator sk-toggleable\"><input class=\"sk-toggleable__control sk-hidden--visually\" id=\"sk-estimator-id-64\" type=\"checkbox\" ><label for=\"sk-estimator-id-64\" class=\"sk-toggleable__label sk-toggleable__label-arrow\">OneHotEncoder</label><div class=\"sk-toggleable__content\"><pre>OneHotEncoder(handle_unknown=&#x27;ignore&#x27;, sparse_output=False)</pre></div></div></div></div></div></div><div class=\"sk-parallel-item\"><div class=\"sk-item\"><div class=\"sk-label-container\"><div class=\"sk-label sk-toggleable\"><input class=\"sk-toggleable__control sk-hidden--visually\" id=\"sk-estimator-id-65\" type=\"checkbox\" ><label for=\"sk-estimator-id-65\" class=\"sk-toggleable__label sk-toggleable__label-arrow\">remainder</label><div class=\"sk-toggleable__content\"><pre>[&#x27;city&#x27;, &#x27;distance_to_city_centre(km)&#x27;, &#x27;distance_to_airport&#x27;, &#x27;check_in_month&#x27;, &#x27;Spa_yes&#x27;, &#x27;Restaurant_yes&#x27;, &#x27;Gym_yes&#x27;, &#x27;Kitchen_yes&#x27;, &#x27;Internet access_yes&#x27;]</pre></div></div></div><div class=\"sk-serial\"><div class=\"sk-item\"><div class=\"sk-estimator sk-toggleable\"><input class=\"sk-toggleable__control sk-hidden--visually\" id=\"sk-estimator-id-66\" type=\"checkbox\" ><label for=\"sk-estimator-id-66\" class=\"sk-toggleable__label sk-toggleable__label-arrow\">passthrough</label><div class=\"sk-toggleable__content\"><pre>passthrough</pre></div></div></div></div></div></div></div></div><div class=\"sk-item sk-dashed-wrapped\"><div class=\"sk-label-container\"><div class=\"sk-label sk-toggleable\"><input class=\"sk-toggleable__control sk-hidden--visually\" id=\"sk-estimator-id-67\" type=\"checkbox\" ><label for=\"sk-estimator-id-67\" class=\"sk-toggleable__label sk-toggleable__label-arrow\">trf2: ColumnTransformer</label><div class=\"sk-toggleable__content\"><pre>ColumnTransformer(transformers=[(&#x27;scale&#x27;, StandardScaler(),\n",
       "                                 slice(1, 16, None))])</pre></div></div></div><div class=\"sk-parallel\"><div class=\"sk-parallel-item\"><div class=\"sk-item\"><div class=\"sk-label-container\"><div class=\"sk-label sk-toggleable\"><input class=\"sk-toggleable__control sk-hidden--visually\" id=\"sk-estimator-id-68\" type=\"checkbox\" ><label for=\"sk-estimator-id-68\" class=\"sk-toggleable__label sk-toggleable__label-arrow\">scale</label><div class=\"sk-toggleable__content\"><pre>slice(1, 16, None)</pre></div></div></div><div class=\"sk-serial\"><div class=\"sk-item\"><div class=\"sk-estimator sk-toggleable\"><input class=\"sk-toggleable__control sk-hidden--visually\" id=\"sk-estimator-id-69\" type=\"checkbox\" ><label for=\"sk-estimator-id-69\" class=\"sk-toggleable__label sk-toggleable__label-arrow\">StandardScaler</label><div class=\"sk-toggleable__content\"><pre>StandardScaler()</pre></div></div></div></div></div></div></div></div><div class=\"sk-item\"><div class=\"sk-estimator sk-toggleable\"><input class=\"sk-toggleable__control sk-hidden--visually\" id=\"sk-estimator-id-70\" type=\"checkbox\" ><label for=\"sk-estimator-id-70\" class=\"sk-toggleable__label sk-toggleable__label-arrow\">RandomForestRegressor</label><div class=\"sk-toggleable__content\"><pre>RandomForestRegressor(max_depth=12, n_estimators=200)</pre></div></div></div></div></div></div></div>"
      ],
      "text/plain": [
       "Pipeline(steps=[('trf1',\n",
       "                 ColumnTransformer(remainder='passthrough',\n",
       "                                   transformers=[('ohe',\n",
       "                                                  OneHotEncoder(handle_unknown='ignore',\n",
       "                                                                sparse_output=False),\n",
       "                                                  [4, 5, 6, 7, 8, 9, 10])])),\n",
       "                ('trf2',\n",
       "                 ColumnTransformer(transformers=[('scale', StandardScaler(),\n",
       "                                                  slice(1, 16, None))])),\n",
       "                ('trf3',\n",
       "                 RandomForestRegressor(max_depth=12, n_estimators=200))])"
      ]
     },
     "execution_count": 144,
     "metadata": {},
     "output_type": "execute_result"
    }
   ],
   "source": [
    "pipe.fit(X_train,y_train)"
   ]
  },
  {
   "cell_type": "code",
   "execution_count": 145,
   "id": "aeeabc23-b040-4a6e-983c-798a5c05ad83",
   "metadata": {
    "tags": []
   },
   "outputs": [
    {
     "data": {
      "text/plain": [
       "{'trf1': ColumnTransformer(remainder='passthrough',\n",
       "                   transformers=[('ohe',\n",
       "                                  OneHotEncoder(handle_unknown='ignore',\n",
       "                                                sparse_output=False),\n",
       "                                  [4, 5, 6, 7, 8, 9, 10])]),\n",
       " 'trf2': ColumnTransformer(transformers=[('scale', StandardScaler(),\n",
       "                                  slice(1, 16, None))]),\n",
       " 'trf3': RandomForestRegressor(max_depth=12, n_estimators=200)}"
      ]
     },
     "execution_count": 145,
     "metadata": {},
     "output_type": "execute_result"
    }
   ],
   "source": [
    "pipe.named_steps\n"
   ]
  },
  {
   "cell_type": "code",
   "execution_count": 146,
   "id": "ec58e694-c0c2-4807-ad97-919fbf4606d4",
   "metadata": {
    "tags": []
   },
   "outputs": [],
   "source": [
    "y_pred = pipe.predict(X_test)"
   ]
  },
  {
   "cell_type": "code",
   "execution_count": 147,
   "id": "8acb44af-46ff-4afb-a53c-c246c4d71452",
   "metadata": {
    "tags": []
   },
   "outputs": [
    {
     "data": {
      "text/plain": [
       "0.4048848835905805"
      ]
     },
     "execution_count": 147,
     "metadata": {},
     "output_type": "execute_result"
    }
   ],
   "source": [
    "from sklearn.metrics import r2_score\n",
    "\n",
    "r2_score(y_test,y_pred)\n"
   ]
  },
  {
   "cell_type": "code",
   "execution_count": 211,
   "id": "54ae29b7-0f01-4dfe-ba47-9174e27afd03",
   "metadata": {},
   "outputs": [],
   "source": [
    "test_input = np.array([280,20,14.6,6,2024,10,2024,6,17,'yes','yes','yes','yes','no','yes','yes'],dtype=object).reshape(1,16)"
   ]
  },
  {
   "cell_type": "code",
   "execution_count": 212,
   "id": "a165ea01-2e9c-413b-96b3-e9bc90384784",
   "metadata": {},
   "outputs": [
    {
     "name": "stderr",
     "output_type": "stream",
     "text": [
      "C:\\Users\\bagwe\\anaconda3\\Lib\\site-packages\\sklearn\\base.py:464: UserWarning: X does not have valid feature names, but OneHotEncoder was fitted with feature names\n",
      "  warnings.warn(\n"
     ]
    },
    {
     "data": {
      "text/plain": [
       "array([7409.86015519])"
      ]
     },
     "execution_count": 212,
     "metadata": {},
     "output_type": "execute_result"
    }
   ],
   "source": [
    "pipe.predict(test_input)"
   ]
  },
  {
   "cell_type": "code",
   "execution_count": 170,
   "id": "826ffa04-0699-48f6-8655-70cac35c4fcd",
   "metadata": {
    "tags": []
   },
   "outputs": [],
   "source": [
    "from sklearn.model_selection import GridSearchCV"
   ]
  },
  {
   "cell_type": "code",
   "execution_count": 171,
   "id": "76778ad8-6816-4555-867e-4e6ed936fe95",
   "metadata": {
    "tags": []
   },
   "outputs": [],
   "source": [
    "rf=RandomForestRegressor()"
   ]
  },
  {
   "cell_type": "code",
   "execution_count": 180,
   "id": "46b36369-436d-40aa-99e5-e4dfa18b7ae2",
   "metadata": {
    "tags": []
   },
   "outputs": [],
   "source": [
    "n_estimators=[100,200,300]\n",
    "max_depth=[10,12,14]\n",
    "min_samples_split=[2,4,6]\n",
    "min_samples_leaf=[1,2,3]\n",
    "criterion=[\"squared_error\", \"friedman_mse\", \"poisson\"]"
   ]
  },
  {
   "cell_type": "code",
   "execution_count": 181,
   "id": "69af0dda-0785-4b8c-bbfb-67fe01b45fb0",
   "metadata": {
    "tags": []
   },
   "outputs": [],
   "source": [
    "param_dict={\"max_depth\":max_depth,\n",
    "            \"n_estimators\":n_estimators,\n",
    "            \"min_samples_leaf\": min_samples_leaf,\n",
    "            \"min_samples_split\":min_samples_split,\n",
    "            \"criterion\":criterion,\n",
    "           }"
   ]
  },
  {
   "cell_type": "code",
   "execution_count": 182,
   "id": "03fecbee-ceb5-4e2a-8a29-83c667fba576",
   "metadata": {
    "tags": []
   },
   "outputs": [
    {
     "data": {
      "text/plain": [
       "{'max_depth': [10, 12, 14],\n",
       " 'n_estimators': [100, 200, 300],\n",
       " 'min_samples_leaf': [1, 2, 3],\n",
       " 'min_samples_split': [2, 4, 6],\n",
       " 'criterion': ['squared_error', 'friedman_mse', 'poisson']}"
      ]
     },
     "execution_count": 182,
     "metadata": {},
     "output_type": "execute_result"
    }
   ],
   "source": [
    "param_dict"
   ]
  },
  {
   "cell_type": "code",
   "execution_count": 185,
   "id": "ae47f3fb-d82d-4414-8619-14b756bf3ed4",
   "metadata": {
    "tags": []
   },
   "outputs": [],
   "source": [
    "gsv= GridSearchCV(rf,param_grid=param_dict,scoring=\"r2\", n_jobs=-1,cv=3,verbose=5,return_train_score=True)"
   ]
  },
  {
   "cell_type": "code",
   "execution_count": 186,
   "id": "eaf57d53-60d0-4194-9ea6-1ce8ea042e1c",
   "metadata": {
    "tags": []
   },
   "outputs": [
    {
     "name": "stdout",
     "output_type": "stream",
     "text": [
      "Fitting 3 folds for each of 243 candidates, totalling 729 fits\n"
     ]
    },
    {
     "name": "stderr",
     "output_type": "stream",
     "text": [
      "C:\\Users\\bagwe\\anaconda3\\Lib\\site-packages\\sklearn\\base.py:1151: DataConversionWarning: A column-vector y was passed when a 1d array was expected. Please change the shape of y to (n_samples,), for example using ravel().\n",
      "  return fit_method(estimator, *args, **kwargs)\n"
     ]
    },
    {
     "data": {
      "text/html": [
       "<style>#sk-container-id-8 {color: black;}#sk-container-id-8 pre{padding: 0;}#sk-container-id-8 div.sk-toggleable {background-color: white;}#sk-container-id-8 label.sk-toggleable__label {cursor: pointer;display: block;width: 100%;margin-bottom: 0;padding: 0.3em;box-sizing: border-box;text-align: center;}#sk-container-id-8 label.sk-toggleable__label-arrow:before {content: \"▸\";float: left;margin-right: 0.25em;color: #696969;}#sk-container-id-8 label.sk-toggleable__label-arrow:hover:before {color: black;}#sk-container-id-8 div.sk-estimator:hover label.sk-toggleable__label-arrow:before {color: black;}#sk-container-id-8 div.sk-toggleable__content {max-height: 0;max-width: 0;overflow: hidden;text-align: left;background-color: #f0f8ff;}#sk-container-id-8 div.sk-toggleable__content pre {margin: 0.2em;color: black;border-radius: 0.25em;background-color: #f0f8ff;}#sk-container-id-8 input.sk-toggleable__control:checked~div.sk-toggleable__content {max-height: 200px;max-width: 100%;overflow: auto;}#sk-container-id-8 input.sk-toggleable__control:checked~label.sk-toggleable__label-arrow:before {content: \"▾\";}#sk-container-id-8 div.sk-estimator input.sk-toggleable__control:checked~label.sk-toggleable__label {background-color: #d4ebff;}#sk-container-id-8 div.sk-label input.sk-toggleable__control:checked~label.sk-toggleable__label {background-color: #d4ebff;}#sk-container-id-8 input.sk-hidden--visually {border: 0;clip: rect(1px 1px 1px 1px);clip: rect(1px, 1px, 1px, 1px);height: 1px;margin: -1px;overflow: hidden;padding: 0;position: absolute;width: 1px;}#sk-container-id-8 div.sk-estimator {font-family: monospace;background-color: #f0f8ff;border: 1px dotted black;border-radius: 0.25em;box-sizing: border-box;margin-bottom: 0.5em;}#sk-container-id-8 div.sk-estimator:hover {background-color: #d4ebff;}#sk-container-id-8 div.sk-parallel-item::after {content: \"\";width: 100%;border-bottom: 1px solid gray;flex-grow: 1;}#sk-container-id-8 div.sk-label:hover label.sk-toggleable__label {background-color: #d4ebff;}#sk-container-id-8 div.sk-serial::before {content: \"\";position: absolute;border-left: 1px solid gray;box-sizing: border-box;top: 0;bottom: 0;left: 50%;z-index: 0;}#sk-container-id-8 div.sk-serial {display: flex;flex-direction: column;align-items: center;background-color: white;padding-right: 0.2em;padding-left: 0.2em;position: relative;}#sk-container-id-8 div.sk-item {position: relative;z-index: 1;}#sk-container-id-8 div.sk-parallel {display: flex;align-items: stretch;justify-content: center;background-color: white;position: relative;}#sk-container-id-8 div.sk-item::before, #sk-container-id-8 div.sk-parallel-item::before {content: \"\";position: absolute;border-left: 1px solid gray;box-sizing: border-box;top: 0;bottom: 0;left: 50%;z-index: -1;}#sk-container-id-8 div.sk-parallel-item {display: flex;flex-direction: column;z-index: 1;position: relative;background-color: white;}#sk-container-id-8 div.sk-parallel-item:first-child::after {align-self: flex-end;width: 50%;}#sk-container-id-8 div.sk-parallel-item:last-child::after {align-self: flex-start;width: 50%;}#sk-container-id-8 div.sk-parallel-item:only-child::after {width: 0;}#sk-container-id-8 div.sk-dashed-wrapped {border: 1px dashed gray;margin: 0 0.4em 0.5em 0.4em;box-sizing: border-box;padding-bottom: 0.4em;background-color: white;}#sk-container-id-8 div.sk-label label {font-family: monospace;font-weight: bold;display: inline-block;line-height: 1.2em;}#sk-container-id-8 div.sk-label-container {text-align: center;}#sk-container-id-8 div.sk-container {/* jupyter's `normalize.less` sets `[hidden] { display: none; }` but bootstrap.min.css set `[hidden] { display: none !important; }` so we also need the `!important` here to be able to override the default hidden behavior on the sphinx rendered scikit-learn.org. See: https://github.com/scikit-learn/scikit-learn/issues/21755 */display: inline-block !important;position: relative;}#sk-container-id-8 div.sk-text-repr-fallback {display: none;}</style><div id=\"sk-container-id-8\" class=\"sk-top-container\"><div class=\"sk-text-repr-fallback\"><pre>GridSearchCV(cv=3, estimator=RandomForestRegressor(), n_jobs=-1,\n",
       "             param_grid={&#x27;criterion&#x27;: [&#x27;squared_error&#x27;, &#x27;friedman_mse&#x27;,\n",
       "                                       &#x27;poisson&#x27;],\n",
       "                         &#x27;max_depth&#x27;: [10, 12, 14],\n",
       "                         &#x27;min_samples_leaf&#x27;: [1, 2, 3],\n",
       "                         &#x27;min_samples_split&#x27;: [2, 4, 6],\n",
       "                         &#x27;n_estimators&#x27;: [100, 200, 300]},\n",
       "             return_train_score=True, scoring=&#x27;r2&#x27;, verbose=5)</pre><b>In a Jupyter environment, please rerun this cell to show the HTML representation or trust the notebook. <br />On GitHub, the HTML representation is unable to render, please try loading this page with nbviewer.org.</b></div><div class=\"sk-container\" hidden><div class=\"sk-item sk-dashed-wrapped\"><div class=\"sk-label-container\"><div class=\"sk-label sk-toggleable\"><input class=\"sk-toggleable__control sk-hidden--visually\" id=\"sk-estimator-id-71\" type=\"checkbox\" ><label for=\"sk-estimator-id-71\" class=\"sk-toggleable__label sk-toggleable__label-arrow\">GridSearchCV</label><div class=\"sk-toggleable__content\"><pre>GridSearchCV(cv=3, estimator=RandomForestRegressor(), n_jobs=-1,\n",
       "             param_grid={&#x27;criterion&#x27;: [&#x27;squared_error&#x27;, &#x27;friedman_mse&#x27;,\n",
       "                                       &#x27;poisson&#x27;],\n",
       "                         &#x27;max_depth&#x27;: [10, 12, 14],\n",
       "                         &#x27;min_samples_leaf&#x27;: [1, 2, 3],\n",
       "                         &#x27;min_samples_split&#x27;: [2, 4, 6],\n",
       "                         &#x27;n_estimators&#x27;: [100, 200, 300]},\n",
       "             return_train_score=True, scoring=&#x27;r2&#x27;, verbose=5)</pre></div></div></div><div class=\"sk-parallel\"><div class=\"sk-parallel-item\"><div class=\"sk-item\"><div class=\"sk-label-container\"><div class=\"sk-label sk-toggleable\"><input class=\"sk-toggleable__control sk-hidden--visually\" id=\"sk-estimator-id-72\" type=\"checkbox\" ><label for=\"sk-estimator-id-72\" class=\"sk-toggleable__label sk-toggleable__label-arrow\">estimator: RandomForestRegressor</label><div class=\"sk-toggleable__content\"><pre>RandomForestRegressor()</pre></div></div></div><div class=\"sk-serial\"><div class=\"sk-item\"><div class=\"sk-estimator sk-toggleable\"><input class=\"sk-toggleable__control sk-hidden--visually\" id=\"sk-estimator-id-73\" type=\"checkbox\" ><label for=\"sk-estimator-id-73\" class=\"sk-toggleable__label sk-toggleable__label-arrow\">RandomForestRegressor</label><div class=\"sk-toggleable__content\"><pre>RandomForestRegressor()</pre></div></div></div></div></div></div></div></div></div></div>"
      ],
      "text/plain": [
       "GridSearchCV(cv=3, estimator=RandomForestRegressor(), n_jobs=-1,\n",
       "             param_grid={'criterion': ['squared_error', 'friedman_mse',\n",
       "                                       'poisson'],\n",
       "                         'max_depth': [10, 12, 14],\n",
       "                         'min_samples_leaf': [1, 2, 3],\n",
       "                         'min_samples_split': [2, 4, 6],\n",
       "                         'n_estimators': [100, 200, 300]},\n",
       "             return_train_score=True, scoring='r2', verbose=5)"
      ]
     },
     "execution_count": 186,
     "metadata": {},
     "output_type": "execute_result"
    }
   ],
   "source": [
    "gsv.fit(X_train,y_train)"
   ]
  },
  {
   "cell_type": "code",
   "execution_count": 187,
   "id": "e00525c0-0dbf-4dd7-a383-0fb9aeb0d04d",
   "metadata": {
    "tags": []
   },
   "outputs": [
    {
     "data": {
      "text/plain": [
       "0.387361201066863"
      ]
     },
     "execution_count": 187,
     "metadata": {},
     "output_type": "execute_result"
    }
   ],
   "source": [
    "gsv.best_score_"
   ]
  },
  {
   "cell_type": "code",
   "execution_count": 188,
   "id": "fd63f77c-75ae-4cd3-b26e-05178206b4ec",
   "metadata": {
    "tags": []
   },
   "outputs": [
    {
     "data": {
      "text/plain": [
       "{'criterion': 'poisson',\n",
       " 'max_depth': 10,\n",
       " 'min_samples_leaf': 1,\n",
       " 'min_samples_split': 6,\n",
       " 'n_estimators': 200}"
      ]
     },
     "execution_count": 188,
     "metadata": {},
     "output_type": "execute_result"
    }
   ],
   "source": [
    "gsv.best_params_"
   ]
  },
  {
   "cell_type": "code",
   "execution_count": 189,
   "id": "79a88980-71f5-4951-9c0e-d3202375b0e8",
   "metadata": {
    "tags": []
   },
   "outputs": [],
   "source": [
    "import pickle"
   ]
  },
  {
   "cell_type": "code",
   "execution_count": 190,
   "id": "11eda466-b7b5-4e00-802c-0ba82c9eb0fe",
   "metadata": {
    "tags": []
   },
   "outputs": [],
   "source": [
    "pickle.dump(pipe,open('rfpipe.pkl','wb'))"
   ]
  },
  {
   "cell_type": "code",
   "execution_count": null,
   "id": "925b232a-d4cd-4df8-b1e7-72f011fac6dc",
   "metadata": {},
   "outputs": [],
   "source": []
  }
 ],
 "metadata": {
  "kernelspec": {
   "display_name": "Python 3 (ipykernel)",
   "language": "python",
   "name": "python3"
  },
  "language_info": {
   "codemirror_mode": {
    "name": "ipython",
    "version": 3
   },
   "file_extension": ".py",
   "mimetype": "text/x-python",
   "name": "python",
   "nbconvert_exporter": "python",
   "pygments_lexer": "ipython3",
   "version": "3.11.5"
  }
 },
 "nbformat": 4,
 "nbformat_minor": 5
}
